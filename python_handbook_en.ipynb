{
 "cells": [
  {
   "cell_type": "markdown",
   "id": "02cbd9b3",
   "metadata": {},
   "source": [
    "# Basic Python Programming"
   ]
  },
  {
   "cell_type": "markdown",
   "id": "4d9b8918",
   "metadata": {},
   "source": [
    "# 1. Statements: Input - Output"
   ]
  },
  {
   "cell_type": "code",
   "execution_count": 3,
   "id": "71f1f84c",
   "metadata": {},
   "outputs": [
    {
     "name": "stdout",
     "output_type": "stream",
     "text": [
      "Enter a number:4\n"
     ]
    }
   ],
   "source": [
    "# 1. INPUT DATA ---> Syntax: input(prompt) ---> prompt: a message to prompt the user\n",
    "\n",
    "x = float(input(\"Enter a number:\"))\n",
    "\n",
    "# Note: Input from the keyboard is always a string\n",
    "# The float(...) function is used to cast: string --> float"
   ]
  },
  {
   "cell_type": "code",
   "execution_count": 4,
   "id": "59b4440b",
   "metadata": {},
   "outputs": [
    {
     "name": "stdout",
     "output_type": "stream",
     "text": [
      "Hello there: Quang Anh 68\n",
      "a:4\n",
      "b:5\n",
      "4 > 5 : False\n"
     ]
    }
   ],
   "source": [
    "# 2. OUTPUT DATA\n",
    "\n",
    "print('Hello', 'there', end=':'); print(\" Quang Anh\", 68)\n",
    "\n",
    "\"\"\"\n",
    "+ In Python, when a statement ends, the interpreter automatically moves to a new line,  \n",
    "  regardless of whether the next statement is written on the same line or a new one.  \n",
    "+ If you don't want to move to the next line, use: end=':' --> it ends with ':' and continues printing.\n",
    "\"\"\"\n",
    "\n",
    "# Indentation is extremely important in Python\n",
    "# ---> When a line is indented, Python understands it as a child (nested) statement of the previous one.\n",
    "# ---> Without proper indentation, an error will occur.\n",
    "# Example:\n",
    "\n",
    "a = int(input(\"a:\"))\n",
    "b = int(input(\"b:\"))\n",
    "if a > b:\n",
    "    print(a, \">\", b, \": True\")  # indented\n",
    "else:\n",
    "    print(a, \">\", b, \": False\")  # indented"
   ]
  },
  {
   "cell_type": "markdown",
   "id": "677b1043",
   "metadata": {},
   "source": [
    "# 2. Basic Data Types"
   ]
  },
  {
   "cell_type": "code",
   "execution_count": 5,
   "id": "a17faad1",
   "metadata": {},
   "outputs": [
    {
     "name": "stdout",
     "output_type": "stream",
     "text": [
      "x = 1 --> <class 'int'>\n",
      "x = 1.0 --> <class 'float'>\n",
      "x = 1+2j --> <class 'complex'>\n",
      "x = True --> <class 'bool'>\n",
      "x = abc --> <class 'str'>\n",
      "x = None --> <class 'NoneType'>\n"
     ]
    }
   ],
   "source": [
    "# 1. BASIC DATA TYPES\n",
    "\n",
    "x = 1       # Type: int\n",
    "print(\"x = 1\", end=\" --> \"); print(type(x))\n",
    "\n",
    "x = 1.0     # Type: float\n",
    "print(\"x = 1.0\", end=\" --> \"); print(type(x))\n",
    "\n",
    "x = 1+2j    # Type: complex\n",
    "print(\"x = 1+2j\", end=\" --> \"); print(type(x))\n",
    "\n",
    "x = True    # Type: bool\n",
    "print(\"x = True\", end=\" --> \"); print(type(x))\n",
    "\n",
    "x = 'abc'   # Type: string\n",
    "print(\"x = abc\", end=\" --> \"); print(type(x))\n",
    "\n",
    "x = None    # Type: NoneType\n",
    "print(\"x = None\", end=\" --> \"); print(type(x))"
   ]
  },
  {
   "cell_type": "code",
   "execution_count": 6,
   "id": "eeeba86d",
   "metadata": {},
   "outputs": [
    {
     "name": "stdout",
     "output_type": "stream",
     "text": [
      "100200\n",
      "300\n",
      "300.0\n"
     ]
    }
   ],
   "source": [
    "# 2. TYPE CASTING / TYPE CONVERSION\n",
    "\n",
    "m = 100\n",
    "n = \"200\"\n",
    "\n",
    "print(str(m) + n)         # Convert m to string, then concatenate\n",
    "\n",
    "print(m + int(n))         # Convert n to int, then add\n",
    "\n",
    "print(float(m) + float(n)) # Convert both to float, then add"
   ]
  },
  {
   "cell_type": "markdown",
   "id": "b8e37d02",
   "metadata": {},
   "source": [
    "# 3. Arithmetic Operators"
   ]
  },
  {
   "cell_type": "code",
   "execution_count": 7,
   "id": "1abc58b6",
   "metadata": {},
   "outputs": [
    {
     "name": "stdout",
     "output_type": "stream",
     "text": [
      "Enter a:4\n",
      "Enter b:5\n",
      "4%5=4\n"
     ]
    }
   ],
   "source": [
    "# x + y ---> addition\n",
    "# x - y ---> subtraction\n",
    "# x * y ---> multiplication\n",
    "# x / y ---> division\n",
    "# x % y ---> modulo (remainder)\n",
    "# x ** y ---> exponentiation\n",
    "# x // y ---> floor division\n",
    "\n",
    "a = int(input(\"Enter a:\"))\n",
    "b = int(input(\"Enter b:\"))\n",
    "print(\"{0}%{1}={2}\".format(a, b, a % b))\n",
    "\n",
    "# --> The placeholders {0}, {1}, {2} will be replaced by a, b, and a % b respectively using the format() function"
   ]
  },
  {
   "cell_type": "markdown",
   "id": "fd239ba2",
   "metadata": {},
   "source": [
    "# 4. Comparison Operators and Logical Operators"
   ]
  },
  {
   "cell_type": "code",
   "execution_count": 8,
   "id": "3bde6073",
   "metadata": {},
   "outputs": [
    {
     "name": "stdout",
     "output_type": "stream",
     "text": [
      "x:4\n",
      "y:5\n",
      "z:2000\n",
      "4<5<2000 is True\n"
     ]
    }
   ],
   "source": [
    "# 1. COMPARISON\n",
    "# x > y\n",
    "# x < y\n",
    "# x == y --> x equals y.   Note: \"==\" is comparison\n",
    "#                                \"=\" is assignment\n",
    "# x != y --> x is not equal to y\n",
    "# x >= y\n",
    "# x <= y\n",
    "\n",
    "x = int(input(\"x:\"))\n",
    "y = int(input(\"y:\"))\n",
    "z = int(input(\"z:\"))\n",
    "print(\"{0}<{1}<{2} is {3}\".format(x, y, z, x < y < z))"
   ]
  },
  {
   "cell_type": "code",
   "execution_count": 10,
   "id": "3a89124b",
   "metadata": {},
   "outputs": [
    {
     "name": "stdout",
     "output_type": "stream",
     "text": [
      "x:5\n",
      "y:5\n",
      "z:2025\n",
      "5 < 5 and 5 < 2025: False\n",
      "not 5 > 5: True\n"
     ]
    }
   ],
   "source": [
    "# 2. LOGIC\n",
    "\n",
    "\"\"\"\n",
    "and: logical AND\n",
    "or: logical OR\n",
    "not: logical NOT --> Example: (14 > 5 == True) then (not 14 > 5 == False)\n",
    "\"\"\"\n",
    "\n",
    "x = int(input(\"x:\"))\n",
    "y = int(input(\"y:\"))\n",
    "z = int(input(\"z:\"))\n",
    "\n",
    "print(\"{0} < {1} and {2} < {3}: {4}\".format(x, y, x, z, (x < y) and (x < z)))\n",
    "print(\"not {0} > {1}: {2}\".format(x, y, not x > y))"
   ]
  },
  {
   "cell_type": "markdown",
   "id": "8a636e7e",
   "metadata": {},
   "source": [
    "# 5. Assignment Operators and Special Operators"
   ]
  },
  {
   "cell_type": "code",
   "execution_count": null,
   "id": "6d86f14c",
   "metadata": {},
   "outputs": [],
   "source": [
    "# 1. ASSIGNMENT OPERATORS\n",
    "#     a = 10     <=> a is assigned 10\n",
    "#     a += 1     <=> a = a + 1\n",
    "#     a -= 1     <=> a = a - 1\n",
    "#     a *= 10    <=> a = a * 10\n",
    "#     a /= 10    <=> a = a / 10\n",
    "#     a %= 10    <=> a = a % 10\n",
    "#     a //= 10   <=> a = a // 10\n",
    "#     a **= 10   <=> a = a ** 10\n",
    "\n",
    "# 2. BITWISE OPERATORS (Perform operations at the bit level)\n",
    "#     (~, &, |, ^, <<, >>)"
   ]
  },
  {
   "cell_type": "markdown",
   "id": "743ea019",
   "metadata": {},
   "source": [
    "# 6. Conditional (Ternary) Operator"
   ]
  },
  {
   "cell_type": "code",
   "execution_count": 11,
   "id": "ffbec7bd",
   "metadata": {},
   "outputs": [
    {
     "name": "stdout",
     "output_type": "stream",
     "text": [
      "Enter a number:5\n",
      "5 is an odd number\n"
     ]
    }
   ],
   "source": [
    "# 1. SINGLE-BRANCH STRUCTURE (I just made up the name ^.^)\n",
    "\n",
    "x = int(input(\"Enter a number:\"))\n",
    "result = \"even\" if (x % 2 == 0) else \"odd\"\n",
    "print(x, \"is an\", result, \"number\")"
   ]
  },
  {
   "cell_type": "code",
   "execution_count": 13,
   "id": "f211d79e",
   "metadata": {},
   "outputs": [
    {
     "name": "stdout",
     "output_type": "stream",
     "text": [
      "   This is my friend whenever I talk about her future husband's salary:\n",
      "Monthly income (in million VND): 15\n",
      "Salary: 15.000.000 --> Enough to live, but can’t afford to feed my mouth.\n"
     ]
    }
   ],
   "source": [
    "# 2. BRANCHING STRUCTURE (Conditional Statements)\n",
    "\n",
    "print(\"   This is my friend whenever I talk about her future husband's salary:\")\n",
    "income = int(input(\"Monthly income (in million VND): \"))\n",
    "\n",
    "if income >= 30:\n",
    "    print(\"Salary:\", income, end='.'), print(\"000.000 --> This guy is so busy making money he forgets about family.\")\n",
    "elif income >= 20:\n",
    "    print(\"Salary:\", income, end='.'), print(\"000.000 --> That’s too high, no way I can get someone like him.\")\n",
    "elif income >= 10:\n",
    "    print(\"Salary:\", income, end='.'), print(\"000.000 --> Enough to live, but can’t afford to feed my mouth.\")\n",
    "elif income >= 0:\n",
    "    print(\"Poor guy!\")\n",
    "else:\n",
    "    print(\"This guy is unemployed and drowning in debt.\")"
   ]
  },
  {
   "cell_type": "markdown",
   "id": "71be0ba5",
   "metadata": {},
   "source": [
    "# 7. Math Library"
   ]
  },
  {
   "cell_type": "code",
   "execution_count": 14,
   "id": "812bb797",
   "metadata": {},
   "outputs": [
    {
     "name": "stdout",
     "output_type": "stream",
     "text": [
      "1.7320508075688772\n",
      "4.0\n"
     ]
    }
   ],
   "source": [
    "# First things first — money comes first 😆\n",
    "# --> import math\n",
    "\n",
    "# 1. SOME FUNCTIONS\n",
    "\n",
    "\"\"\"\n",
    "~ math.ceil(x) --> Smallest integer greater than or equal to x  \n",
    "    Example: x = 4.5 ==> math.ceil(x) = 5\n",
    "\n",
    "~ math.floor(x) --> Largest integer less than or equal to x  \n",
    "    Example: x = 4.1 ==> math.floor(x) = 4\n",
    "\n",
    "~ math.fabs(x) --> Absolute value (returns a float)  \n",
    "~ math.exp(x)  --> e raised to the power of x (e ≈ 2.718281828)  \n",
    "~ math.log(x, y) --> Logarithm base y of x  \n",
    "~ math.pow(x, y) --> x raised to the power of y  \n",
    "~ math.sqrt(x)   --> Square root of x\n",
    "\"\"\"\n",
    "\n",
    "# 2. CONSTANT VALUES\n",
    "\n",
    "\"\"\"\n",
    "math.pi ---> brings out the lovely π  \n",
    "math.e  ---> brings out the lovely e\n",
    "\"\"\"\n",
    "\n",
    "import math\n",
    "print(math.sqrt(3))\n",
    "print(math.fabs(-4))"
   ]
  },
  {
   "cell_type": "markdown",
   "id": "7acdb34f",
   "metadata": {},
   "source": [
    "# 8. List Data Type"
   ]
  },
  {
   "cell_type": "code",
   "execution_count": null,
   "id": "7a9eae41",
   "metadata": {},
   "outputs": [],
   "source": [
    "\"\"\"\n",
    "- A sequence of ordered elements – meaning you can access elements by their position (index)\n",
    "- Declaration: use square brackets []\n",
    "\"\"\""
   ]
  },
  {
   "cell_type": "code",
   "execution_count": 15,
   "id": "c4c4890a",
   "metadata": {},
   "outputs": [
    {
     "name": "stdout",
     "output_type": "stream",
     "text": [
      "[]\n"
     ]
    }
   ],
   "source": [
    "# Create an empty list\n",
    "empty_list = []\n",
    "print(empty_list)"
   ]
  },
  {
   "cell_type": "code",
   "execution_count": 16,
   "id": "73014938",
   "metadata": {},
   "outputs": [
    {
     "name": "stdout",
     "output_type": "stream",
     "text": [
      "['Q', 'u', 'a', 'n', 'h']\n",
      "Q\n",
      "<class 'str'>\n"
     ]
    }
   ],
   "source": [
    "# Create a list object\n",
    "list1 = list(\"Quanh\")\n",
    "\n",
    "print(list1)  # Print the entire list\n",
    "\n",
    "print(list1[0])  # Access the element at index 0\n",
    "\n",
    "print(type(list1[0]))  # Check the data type of the element at index 0"
   ]
  },
  {
   "cell_type": "code",
   "execution_count": 17,
   "id": "e1287ac1",
   "metadata": {},
   "outputs": [
    {
     "name": "stdout",
     "output_type": "stream",
     "text": [
      "['red', 'green', 'blue', 'yellow']\n",
      "green\n"
     ]
    }
   ],
   "source": [
    "# Create a list with data\n",
    "colors = [\"red\", \"green\", \"blue\", \"yellow\"]\n",
    "\n",
    "print(colors)\n",
    "print(colors[1])  # Access the element at index 1\n",
    "\n",
    "# Note: Lists are ordered, indexed from 0 (left to right)"
   ]
  },
  {
   "cell_type": "code",
   "execution_count": 20,
   "id": "630949b8",
   "metadata": {},
   "outputs": [
    {
     "name": "stdout",
     "output_type": "stream",
     "text": [
      "['quanh', 'lanh', 'chanh', 'hi', 'there']\n",
      "['lanh', 'chanh']\n"
     ]
    }
   ],
   "source": [
    "# Some ways to access elements in a list\n",
    "name = [\"quanh\", \"lanh\", \"chanh\", \"hi\", \"there\"]\n",
    "\n",
    "print(name[:])      # --> get all elements\n",
    "print(name[1:3])    # --> get elements from index 1 to less than 3 [1:3) or [1:2] in Maths"
   ]
  },
  {
   "cell_type": "code",
   "execution_count": 21,
   "id": "51340cc5",
   "metadata": {},
   "outputs": [
    {
     "name": "stdout",
     "output_type": "stream",
     "text": [
      "5\n"
     ]
    }
   ],
   "source": [
    "# Number of elements in the list\n",
    "\n",
    "print(len(name))"
   ]
  },
  {
   "cell_type": "code",
   "execution_count": 22,
   "id": "ef774cec",
   "metadata": {},
   "outputs": [
    {
     "name": "stdout",
     "output_type": "stream",
     "text": [
      "['quanh', 'lanh', 'chanh', 'hi', 'there', 'like']\n",
      "['quanh', 'lanh', 'chanh', 'hi', 'there', 'like', 'eating']\n"
     ]
    }
   ],
   "source": [
    "# Add an element to the end of the list\n",
    "name = [\"quanh\", \"lanh\", \"chanh\", \"hi\", \"there\"]\n",
    "\n",
    "    # Method 1:\n",
    "name.append(\"like\")\n",
    "print(name)\n",
    "\n",
    "    # Method 2:\n",
    "name[len(name):] = [\"eating\"]\n",
    "# ---> This means the empty slice at the end of the list is replaced by the new element\n",
    "print(name)"
   ]
  },
  {
   "cell_type": "code",
   "execution_count": 23,
   "id": "53bd8b69",
   "metadata": {},
   "outputs": [
    {
     "name": "stdout",
     "output_type": "stream",
     "text": [
      "['red', 'orange', 'indigo', 'yellow', 'green']\n"
     ]
    }
   ],
   "source": [
    "# Insert an element\n",
    "colors = [\"red\", \"orange\", \"yellow\", \"green\"]\n",
    "colors.insert(2, \"indigo\")  # Insert \"indigo\" at index 2\n",
    "\n",
    "print(colors)"
   ]
  },
  {
   "cell_type": "code",
   "execution_count": 24,
   "id": "b80bcdcb",
   "metadata": {},
   "outputs": [
    {
     "name": "stdout",
     "output_type": "stream",
     "text": [
      "Count 'blue': 3\n"
     ]
    }
   ],
   "source": [
    "# Count the number of elements that satisfy a condition\n",
    "colors1 = [\"blue\", \"red\", \"purple\", \"blue\", \"blue\"]\n",
    "\n",
    "print(\"Count 'blue':\", colors1.count(\"blue\"))"
   ]
  },
  {
   "cell_type": "code",
   "execution_count": 25,
   "id": "ee0100d3",
   "metadata": {},
   "outputs": [
    {
     "name": "stdout",
     "output_type": "stream",
     "text": [
      "['red', 'purple', 'blue', 'blue']\n"
     ]
    }
   ],
   "source": [
    "# Check and remove an element (removes the first occurrence from left to right)\n",
    "colors1 = [\"blue\", \"red\", \"purple\", \"blue\", \"blue\"]\n",
    "\n",
    "if \"blue\" in colors1:\n",
    "    colors1.remove(\"blue\")\n",
    "\n",
    "print(colors1)"
   ]
  },
  {
   "cell_type": "code",
   "execution_count": 26,
   "id": "74d39bba",
   "metadata": {},
   "outputs": [
    {
     "name": "stdout",
     "output_type": "stream",
     "text": [
      "['blue', 'red', 'blue', 'blue']\n"
     ]
    }
   ],
   "source": [
    "# Remove an element by index\n",
    "colors1 = [\"blue\", \"red\", \"purple\", \"blue\", \"blue\"]\n",
    "colors1.pop(2)  # Remove the element at index 2\n",
    "\n",
    "print(colors1)"
   ]
  },
  {
   "cell_type": "code",
   "execution_count": 27,
   "id": "cc94ac3b",
   "metadata": {},
   "outputs": [
    {
     "name": "stdout",
     "output_type": "stream",
     "text": [
      "[1, 2, 3, 3, 7, 9, 10]\n",
      "[10, 9, 7, 3, 3, 2, 1]\n"
     ]
    }
   ],
   "source": [
    "# Sort in ascending order\n",
    "numbers = [1, 2, 3, 9, 3, 7, 10]\n",
    "numbers.sort()\n",
    "print(numbers)\n",
    "\n",
    "# Sort in descending order\n",
    "numbers.sort(reverse=True)\n",
    "print(numbers)"
   ]
  },
  {
   "cell_type": "code",
   "execution_count": 28,
   "id": "e9fc3367",
   "metadata": {},
   "outputs": [
    {
     "name": "stdout",
     "output_type": "stream",
     "text": [
      "[10, 7, 3, 9, 3, 2, 1]\n"
     ]
    }
   ],
   "source": [
    "# Reverse the list\n",
    "numbers = [1, 2, 3, 9, 3, 7, 10]\n",
    "numbers.reverse()\n",
    "\n",
    "print(numbers)"
   ]
  },
  {
   "cell_type": "code",
   "execution_count": null,
   "id": "8b1921f4",
   "metadata": {},
   "outputs": [],
   "source": [
    "# Clear all elements from the list\n",
    "numbers.clear()"
   ]
  },
  {
   "cell_type": "markdown",
   "id": "4d5a2889",
   "metadata": {},
   "source": [
    "# 9. For Loop"
   ]
  },
  {
   "cell_type": "code",
   "execution_count": 29,
   "id": "7f8bddc8",
   "metadata": {},
   "outputs": [
    {
     "name": "stdout",
     "output_type": "stream",
     "text": [
      "0\n",
      "1\n",
      "2\n",
      "3\n",
      "4\n",
      "5\n",
      "6\n",
      "7\n",
      "8\n",
      "9\n"
     ]
    }
   ],
   "source": [
    "\"\"\"\n",
    "    The loop runs from 0 to less than n\n",
    "    Syntax: for (variable) in range(start, end, step)\n",
    "    When only one value is given in range, Python assumes: start = 0 and step = +1\n",
    "\"\"\"\n",
    "\n",
    "n = 10\n",
    "for i in range(n):\n",
    "    print(i)"
   ]
  },
  {
   "cell_type": "code",
   "execution_count": 30,
   "id": "fdf0e853",
   "metadata": {},
   "outputs": [
    {
     "name": "stdout",
     "output_type": "stream",
     "text": [
      "Enter n: 10\n",
      "The sum from 0 to 10 is: 55\n"
     ]
    }
   ],
   "source": [
    "# Example: Calculate the sum from 0 to n\n",
    "n = int(input(\"Enter n: \"))\n",
    "total = 0\n",
    "\n",
    "for i in range(n + 1):\n",
    "    total += i\n",
    "\n",
    "print(\"The sum from 0 to\", n, \"is:\", total)"
   ]
  },
  {
   "cell_type": "code",
   "execution_count": 31,
   "id": "4347defa",
   "metadata": {},
   "outputs": [
    {
     "name": "stdout",
     "output_type": "stream",
     "text": [
      "10\n",
      "8\n",
      "6\n",
      "4\n",
      "2\n"
     ]
    }
   ],
   "source": [
    "# For loop with a custom step\n",
    "for i in range(10, 0, -2):\n",
    "    print(i)"
   ]
  },
  {
   "cell_type": "code",
   "execution_count": 32,
   "id": "b909a82a",
   "metadata": {},
   "outputs": [
    {
     "name": "stdout",
     "output_type": "stream",
     "text": [
      "red\n",
      "green\n",
      "blue\n",
      "yellow\n"
     ]
    }
   ],
   "source": [
    "# For loop to iterate over elements of a list\n",
    "colors = [\"red\", \"green\", \"blue\", \"yellow\"]\n",
    "for color in colors:\n",
    "    print(color)"
   ]
  },
  {
   "cell_type": "code",
   "execution_count": 33,
   "id": "fea95a74",
   "metadata": {},
   "outputs": [
    {
     "name": "stdout",
     "output_type": "stream",
     "text": [
      "red\n",
      "green\n",
      "blue\n",
      "yellow\n"
     ]
    }
   ],
   "source": [
    "# For loop to iterate over list elements by index\n",
    "for i in range(len(colors)):\n",
    "    print(colors[i])"
   ]
  },
  {
   "cell_type": "code",
   "execution_count": 34,
   "id": "15e19fc9",
   "metadata": {},
   "outputs": [
    {
     "name": "stdout",
     "output_type": "stream",
     "text": [
      "Enter n: 5\n",
      "5 is a prime number\n"
     ]
    }
   ],
   "source": [
    "# For-else loop combined with break\n",
    "# ---> The else block is executed only if the for loop does NOT encounter a break\n",
    "# Example: Input n and check whether it is a prime number\n",
    "\n",
    "import math\n",
    "\n",
    "n = int(input(\"Enter n: \"))\n",
    "\n",
    "if n < 2:\n",
    "    print(n, \"is not a prime number\")\n",
    "else:\n",
    "    for i in range(2, int(math.sqrt(n)) + 1):\n",
    "        if n % i == 0:\n",
    "            print(n, \"is not a prime number\")\n",
    "            break\n",
    "    else:\n",
    "        print(n, \"is a prime number\")"
   ]
  },
  {
   "cell_type": "code",
   "execution_count": 35,
   "id": "e8e91290",
   "metadata": {},
   "outputs": [
    {
     "name": "stdout",
     "output_type": "stream",
     "text": [
      "Multiplication Table of 2 :\n",
      "2 x 1 = 2\n",
      "2 x 2 = 4\n",
      "2 x 3 = 6\n",
      "2 x 4 = 8\n",
      "2 x 5 = 10\n",
      "2 x 6 = 12\n",
      "2 x 7 = 14\n",
      "2 x 8 = 16\n",
      "2 x 9 = 18\n",
      "2 x 10 = 20\n",
      "Multiplication Table of 3 :\n",
      "3 x 1 = 3\n",
      "3 x 2 = 6\n",
      "3 x 3 = 9\n",
      "3 x 4 = 12\n",
      "3 x 5 = 15\n",
      "3 x 6 = 18\n",
      "3 x 7 = 21\n",
      "3 x 8 = 24\n",
      "3 x 9 = 27\n",
      "3 x 10 = 30\n"
     ]
    }
   ],
   "source": [
    "# Nested for loop\n",
    "# Exercise: Print the multiplication tables from 2 to 3\n",
    "\n",
    "for i in range(2, 4, 1):\n",
    "    print(\"Multiplication Table of\", i, \":\")\n",
    "    for j in range(1, 11, 1):\n",
    "        print(\"{0} x {1} = {2}\".format(i, j, i * j))"
   ]
  },
  {
   "cell_type": "markdown",
   "id": "e15437ae",
   "metadata": {},
   "source": [
    "# 10. String Data Type"
   ]
  },
  {
   "cell_type": "code",
   "execution_count": 36,
   "id": "4062a6ef",
   "metadata": {},
   "outputs": [
    {
     "name": "stdout",
     "output_type": "stream",
     "text": [
      "Hello Quanh\n"
     ]
    }
   ],
   "source": [
    "# String concatenation\n",
    "s1 = \"Hello\"\n",
    "s2 = \"Quanh\"\n",
    "s3 = s1 + \" \" + s2\n",
    "print(s3)"
   ]
  },
  {
   "cell_type": "code",
   "execution_count": 37,
   "id": "efb5c476",
   "metadata": {},
   "outputs": [
    {
     "name": "stdout",
     "output_type": "stream",
     "text": [
      "\n",
      "line1\n",
      "line2\n",
      "line3\n",
      "\n"
     ]
    }
   ],
   "source": [
    "# Create a multi-line string\n",
    "multi_line_string = '''\n",
    "line1\n",
    "line2\n",
    "line3\n",
    "'''\n",
    "print(multi_line_string)"
   ]
  },
  {
   "cell_type": "code",
   "execution_count": 38,
   "id": "15120b97",
   "metadata": {},
   "outputs": [
    {
     "name": "stdout",
     "output_type": "stream",
     "text": [
      "I LOVE YOU \n",
      "I LOVE YOU \n",
      "I LOVE YOU \n",
      "I LOVE YOU \n",
      "I LOVE YOU \n",
      "I LOVE YOU \n",
      "I LOVE YOU \n",
      "I LOVE YOU \n",
      "I LOVE YOU \n",
      "I LOVE YOU \n",
      "\n"
     ]
    }
   ],
   "source": [
    "# Repeat a string\n",
    "love = \"I LOVE YOU \\n\"  # --> \\n = newline\n",
    "love_10 = love * 10\n",
    "print(love_10)"
   ]
  },
  {
   "cell_type": "code",
   "execution_count": 40,
   "id": "6049fbbb",
   "metadata": {},
   "outputs": [
    {
     "name": "stdout",
     "output_type": "stream",
     "text": [
      "s2 is a substring of s1\n",
      "s3 is not a substring of s1\n"
     ]
    }
   ],
   "source": [
    "# Check if a substring exists in another string\n",
    "s1 = \"Hello Quanh\"\n",
    "s2 = \"Quanh\"\n",
    "s3 = \"HAHA\"\n",
    "\n",
    "if s2 in s1:\n",
    "    print(\"s2 is a substring of s1\")\n",
    "else:\n",
    "    print(\"s2 is not a substring of s1\")\n",
    "\n",
    "if s3 in s1:\n",
    "    print(\"s3 is a substring of s1\")\n",
    "else:\n",
    "    print(\"s3 is not a substring of s1\")"
   ]
  },
  {
   "cell_type": "code",
   "execution_count": 41,
   "id": "2a3f360a",
   "metadata": {},
   "outputs": [
    {
     "name": "stdout",
     "output_type": "stream",
     "text": [
      "The weather is so nice today\n"
     ]
    }
   ],
   "source": [
    "# Capitalize the first letter of the string\n",
    "s = \"the weather is so nice today\"\n",
    "s = str.capitalize(s)\n",
    "print(s)"
   ]
  },
  {
   "cell_type": "code",
   "execution_count": 42,
   "id": "a49eda03",
   "metadata": {},
   "outputs": [
    {
     "name": "stdout",
     "output_type": "stream",
     "text": [
      "THE WEATHER IS SO NICE TODAY!\n"
     ]
    }
   ],
   "source": [
    "# Convert the entire string to uppercase\n",
    "s = \"the weather is so nice today!\"\n",
    "s = str.upper(s)\n",
    "print(s)"
   ]
  },
  {
   "cell_type": "code",
   "execution_count": 44,
   "id": "f7d4e67e",
   "metadata": {},
   "outputs": [
    {
     "name": "stdout",
     "output_type": "stream",
     "text": [
      "the weather is so nice today!\n"
     ]
    }
   ],
   "source": [
    "# Convert the entire string to lowercase\n",
    "s = \"THE WEATHER IS SO NICE TODAY!\"\n",
    "s = str.lower(s)\n",
    "print(s)"
   ]
  },
  {
   "cell_type": "code",
   "execution_count": 45,
   "id": "b92d5209",
   "metadata": {},
   "outputs": [
    {
     "name": "stdout",
     "output_type": "stream",
     "text": [
      "7\n",
      "2\n"
     ]
    }
   ],
   "source": [
    "# Find and count the number of substring occurrences\n",
    "s = \"I'm so handsome! Do you think I'm handsome too?\"\n",
    "\n",
    "# -> Find algorithm:\n",
    "print(s.find(\"handsome\"))  \n",
    "# Case 1: If found, returns the index of the first character (in this case = 7)\n",
    "# Case 2: If not found, returns -1\n",
    "\n",
    "# -> Count algorithm:\n",
    "print(s.count(\"handsome\"))"
   ]
  },
  {
   "cell_type": "code",
   "execution_count": 46,
   "id": "e36d2fb4",
   "metadata": {},
   "outputs": [
    {
     "name": "stdout",
     "output_type": "stream",
     "text": [
      "I'm so good-looking! Do you think I'm good-looking too?\n"
     ]
    }
   ],
   "source": [
    "# Replace a substring in a string\n",
    "sentence = \"I'm so handsome! Do you think I'm handsome too?\"\n",
    "sentence = sentence.replace(\"handsome\", \"good-looking\")  # --> sentence.replace(old, new)\n",
    "print(sentence)"
   ]
  },
  {
   "cell_type": "code",
   "execution_count": 47,
   "id": "1ab9b27b",
   "metadata": {},
   "outputs": [
    {
     "name": "stdout",
     "output_type": "stream",
     "text": [
      "[\"I'm\", 'so', 'handsome!', 'Do', 'you', 'think', \"I'm\", 'handsome?']\n"
     ]
    }
   ],
   "source": [
    "# Split a string into a list\n",
    "sentence = \"I'm so handsome! Do you think I'm handsome?\"\n",
    "word_list = sentence.split(\" \")  # --> sentence.split(\"delimiter character\")\n",
    "print(word_list)"
   ]
  },
  {
   "cell_type": "code",
   "execution_count": 48,
   "id": "1c0b7595",
   "metadata": {},
   "outputs": [
    {
     "name": "stdout",
     "output_type": "stream",
     "text": [
      "I + You = Love\n"
     ]
    }
   ],
   "source": [
    "# format() is a method of the string class\n",
    "print(\"{0} + {1} = {2}\".format(\"I\", \"You\", \"Love\"))"
   ]
  },
  {
   "cell_type": "code",
   "execution_count": 49,
   "id": "b76e15cb",
   "metadata": {},
   "outputs": [
    {
     "name": "stdout",
     "output_type": "stream",
     "text": [
      "I'm so handsome!\n"
     ]
    }
   ],
   "source": [
    "# Extract a substring (slice)\n",
    "sentence = \"I'm so handsome! Do you think I'm handsome?\"\n",
    "print(sentence[0:16])  # --> get characters from index 0 up to (but not including) 16"
   ]
  },
  {
   "cell_type": "markdown",
   "id": "10b68d70",
   "metadata": {},
   "source": [
    "# 11. While Loop"
   ]
  },
  {
   "cell_type": "code",
   "execution_count": 50,
   "id": "f749c1a2",
   "metadata": {},
   "outputs": [
    {
     "name": "stdout",
     "output_type": "stream",
     "text": [
      "Enter n (n > 0): -1\n",
      " Please enter again.\n",
      "Enter n (n > 0): -3\n",
      " Please enter again.\n",
      "Enter n (n > 0): 4\n",
      " That's OK!\n"
     ]
    }
   ],
   "source": [
    "# Use 'for' when the number of iterations is known.\n",
    "# Use 'while' when the number of iterations is unknown.\n",
    "# Example: Ask the user to enter a number greater than 0. If the input is invalid, keep asking.\n",
    "\n",
    "n = -1\n",
    "while n <= 0:\n",
    "    n = int(input(\"Enter n (n > 0): \"))\n",
    "    if n <= 0:\n",
    "        print(\" Please enter again.\")\n",
    "    else:\n",
    "        print(\" That's OK!\")"
   ]
  },
  {
   "cell_type": "code",
   "execution_count": 51,
   "id": "132974be",
   "metadata": {},
   "outputs": [
    {
     "name": "stdout",
     "output_type": "stream",
     "text": [
      "Method 1 - Manual thinking:\n",
      "Enter an integer > 0: 50\n",
      "The binary representation of 50 is: 110010\n",
      " \n",
      "Method 2 - Using built-in function:\n",
      "Enter an integer > 0: 50\n",
      "The binary representation of 50 is: 110010\n"
     ]
    }
   ],
   "source": [
    "# Exercise: Convert a decimal number to binary\n",
    "\n",
    "# Method 1: Manual logic\n",
    "print(\"Method 1 - Manual thinking:\")\n",
    "\n",
    "m = int(input(\"Enter an integer > 0: \"))\n",
    "temp = m\n",
    "binary_string = \"\"\n",
    "\n",
    "while m > 0:\n",
    "    binary_string = str(m % 2) + binary_string\n",
    "    m = m // 2\n",
    "\n",
    "print(\"The binary representation of\", temp, \"is:\", binary_string)\n",
    "print(\" \")\n",
    "\n",
    "# Method 2: Using built-in function\n",
    "print(\"Method 2 - Using built-in function:\")\n",
    "\n",
    "number = int(input(\"Enter an integer > 0: \"))\n",
    "binary_result = bin(number)[2:]\n",
    "\n",
    "# bin(...) converts decimal to binary (bin stands for binary).\n",
    "# However, Python adds the prefix '0b' to indicate binary format.\n",
    "# --> To remove it, we use [2:] to slice off the first two characters.\n",
    "\n",
    "print(\"The binary representation of\", number, \"is:\", binary_result)"
   ]
  },
  {
   "cell_type": "markdown",
   "id": "a4f91a09",
   "metadata": {},
   "source": [
    "# 12. The Break and Continue Statements"
   ]
  },
  {
   "cell_type": "code",
   "execution_count": 52,
   "id": "ea69cf42",
   "metadata": {},
   "outputs": [
    {
     "name": "stdout",
     "output_type": "stream",
     "text": [
      "0\n",
      "1\n",
      "2\n",
      "3\n",
      "4\n",
      "5\n"
     ]
    }
   ],
   "source": [
    "# 1. break: Terminates the loop that *contains* it.\n",
    "# If used in nested loops, it only breaks the innermost loop that contains it.\n",
    "\n",
    "# Example: Print numbers from 0 to 5; stop the loop if the number is greater than 5\n",
    "for i in range(10):\n",
    "    if i > 5:\n",
    "        break\n",
    "    print(i)"
   ]
  },
  {
   "cell_type": "code",
   "execution_count": 53,
   "id": "e42fc276",
   "metadata": {},
   "outputs": [
    {
     "name": "stdout",
     "output_type": "stream",
     "text": [
      "0\n",
      "2\n",
      "4\n",
      "6\n",
      "8\n",
      "10\n"
     ]
    }
   ],
   "source": [
    "# 2. continue: Skips the remaining code in the current loop iteration\n",
    "\n",
    "# Example: Print even numbers from 1 to 10\n",
    "for i in range(11):\n",
    "    if i % 2 != 0:\n",
    "        continue\n",
    "    print(i)"
   ]
  },
  {
   "cell_type": "markdown",
   "id": "f116ccc7",
   "metadata": {},
   "source": [
    "# 13. TUPLE Data Type"
   ]
  },
  {
   "cell_type": "code",
   "execution_count": 54,
   "id": "ba11912c",
   "metadata": {},
   "outputs": [
    {
     "name": "stdout",
     "output_type": "stream",
     "text": [
      "(0, 'quanh', '2', 'hello')\n"
     ]
    }
   ],
   "source": [
    "\"\"\"\n",
    "- A tuple is an ordered collection of elements, similar to a list.\n",
    "- The difference is that the values in a tuple cannot be changed (immutable).\n",
    "- Both tuples and lists can contain duplicate values (unlike sets).\n",
    "- Syntax: use parentheses ()\n",
    "Example: \n",
    "    list = [0, 1, 2, 5, 5]\n",
    "    tuple = (0, 1, 2, 4, 4)\n",
    "\"\"\"\n",
    "\n",
    "my_tuple = (0, \"quanh\", \"2\", \"hello\")\n",
    "print(my_tuple)"
   ]
  },
  {
   "cell_type": "code",
   "execution_count": 55,
   "id": "0784ccad",
   "metadata": {},
   "outputs": [
    {
     "ename": "TypeError",
     "evalue": "'tuple' object does not support item assignment",
     "output_type": "error",
     "traceback": [
      "\u001b[0;31m---------------------------------------------------------------------------\u001b[0m",
      "\u001b[0;31mTypeError\u001b[0m                                 Traceback (most recent call last)",
      "Cell \u001b[0;32mIn[55], line 3\u001b[0m\n\u001b[1;32m      1\u001b[0m \u001b[38;5;66;03m# Cannot modify values in a tuple\u001b[39;00m\n\u001b[1;32m      2\u001b[0m my_tuple \u001b[38;5;241m=\u001b[39m (\u001b[38;5;241m3\u001b[39m, \u001b[38;5;124m\"\u001b[39m\u001b[38;5;124mquanh\u001b[39m\u001b[38;5;124m\"\u001b[39m, \u001b[38;5;124m\"\u001b[39m\u001b[38;5;124m2\u001b[39m\u001b[38;5;124m\"\u001b[39m, \u001b[38;5;124m\"\u001b[39m\u001b[38;5;124mhello\u001b[39m\u001b[38;5;124m\"\u001b[39m)\n\u001b[0;32m----> 3\u001b[0m \u001b[43mmy_tuple\u001b[49m\u001b[43m[\u001b[49m\u001b[38;5;241;43m0\u001b[39;49m\u001b[43m]\u001b[49m \u001b[38;5;241m=\u001b[39m \u001b[38;5;124m\"\u001b[39m\u001b[38;5;124mlemon\u001b[39m\u001b[38;5;124m\"\u001b[39m  \u001b[38;5;66;03m# ---> Error\u001b[39;00m\n",
      "\u001b[0;31mTypeError\u001b[0m: 'tuple' object does not support item assignment"
     ]
    }
   ],
   "source": [
    "# Cannot modify values in a tuple\n",
    "my_tuple = (3, \"quanh\", \"2\", \"hello\")\n",
    "my_tuple[0] = \"lemon\"  # ---> Error"
   ]
  },
  {
   "cell_type": "code",
   "execution_count": 56,
   "id": "bdffb42b",
   "metadata": {},
   "outputs": [
    {
     "name": "stdout",
     "output_type": "stream",
     "text": [
      "quanh\n",
      "(5, 'quanh')\n"
     ]
    }
   ],
   "source": [
    "# Print elements\n",
    "my_tuple = (5, \"quanh\", \"2\", \"hello\")\n",
    "print(my_tuple[1])      # Output: quanh\n",
    "print(my_tuple[0:2])    # Output: (5, 'quanh')"
   ]
  },
  {
   "cell_type": "code",
   "execution_count": 57,
   "id": "7405c05c",
   "metadata": {},
   "outputs": [
    {
     "name": "stdout",
     "output_type": "stream",
     "text": [
      "5 - Data type: <class 'int'>\n",
      "quanh - Data type: <class 'str'>\n",
      "2 - Data type: <class 'str'>\n",
      "hello - Data type: <class 'str'>\n"
     ]
    }
   ],
   "source": [
    "# Use for-loop to print each element\n",
    "for i in my_tuple:\n",
    "    print(i, end=\" - Data type: \")\n",
    "    print(type(i))"
   ]
  },
  {
   "cell_type": "code",
   "execution_count": 58,
   "id": "aef19a85",
   "metadata": {},
   "outputs": [
    {
     "name": "stdout",
     "output_type": "stream",
     "text": [
      "(1, 2, 3, 2, 3, 4, 5, 6, 7)\n"
     ]
    }
   ],
   "source": [
    "# Concatenating multiple tuples\n",
    "y = (1, 2, 3) + (2, 3, 4) + (5, 6, 7)\n",
    "print(y)"
   ]
  },
  {
   "cell_type": "code",
   "execution_count": 59,
   "id": "d3bfc6d4",
   "metadata": {},
   "outputs": [
    {
     "name": "stdout",
     "output_type": "stream",
     "text": [
      "('LOVE', 'LOVE', 'LOVE')\n"
     ]
    }
   ],
   "source": [
    "# Multiply a tuple\n",
    "y = (\"LOVE\",) * 3\n",
    "print(y)"
   ]
  },
  {
   "cell_type": "code",
   "execution_count": 60,
   "id": "03ce93de",
   "metadata": {},
   "outputs": [
    {
     "name": "stdout",
     "output_type": "stream",
     "text": [
      "False\n",
      "True\n"
     ]
    }
   ],
   "source": [
    "# Check if an element exists in a tuple\n",
    "fruits = (\"orange\", \"tangerine\", \"mango\", \"apple\")\n",
    "print(\"xoai\" in fruits)   # False - 'xoai' is not in the tuple\n",
    "print(\"orange\" in fruits) # True  - 'orange' is in the tuple"
   ]
  },
  {
   "cell_type": "code",
   "execution_count": 61,
   "id": "cfd35910",
   "metadata": {},
   "outputs": [
    {
     "name": "stdout",
     "output_type": "stream",
     "text": [
      "4\n"
     ]
    }
   ],
   "source": [
    "# len() function\n",
    "fruits = (\"orange\", \"tangerine\", \"mango\", \"apple\")\n",
    "print(len(fruits))"
   ]
  },
  {
   "cell_type": "code",
   "execution_count": 62,
   "id": "93674d5b",
   "metadata": {},
   "outputs": [
    {
     "name": "stdout",
     "output_type": "stream",
     "text": [
      "2\n"
     ]
    }
   ],
   "source": [
    "# Count\n",
    "fruits = (\"orange\", \"orange\", \"tangerine\", \"mango\", \"apple\")\n",
    "print(fruits.count(\"orange\"))"
   ]
  },
  {
   "cell_type": "code",
   "execution_count": 63,
   "id": "e5d02336",
   "metadata": {},
   "outputs": [
    {
     "name": "stdout",
     "output_type": "stream",
     "text": [
      "jacket\n",
      "shirt\n",
      "22\n"
     ]
    }
   ],
   "source": [
    "# Min, Max, Sum\n",
    "clothes = (\"shirt\", \"pants\", \"jacket\")\n",
    "print(min(clothes)) \n",
    "print(max(clothes))\n",
    "\n",
    "scores = (1, 2, 10, 9)\n",
    "print(sum(scores))"
   ]
  },
  {
   "cell_type": "code",
   "execution_count": 64,
   "id": "7d5f7db8",
   "metadata": {},
   "outputs": [
    {
     "name": "stdout",
     "output_type": "stream",
     "text": [
      "['apple', 'mango', 'orange', 'orange', 'tangerine']\n"
     ]
    }
   ],
   "source": [
    "# Sort a tuple and convert to a list\n",
    "fruits = (\"orange\", \"orange\", \"tangerine\", \"mango\", \"apple\")\n",
    "list_fruits = sorted(fruits)\n",
    "print(list_fruits)"
   ]
  },
  {
   "cell_type": "markdown",
   "id": "7685f65a",
   "metadata": {},
   "source": [
    "# 14. Set Data Type"
   ]
  },
  {
   "cell_type": "code",
   "execution_count": 65,
   "id": "217143bd",
   "metadata": {},
   "outputs": [
    {
     "name": "stdout",
     "output_type": "stream",
     "text": [
      "{'Physics', 'Chemistry', 'Math'}\n",
      "{1, 3, 4, 5, 9}\n"
     ]
    }
   ],
   "source": [
    "\"\"\"\n",
    "- A set is a collection that does not support indexing (you cannot access items by position), does not\n",
    "    allow duplicate values, and is immutable in terms of individual items.\n",
    "  --> It’s useful for storing things like ID numbers, license plates, phone numbers, etc.\n",
    "- When data is added to a set, Python automatically removes duplicates and the order is not guaranteed.\n",
    "- However, you can still add and remove items from a set.\n",
    "- Declaration syntax: {}\n",
    "\"\"\"\n",
    "\n",
    "# Create a new set\n",
    "subjects = {\"Math\", \"Physics\", \"Chemistry\"}\n",
    "print(subjects)\n",
    "\n",
    "numbers = {1, 5, 4, 3, 9}\n",
    "print(numbers)"
   ]
  },
  {
   "cell_type": "code",
   "execution_count": 66,
   "id": "ede364da",
   "metadata": {},
   "outputs": [
    {
     "name": "stdout",
     "output_type": "stream",
     "text": [
      "Physics\n",
      "Chemistry\n",
      "Math\n"
     ]
    }
   ],
   "source": [
    "# Iterate over elements in a set\n",
    "for subject in subjects:\n",
    "    print(subject)"
   ]
  },
  {
   "cell_type": "code",
   "execution_count": 67,
   "id": "6e5ea188",
   "metadata": {},
   "outputs": [
    {
     "name": "stdout",
     "output_type": "stream",
     "text": [
      "{'Physics', 'Chemistry', 'English', 'Math'}\n",
      "{'Reading books', 'Physics', 'Spending time with family', 'Chemistry', 'English', 'Math'}\n",
      "{'better', 'Chemistry', 'English', 'soft skills', 'Physics', 'Math'}\n"
     ]
    }
   ],
   "source": [
    "# Add elements to a set\n",
    "subjects = {\"Math\", \"Physics\", \"Chemistry\"}\n",
    "subjects.add(\"English\")\n",
    "print(subjects)\n",
    "\n",
    "# *****\n",
    "extra = {\"Reading books\", \"Spending time with family\"}\n",
    "extra.update(subjects)\n",
    "print(extra)\n",
    "\n",
    "# *****\n",
    "other_list = [\"soft skills\", \"better\", \"better\"]\n",
    "subjects.update(other_list)\n",
    "print(subjects)"
   ]
  },
  {
   "cell_type": "code",
   "execution_count": 68,
   "id": "5e1c49b8",
   "metadata": {},
   "outputs": [
    {
     "name": "stdout",
     "output_type": "stream",
     "text": [
      "{'better', 'Chemistry', 'English', 'soft skills', 'Physics'}\n",
      "{'better', 'Chemistry', 'English', 'soft skills', 'Physics'}\n"
     ]
    }
   ],
   "source": [
    "# Remove elements from a set\n",
    "\n",
    "# 1. remove() --> removes the item; throws an error if the item is not found\n",
    "subjects.remove(\"Math\")\n",
    "print(subjects)\n",
    "\n",
    "# 2. discard() --> removes the item; does nothing if the item is not found\n",
    "subjects.discard(\"Biology\")\n",
    "print(subjects)\n",
    "\n",
    "# 3. pop() --> removes and returns an arbitrary element (usually the first one internally)\n",
    "# 4. clear() --> removes all elements from the set\n",
    "# 5. del() --> deletes the entire set (the variable is removed completely)"
   ]
  },
  {
   "cell_type": "markdown",
   "id": "8ee1124c",
   "metadata": {},
   "source": [
    "# Lucky Draw Exercise (Using Set)"
   ]
  },
  {
   "cell_type": "code",
   "execution_count": 69,
   "id": "892f58db",
   "metadata": {},
   "outputs": [
    {
     "name": "stdout",
     "output_type": "stream",
     "text": [
      "\n",
      "Lucky Draw Program - Winning Phone Number\n",
      "                 -------Menu-------   \n",
      "1 - Add a phone number to the draw box\n",
      "2 - Remove a phone number from the draw box\n",
      "3 - Randomly draw a winning phone number\n",
      "4 - Exit the program\n",
      "Note: Please select a function by number.\n",
      "\n",
      "\n",
      "Enter your choice: 3\n",
      "⚠️ The draw box is empty. Please add some numbers first.\n",
      "\n",
      "Enter your choice: 1\n",
      "---> Enter the phone number to add: 0123\n",
      "Current draw box:  {'0123'}\n",
      "\n",
      "Enter your choice: 1\n",
      "---> Enter the phone number to add: 0345\n",
      "Current draw box:  {'0345', '0123'}\n",
      "\n",
      "Enter your choice: 1\n",
      "---> Enter the phone number to add: 0987\n",
      "Current draw box:  {'0345', '0123', '0987'}\n",
      "\n",
      "Enter your choice: 3\n",
      "🎉 Congratulations! Phone number (0345) has won the prize! 🎉\n",
      "==> The number (0345) has been removed from the draw box.\n",
      "Current draw box:  {'0123', '0987'}\n",
      "\n",
      "Enter your choice: 2\n",
      "---> Enter the phone number to remove: 0123\n",
      "Current draw box:  {'0987'}\n",
      "\n",
      "Enter your choice: 4\n",
      "🎯 Lucky draw program ended!\n"
     ]
    }
   ],
   "source": [
    "\"\"\"\n",
    "Exercise:\n",
    "    Build a lucky draw program with the following features:\n",
    "        1. Add a phone number to the draw box\n",
    "        2. Remove a phone number from the draw box\n",
    "        3. Randomly select a winning phone number\n",
    "    --> Like a lottery system :))\n",
    "\"\"\"\n",
    "import random\n",
    "\n",
    "draw_box = set()\n",
    "\n",
    "print(\"\")\n",
    "print(\"Lucky Draw Program - Winning Phone Number\")\n",
    "print(\"                 -------Menu-------   \")\n",
    "print(\"1 - Add a phone number to the draw box\")\n",
    "print(\"2 - Remove a phone number from the draw box\")\n",
    "print(\"3 - Randomly draw a winning phone number\")\n",
    "print(\"4 - Exit the program\")\n",
    "print(\"Note: Please select a function by number.\")\n",
    "print(\"\")\n",
    "\n",
    "while True:\n",
    "    print(\"\")\n",
    "    choice = int(input(\"Enter your choice: \"))\n",
    "    \n",
    "    if choice == 1:\n",
    "        phone = input(\"---> Enter the phone number to add: \")\n",
    "        draw_box.add(phone)\n",
    "        print(\"Current draw box: \", draw_box)\n",
    "    \n",
    "    elif choice == 2:\n",
    "        phone = input(\"---> Enter the phone number to remove: \")\n",
    "        draw_box.discard(phone)\n",
    "        print(\"Current draw box: \", draw_box)\n",
    "    \n",
    "    elif choice == 3:\n",
    "        if not draw_box:\n",
    "            print(\"⚠️ The draw box is empty. Please add some numbers first.\")\n",
    "            continue\n",
    "        \n",
    "        i = random.randint(1, len(draw_box))\n",
    "        j = 1\n",
    "        for x in draw_box:\n",
    "            if j == i:\n",
    "                break\n",
    "            j += 1\n",
    "        \n",
    "        print(f\"🎉 Congratulations! Phone number ({x}) has won the prize! 🎉\")\n",
    "        draw_box.discard(x)\n",
    "        print(f\"==> The number ({x}) has been removed from the draw box.\")\n",
    "        print(\"Current draw box: \", draw_box)\n",
    "    \n",
    "    elif choice == 4:\n",
    "        print(\"🎯 Lucky draw program ended!\")\n",
    "        break\n",
    "    \n",
    "    else:\n",
    "        print(f\"{choice} is not a valid option in the menu.\")"
   ]
  },
  {
   "cell_type": "markdown",
   "id": "4f54baeb",
   "metadata": {},
   "source": [
    "# 15. Dictionary Data Type"
   ]
  },
  {
   "cell_type": "code",
   "execution_count": 70,
   "id": "0bc67305",
   "metadata": {},
   "outputs": [
    {
     "name": "stdout",
     "output_type": "stream",
     "text": [
      "{'FullName': 'Nguyen Van A', 'Class': 'A3', 'GPA': 9.5}\n",
      "Nguyen Van A\n",
      "9.5\n"
     ]
    }
   ],
   "source": [
    "\"\"\"\n",
    "    Dictionary is used to store data values in key:value pairs.\n",
    "    It is an ordered, mutable collection that does not allow duplicate keys.\n",
    "    Since Python version 3.7, dictionaries maintain insertion order.\n",
    "    Declaration syntax: {key:value}\n",
    "\"\"\"\n",
    "\n",
    "# Example:\n",
    "student = {\n",
    "    \"FullName\": \"Nguyen Van A\",\n",
    "    \"Class\": \"A3\",\n",
    "    \"GPA\": 9.5\n",
    "}\n",
    "\n",
    "print(student)\n",
    "print(student[\"FullName\"])  # --> student[key] -> retrieves the value of that key.\n",
    "print(student[\"GPA\"])       # Note: you cannot use student[value]"
   ]
  },
  {
   "cell_type": "code",
   "execution_count": 71,
   "id": "5f13abab",
   "metadata": {},
   "outputs": [
    {
     "name": "stdout",
     "output_type": "stream",
     "text": [
      "A3\n"
     ]
    }
   ],
   "source": [
    "# Using get() to retrieve a value\n",
    "print(student.get(\"Class\"))"
   ]
  },
  {
   "cell_type": "code",
   "execution_count": 72,
   "id": "cff2bbae",
   "metadata": {},
   "outputs": [
    {
     "name": "stdout",
     "output_type": "stream",
     "text": [
      "{'FullName': 'Le Van B', 'Class': 'A1', 'GPA': 9.5, 'Math': 9, 'Literature': 9}\n"
     ]
    }
   ],
   "source": [
    "# Update values & Add new values\n",
    "\n",
    "# Method 1: Directly key = value (can update existing or add a new key-value pair)\n",
    "student[\"Class\"] = \"A1\"\n",
    "\n",
    "# Method 2: Use update (can update multiple values)\n",
    "student.update({\"FullName\": \"Le Van B\", \"Math\": 9, \"Literature\": 9})\n",
    "print(student)"
   ]
  },
  {
   "cell_type": "code",
   "execution_count": 73,
   "id": "af31668d",
   "metadata": {},
   "outputs": [
    {
     "name": "stdout",
     "output_type": "stream",
     "text": [
      "{'FullName': 'Nguyen Van A', 'AvgScore': 9.5, 'Math': 9, 'PlaceOfBirth': 'Earth'}\n",
      "{'FullName': 'Nguyen Van A', 'AvgScore': 9.5, 'Math': 9}\n",
      "{'FullName': 'Nguyen Van A', 'AvgScore': 9.5}\n"
     ]
    }
   ],
   "source": [
    "# Delete items\n",
    "student = {\n",
    "    \"FullName\": \"Nguyen Van A\",\n",
    "    \"Class\": \"A3\",\n",
    "    \"AvgScore\": 9.5, \n",
    "    \"Math\": 9,\n",
    "    \"PlaceOfBirth\": \"Earth\"\n",
    "}\n",
    "\n",
    "# Method 1: pop()\n",
    "student.pop(\"Class\")\n",
    "print(student)\n",
    "\n",
    "# Method 2: popitem()  --> Delete the last item\n",
    "student.popitem()\n",
    "print(student)\n",
    "\n",
    "# Method 3: del() (short for delete)\n",
    "del student[\"Math\"]\n",
    "print(student)"
   ]
  },
  {
   "cell_type": "code",
   "execution_count": null,
   "id": "a3c41d32",
   "metadata": {},
   "outputs": [],
   "source": [
    "# Other delete commands\n",
    "\n",
    "    # 1. delete variables using pop()\n",
    "    # --> Example: student.pop() --> deletes the student variable\n",
    "\n",
    "    # 2. clear using clear()\n",
    "    # --> Example: student.clear() --> clears the student variable"
   ]
  },
  {
   "cell_type": "code",
   "execution_count": 74,
   "id": "3f10c310",
   "metadata": {},
   "outputs": [
    {
     "name": "stdout",
     "output_type": "stream",
     "text": [
      "Nguyen Van A\n",
      "A3\n",
      "9.5\n",
      "9\n",
      "Garbage dump\n",
      "***********\n",
      "FullName Nguyen Van A\n",
      "Class A3\n",
      "AvgScore 9.5\n",
      "Math 9\n",
      "PlaceOfBirth Garbage dump\n"
     ]
    }
   ],
   "source": [
    "# Combined with for loop\n",
    "student = {\n",
    "    \"FullName\": \"Nguyen Van A\",\n",
    "    \"Class\": \"A3\",\n",
    "    \"AvgScore\": 9.5, \n",
    "    \"Math\": 9,\n",
    "    \"PlaceOfBirth\": \"Garbage dump\"\n",
    "}\n",
    "\n",
    "# 1. Loop through keys\n",
    "\"\"\"\n",
    "       Example: for x in student:\n",
    "                    print(x)\n",
    "                    \n",
    "                for x in student.keys():\n",
    "                    print(x)\n",
    "\"\"\"\n",
    "\n",
    "# 2. Loop through values\n",
    "\"\"\"\n",
    "       Example: for x in student.values():\n",
    "                    print(x)\n",
    "\"\"\"\n",
    "\n",
    "# 3. Loop through key:value pairs\n",
    "\"\"\"\n",
    "       Example: for x, y in student.items():\n",
    "                    print(x, y)\n",
    "\"\"\"\n",
    "\n",
    "for x in student.values():\n",
    "    print(x)\n",
    "    \n",
    "print(\"***********\")\n",
    "\n",
    "for x, y in student.items():\n",
    "    print(x, y)"
   ]
  },
  {
   "cell_type": "markdown",
   "id": "4bf62f33",
   "metadata": {},
   "source": [
    "# Dictionary-building exercise (using Dictionary)"
   ]
  },
  {
   "cell_type": "code",
   "execution_count": 76,
   "id": "28c89866",
   "metadata": {},
   "outputs": [
    {
     "name": "stdout",
     "output_type": "stream",
     "text": [
      "        The Digital Vocabulary Notebook welcomes you!\n",
      "                   ------Menu------\n",
      "1 - Add a new vocabulary word (with its meaning) to the dictionary.\n",
      "2 - Look up the meaning of a vocabulary word.\n",
      "3 - Update the meaning of a vocabulary word.\n",
      "4 - View all saved vocabulary words (without meanings).\n",
      "5 - View all saved vocabulary words with meanings.\n",
      "6 - Delete a word from the dictionary.\n",
      "7 - Delete all vocabulary entries.\n",
      "8 - Exit.\n",
      "\n",
      "Your choice: 1\n",
      "Enter the vocabulary word: bầu trời\n",
      "Enter the meaning: sky\n",
      "--> Updated ( bầu trời : sky ) in the dictionary.\n",
      "\n",
      "Your choice: yêu\n",
      "--> yêu is not in the menu.\n",
      "\n",
      "Your choice: 1\n",
      "Enter the vocabulary word: yêu\n",
      "Enter the meaning: love\n",
      "--> Updated ( yêu : love ) in the dictionary.\n",
      "\n",
      "Your choice: 5\n",
      "The dictionary currently contains 2 words\n",
      "  bầu trời : sky\n",
      "  yêu : love\n",
      "\n",
      "Your choice: 6\n",
      "Enter the word you want to delete: sky\n",
      "sky is not in the dictionary.\n",
      "\n",
      "Your choice: 6\n",
      "Enter the word you want to delete: bầu trời\n",
      "--> Deleted ( bầu trời ) from the dictionary.\n",
      "\n",
      "Your choice: 5\n",
      "The dictionary currently contains 1 words\n",
      "  yêu : love\n",
      "\n",
      "Your choice: 8\n",
      "--> Dictionary program ended!\n"
     ]
    }
   ],
   "source": [
    "\"\"\"\n",
    "Exercise: Build a dictionary with the following features (user can choose a function)\n",
    "1. Add a new vocabulary word (with its meaning) to the dictionary.\n",
    "2. Look up the meaning of a vocabulary word.\n",
    "3. Update the meaning of a vocabulary word.\n",
    "4. Allow the user to delete a word from the dictionary.\n",
    "5. Allow the user to delete all vocabulary entries.\n",
    "6. Allow the user to print all vocabulary words.\n",
    "6. Allow the user to print all vocabulary-meaning pairs.\n",
    "7. Exit the program.\n",
    "\"\"\"\n",
    "\n",
    "print(\"        The Digital Vocabulary Notebook welcomes you!\")\n",
    "print(\"                   ------Menu------\")\n",
    "print(\"1 - Add a new vocabulary word (with its meaning) to the dictionary.\")\n",
    "print(\"2 - Look up the meaning of a vocabulary word.\")\n",
    "print(\"3 - Update the meaning of a vocabulary word.\")\n",
    "print(\"4 - View all saved vocabulary words (without meanings).\")\n",
    "print(\"5 - View all saved vocabulary words with meanings.\")\n",
    "print(\"6 - Delete a word from the dictionary.\")\n",
    "print(\"7 - Delete all vocabulary entries.\")\n",
    "print(\"8 - Exit.\")\n",
    "\n",
    "dictionary = {}\n",
    "\n",
    "while True:\n",
    "    print(\"\")\n",
    "    choice = input(\"Your choice: \")\n",
    "    \n",
    "    if choice == \"1\" or choice == \"3\":\n",
    "        vocab = input(\"Enter the vocabulary word: \")\n",
    "        meaning = input(\"Enter the meaning: \")\n",
    "        dictionary.update({vocab: meaning})\n",
    "        print(\"--> Updated (\", vocab, \":\", meaning, \") in the dictionary.\")\n",
    "        \n",
    "    elif choice == \"2\":\n",
    "        lookup = input(\"Enter the vocabulary word to look up: \")\n",
    "        if lookup in dictionary:\n",
    "            print(\"-->\", lookup, \":\", dictionary[lookup])\n",
    "        else:\n",
    "            print(\"-->\", lookup, \"is not in the dictionary.\")\n",
    "            \n",
    "    elif choice == \"4\":\n",
    "        for word in dictionary.keys():\n",
    "            print(word)\n",
    "            \n",
    "    elif choice == \"5\":\n",
    "        print(\"The dictionary currently contains\", len(dictionary), \"words\")\n",
    "        for word, meaning in dictionary.items():\n",
    "            print(\" \", word, \":\", meaning)\n",
    "            \n",
    "    elif choice == \"6\":\n",
    "        word_to_delete = input(\"Enter the word you want to delete: \")\n",
    "        if word_to_delete in dictionary:\n",
    "            dictionary.pop(word_to_delete)\n",
    "            print(\"--> Deleted (\", word_to_delete, \") from the dictionary.\")\n",
    "        else:\n",
    "            print(word_to_delete, \"is not in the dictionary.\")\n",
    "            \n",
    "    elif choice == \"7\":\n",
    "        dictionary.clear()\n",
    "        print(\"--> All entries in the dictionary have been deleted.\")\n",
    "        \n",
    "    elif choice == \"8\":\n",
    "        print(\"--> Dictionary program ended!\")\n",
    "        break\n",
    "        \n",
    "    else:\n",
    "        print(\"-->\", choice, \"is not in the menu.\")"
   ]
  },
  {
   "cell_type": "markdown",
   "id": "1350f2a1",
   "metadata": {},
   "source": [
    "# 16. Function in Python"
   ]
  },
  {
   "cell_type": "code",
   "execution_count": null,
   "id": "dc5c335b",
   "metadata": {},
   "outputs": [],
   "source": [
    "\"\"\"\n",
    "1. Definition:\n",
    "    - A function is a block of code that only runs when it is called.\n",
    "    - You can pass data, called parameters, into a function.\n",
    "    - A function can return data as a result.\n",
    "\n",
    "2. Defining a function:\n",
    "    In Python, a function is defined using the keyword def\n",
    "    Example:\n",
    "        def greet():\n",
    "            print(\"Hello!\")\n",
    "\n",
    "3. Calling a function:\n",
    "    To call a function, use the function name followed by parentheses ()\n",
    "        greet()\n",
    "\n",
    "4. Arguments:\n",
    "    A function can accept parameters:\n",
    "        def greet(fullname):\n",
    "            print(\"Hello: \" + fullname)\n",
    "\"\"\""
   ]
  },
  {
   "cell_type": "code",
   "execution_count": 77,
   "id": "16b448c0",
   "metadata": {},
   "outputs": [],
   "source": [
    "# Create a greeting function\n",
    "def greet():\n",
    "    print(\"Hello!\")"
   ]
  },
  {
   "cell_type": "code",
   "execution_count": 78,
   "id": "9250b08c",
   "metadata": {},
   "outputs": [
    {
     "name": "stdout",
     "output_type": "stream",
     "text": [
      "Hello!\n"
     ]
    }
   ],
   "source": [
    "greet()"
   ]
  },
  {
   "cell_type": "code",
   "execution_count": 79,
   "id": "29e03a98",
   "metadata": {},
   "outputs": [],
   "source": [
    "# Arguments are placed inside parentheses ()\n",
    "def greet(fullname):\n",
    "    print(\"Hello: \" + fullname)"
   ]
  },
  {
   "cell_type": "code",
   "execution_count": 80,
   "id": "4af916c2",
   "metadata": {},
   "outputs": [
    {
     "name": "stdout",
     "output_type": "stream",
     "text": [
      "Hello: Nguyen Thi A\n"
     ]
    }
   ],
   "source": [
    "greet(\"Nguyen Thi A\")\n",
    "# When calling greet, it refers to the function above and executes the statements inside it,\n",
    "# with the argument fullname replaced by \"Nguyen Thi A\"."
   ]
  },
  {
   "cell_type": "code",
   "execution_count": 81,
   "id": "aa5a3af3",
   "metadata": {},
   "outputs": [],
   "source": [
    "# Multiple arguments, each separated by a comma\n",
    "def greet(last_name, middle_name, first_name):\n",
    "    print(\"Hello: \" + last_name + middle_name + first_name)\n",
    "    print(\"Hello: \" + first_name)"
   ]
  },
  {
   "cell_type": "code",
   "execution_count": 82,
   "id": "5e2958e5",
   "metadata": {},
   "outputs": [
    {
     "name": "stdout",
     "output_type": "stream",
     "text": [
      "Hello: HoangVanAnh\n",
      "Hello: Anh\n"
     ]
    }
   ],
   "source": [
    "greet(\"Hoang\", \"Van\", \"Anh\")"
   ]
  },
  {
   "cell_type": "code",
   "execution_count": 83,
   "id": "cc27fa84",
   "metadata": {},
   "outputs": [],
   "source": [
    "# When the number of arguments is unknown, we can use *\n",
    "def schedule(*subjects):\n",
    "    print(\"Subject 1: \" + subjects[0])\n",
    "    print(\"Subject 2: \" + subjects[1])"
   ]
  },
  {
   "cell_type": "code",
   "execution_count": 84,
   "id": "f51832a7",
   "metadata": {},
   "outputs": [
    {
     "name": "stdout",
     "output_type": "stream",
     "text": [
      "Subject 1: Math\n",
      "Subject 2: Physics\n"
     ]
    }
   ],
   "source": [
    "schedule(\"Math\", \"Physics\", \"Chemistry\", \"English\")"
   ]
  },
  {
   "cell_type": "code",
   "execution_count": 85,
   "id": "4b9b11e9",
   "metadata": {},
   "outputs": [],
   "source": [
    "# Example: Function to calculate sum\n",
    "def calculate_sum(*values):\n",
    "    total = 0\n",
    "    for x in values:\n",
    "        total += x\n",
    "    print(total)"
   ]
  },
  {
   "cell_type": "code",
   "execution_count": 86,
   "id": "c931f5a3",
   "metadata": {},
   "outputs": [
    {
     "name": "stdout",
     "output_type": "stream",
     "text": [
      "15\n"
     ]
    }
   ],
   "source": [
    "calculate_sum(1,2,3,4,5)"
   ]
  },
  {
   "cell_type": "code",
   "execution_count": 89,
   "id": "ab560678",
   "metadata": {},
   "outputs": [],
   "source": [
    "# Passing multiple named arguments using **\n",
    "def greet(**fullname):\n",
    "    print(\"Hello: \" + fullname[\"last_name\"])"
   ]
  },
  {
   "cell_type": "code",
   "execution_count": 90,
   "id": "80415db6",
   "metadata": {},
   "outputs": [
    {
     "name": "stdout",
     "output_type": "stream",
     "text": [
      "Hello: Phung Dinh\n"
     ]
    }
   ],
   "source": [
    "greet(first_name=\"Anh\", middle_name=\"Quang\", last_name=\"Phung Dinh\")"
   ]
  },
  {
   "cell_type": "code",
   "execution_count": 91,
   "id": "ce748951",
   "metadata": {},
   "outputs": [],
   "source": [
    "# Using the keyword \"return\" to return a value\n",
    "def calculate_product(*values):\n",
    "    product = 1\n",
    "    for x in values:\n",
    "        product *= x\n",
    "    return product\n",
    "# when return is used, the function returns the value of product"
   ]
  },
  {
   "cell_type": "code",
   "execution_count": 92,
   "id": "4c9c30c1",
   "metadata": {},
   "outputs": [
    {
     "name": "stdout",
     "output_type": "stream",
     "text": [
      "product1: 40\n",
      "product2: 135\n",
      "product1 + product2 = 175\n"
     ]
    }
   ],
   "source": [
    "product1 = calculate_product(2, 4, 5)\n",
    "product2 = calculate_product(3, 5, 9)\n",
    "total = product1 + product2\n",
    "print(\"product1:\", product1)\n",
    "print(\"product2:\", product2)\n",
    "print(\"product1 + product2 =\", total)"
   ]
  },
  {
   "cell_type": "code",
   "execution_count": 93,
   "id": "9d027f9a",
   "metadata": {},
   "outputs": [],
   "source": [
    "# Exercise: Find the GCD (Greatest Common Divisor) of two numbers a and b\n",
    "def gcd(a, b):\n",
    "    while a != b:\n",
    "        if a > b:\n",
    "            a = a - b\n",
    "        else:\n",
    "            b = b - a\n",
    "    return a"
   ]
  },
  {
   "cell_type": "code",
   "execution_count": 94,
   "id": "2fee63f0",
   "metadata": {},
   "outputs": [
    {
     "name": "stdout",
     "output_type": "stream",
     "text": [
      "5\n"
     ]
    }
   ],
   "source": [
    "print(gcd(55,15))"
   ]
  },
  {
   "cell_type": "markdown",
   "id": "46739f1b",
   "metadata": {},
   "source": [
    "# 17. Lambda Function in Python"
   ]
  },
  {
   "cell_type": "code",
   "execution_count": 95,
   "id": "80758d54",
   "metadata": {},
   "outputs": [
    {
     "name": "stdout",
     "output_type": "stream",
     "text": [
      "False\n"
     ]
    }
   ],
   "source": [
    "\"\"\"\n",
    "- A lambda function is a small anonymous function.\n",
    "- A lambda function can take any number of arguments, but can only have one expression.\n",
    "- Syntax:\n",
    "    lambda arguments : expression\n",
    "- Useful for simple operations, and faster to write than regular functions.\n",
    "\"\"\"\n",
    "\n",
    "# Example: Check if a number is even\n",
    "is_even = lambda a: (a % 2 == 0)\n",
    "print(is_even(5))"
   ]
  },
  {
   "cell_type": "code",
   "execution_count": 96,
   "id": "86f363a1",
   "metadata": {},
   "outputs": [
    {
     "name": "stdout",
     "output_type": "stream",
     "text": [
      "15\n",
      "-7\n"
     ]
    }
   ],
   "source": [
    "# Example:\n",
    "sum_two_numbers = lambda a, b: (a + b)\n",
    "print(sum_two_numbers(5, 10))\n",
    "print(sum_two_numbers(-2, -5))"
   ]
  },
  {
   "cell_type": "code",
   "execution_count": 97,
   "id": "ca586400",
   "metadata": {},
   "outputs": [
    {
     "name": "stdout",
     "output_type": "stream",
     "text": [
      "625\n"
     ]
    }
   ],
   "source": [
    "# Example of using lambda functions inside another function\n",
    "def power_function(n):\n",
    "    return lambda x: x ** n\n",
    "\n",
    "power4 = power_function(4)\n",
    "\n",
    "# When calling power_function(4), it returns: lambda x: x ** 4\n",
    "# At this point, power4 becomes: lambda x: x ** 4\n",
    "\n",
    "print(power4(5))\n",
    "\n",
    "# When calling power4(5), 5 is passed into x, and returns 5 ** 4"
   ]
  },
  {
   "cell_type": "markdown",
   "id": "3af10231",
   "metadata": {},
   "source": [
    "# Some Basic Exercises on Functions"
   ]
  },
  {
   "cell_type": "code",
   "execution_count": 98,
   "id": "bbeaf8a4",
   "metadata": {},
   "outputs": [
    {
     "name": "stdout",
     "output_type": "stream",
     "text": [
      "120\n"
     ]
    }
   ],
   "source": [
    "# Exercise 1: Factorial function\n",
    "# Write a function factorial(n) to compute the factorial of an integer n.\n",
    "\n",
    "def factorial(n):\n",
    "    result = 1\n",
    "    for i in range(1, n + 1):\n",
    "        result *= i\n",
    "    return result\n",
    "\n",
    "print(factorial(5))"
   ]
  },
  {
   "cell_type": "code",
   "execution_count": 99,
   "id": "af8406e2",
   "metadata": {},
   "outputs": [
    {
     "name": "stdout",
     "output_type": "stream",
     "text": [
      "Not a prime number\n"
     ]
    }
   ],
   "source": [
    "# Exercise 2: Prime number checker\n",
    "# Write a function is_prime(n) to check whether n is a prime number.\n",
    "\n",
    "def is_prime(n):\n",
    "    if n <= 1:\n",
    "        return \"Not a prime number\"\n",
    "    for i in range(2, int(n**0.5) + 1):\n",
    "        if n % i == 0:\n",
    "            return \"Not a prime number\"\n",
    "    return \"Is a prime number\"\n",
    "\n",
    "print(is_prime(4))"
   ]
  },
  {
   "cell_type": "markdown",
   "id": "c22d88be",
   "metadata": {},
   "source": [
    "# Some Basic Exercises on Lambda Functions"
   ]
  },
  {
   "cell_type": "code",
   "execution_count": 100,
   "id": "4bf7eb0c",
   "metadata": {},
   "outputs": [
    {
     "name": "stdout",
     "output_type": "stream",
     "text": [
      "[{'name': 'Dave', 'score': 65}, {'name': 'john', 'score': 75}, {'name': 'jane', 'score': 85}]\n"
     ]
    }
   ],
   "source": [
    "# Exercise 1: Sort a list of dictionaries\n",
    "# Given a list of dictionaries containing student information (name and score)\n",
    "# => Use a lambda function to sort the list by score\n",
    "\n",
    "students = [\n",
    "    {'name': 'john', 'score': 75},\n",
    "    {'name': 'jane', 'score': 85},\n",
    "    {'name': 'Dave', 'score': 65}\n",
    "]\n",
    "\n",
    "sorted_students = sorted(students, key=lambda x: x['score'])\n",
    "\n",
    "\"\"\"\n",
    "Explanation:\n",
    "1. 'students' is a list where each element is a dictionary.\n",
    "\n",
    "2. The 'sorted' function is used to sort iterable types like list, set, tuple.\n",
    "   - However, 'sorted' always returns a list.\n",
    "   - Syntax: sorted(iterable, key, reverse=False/True)\n",
    "       + iterable: the object to be sorted (here, it's students)\n",
    "       + key: a function to extract a value from each item to be used as the sort key\n",
    "       + reverse: if True, sorts in descending order\n",
    "       \n",
    "3. Lambda function (lambda x: x['score']):\n",
    "   - lambda x: x['score'] means:\n",
    "     + For each element x in the students list, use x['score'] as the sort key.\n",
    "     + x is a dictionary, and x['score'] is the student's score.\n",
    "\"\"\"\n",
    "\n",
    "print(sorted_students)"
   ]
  },
  {
   "cell_type": "markdown",
   "id": "5577fb57",
   "metadata": {},
   "source": [
    "# Advanced Exercises on Functions and Lambda Functions"
   ]
  },
  {
   "cell_type": "code",
   "execution_count": 101,
   "id": "c9682abb",
   "metadata": {},
   "outputs": [
    {
     "name": "stdout",
     "output_type": "stream",
     "text": [
      "<map object at 0x7afa857542e0>\n",
      "[1, 9, 16, 36, 49, 64]\n"
     ]
    }
   ],
   "source": [
    "# Exercise 1: Lambda function with map()\n",
    "\"\"\"\n",
    "Given a list of integers, use map() combined with a lambda function to create a new list \n",
    "containing the squares of the original numbers.\n",
    "\"\"\"\n",
    "\n",
    "numbers = [1, 3, 4, 6, 7, 8]\n",
    "squared_numbers = map(lambda x: x ** 2, numbers)\n",
    "\n",
    "\"\"\"\n",
    "Explanation:\n",
    "* The map() function:\n",
    "- map is used to apply a function to each element of an iterable (such as a list, etc.)\n",
    "  and returns a new iterable. In Python 3, this is a special 'map' object.\n",
    "- Syntax: map(function, iterable)\n",
    "    + function: a function to apply to each item in the iterable\n",
    "    + iterable: the object we want to iterate over (here it's 'numbers')\n",
    "\"\"\"\n",
    "\n",
    "print(squared_numbers)         # Outputs a map object\n",
    "print(list(squared_numbers))   # Convert the result to a list to view the squared numbers"
   ]
  },
  {
   "cell_type": "code",
   "execution_count": 102,
   "id": "6de39de6",
   "metadata": {},
   "outputs": [
    {
     "name": "stdout",
     "output_type": "stream",
     "text": [
      "<filter object at 0x7afa85704340>\n",
      "[2, 4, 6, 8, 10]\n"
     ]
    }
   ],
   "source": [
    "# Exercise 2: Lambda function with filter()\n",
    "\n",
    "\"\"\"\n",
    "Given a list of integers, use filter() combined with a lambda function to filter out the even numbers.\n",
    "\"\"\"\n",
    "\n",
    "numbers = [1, 2, 3, 4, 5, 6, 7, 8, 9, 10]\n",
    "even_numbers = filter(lambda z: z % 2 == 0, numbers)\n",
    "\n",
    "print(even_numbers)            # Outputs a filter object\n",
    "print(list(even_numbers))      # Convert the result to a list to see the even numbers\n",
    "\n",
    "# filter works like a filter: it only keeps the items for which the condition returns True.\n",
    "# The structure is similar to map."
   ]
  },
  {
   "cell_type": "code",
   "execution_count": 103,
   "id": "2b55b434",
   "metadata": {},
   "outputs": [
    {
     "name": "stdout",
     "output_type": "stream",
     "text": [
      "[2, 3, 5, 7]\n"
     ]
    }
   ],
   "source": [
    "# Exercise 3: Function with filter()\n",
    "\n",
    "\"\"\"\n",
    "Given a list of integers, use filter() combined with a function to filter out the prime numbers.\n",
    "\"\"\"\n",
    "\n",
    "def is_prime(n):\n",
    "    if n <= 1:\n",
    "        return False\n",
    "    for i in range(2, int(n**0.5) + 1):\n",
    "        if n % i == 0:\n",
    "            return False\n",
    "    return True\n",
    "\n",
    "numbers = [1, 2, 3, 4, 5, 6, 7, 8, 9, 10]\n",
    "prime_numbers = list(filter(is_prime, numbers))\n",
    "\n",
    "print(prime_numbers)"
   ]
  },
  {
   "cell_type": "code",
   "execution_count": null,
   "id": "297d69ba",
   "metadata": {},
   "outputs": [],
   "source": [
    "# Exercise 4: Fibonacci function using recursion\n",
    "\n",
    "\"\"\"\n",
    "Write a function fibonacci(n) to calculate the nth Fibonacci number using recursion.\n",
    "* Note: The Fibonacci sequence is defined as:\n",
    "    F(0) = 0\n",
    "    F(1) = 1\n",
    "    F(n) = F(n - 1) + F(n - 2), for n >= 2\n",
    "\"\"\""
   ]
  },
  {
   "cell_type": "code",
   "execution_count": 104,
   "id": "5681cd43",
   "metadata": {},
   "outputs": [
    {
     "name": "stdout",
     "output_type": "stream",
     "text": [
      "F( 0 ) = 0\n",
      "F( 1 ) = 1\n",
      "F( 2 ) = 1\n",
      "F( 3 ) = 2\n",
      "F( 4 ) = 3\n",
      "F( 5 ) = 5\n",
      "F( 6 ) = 8\n",
      "F( 7 ) = 13\n",
      "F( 8 ) = 21\n",
      "F( 9 ) = 34\n",
      "F( 10 ) = 55\n"
     ]
    }
   ],
   "source": [
    "# Method 1:\n",
    "def fibonacci(n):\n",
    "    if n <= 0:\n",
    "        return 0\n",
    "    elif n == 1:\n",
    "        return 1\n",
    "    else:\n",
    "        return fibonacci(n - 1) + fibonacci(n - 2)\n",
    "\n",
    "for i in range(0, 11, 1):\n",
    "    print(\"F(\", i, \") =\", fibonacci(i))"
   ]
  },
  {
   "cell_type": "code",
   "execution_count": 105,
   "id": "ea4e1482",
   "metadata": {},
   "outputs": [
    {
     "name": "stdout",
     "output_type": "stream",
     "text": [
      "377\n"
     ]
    }
   ],
   "source": [
    "# Method 2: Likely more time-efficient\n",
    "def fibonacci(n):\n",
    "    fib = [0, 1]\n",
    "    for i in range(2, n + 1):\n",
    "        fib.append(fib[i - 1] + fib[i - 2])\n",
    "    return fib[n]\n",
    "\n",
    "print(fibonacci(14))  # Output: 377"
   ]
  },
  {
   "cell_type": "code",
   "execution_count": 107,
   "id": "96ea10d7",
   "metadata": {},
   "outputs": [
    {
     "name": "stdout",
     "output_type": "stream",
     "text": [
      "1200\n"
     ]
    }
   ],
   "source": [
    "# Exercise 5: Combine reduce() and lambda function\n",
    "\n",
    "\"\"\"\n",
    "Use the reduce() function from the functools module in combination with a lambda function\n",
    "to calculate the product of all elements in the list, then multiply the result by 10.\n",
    "\"\"\"\n",
    "\n",
    "from functools import reduce\n",
    "\n",
    "numbers = [1, 2, 3, 4, 5]\n",
    "product = reduce(lambda x, y: x * y, numbers, 10)\n",
    "\n",
    "\"\"\"\n",
    "Detailed explanation:\n",
    "- Syntax:\n",
    "    from functools import reduce\n",
    "    reduce(function, iterable, initializer=None)\n",
    "\n",
    "    + function: a function that takes two arguments and returns a single value\n",
    "    + iterable: a list (or a string, tuple, etc.) to be processed\n",
    "    + initializer: an optional initial value that will be used as the first argument\n",
    "\n",
    "- In this example:\n",
    "    + The lambda function 'lambda x, y: x * y' is applied step-by-step to each element in the list\n",
    "    + The initial value is 10, so the calculation proceeds as follows:\n",
    "        (((((10 * 1) * 2) * 3) * 4) * 5) = 1200\n",
    "\"\"\"\n",
    "\n",
    "print(product)  # Output: 1200\n"
   ]
  },
  {
   "cell_type": "code",
   "execution_count": 108,
   "id": "caf15388",
   "metadata": {},
   "outputs": [
    {
     "name": "stdout",
     "output_type": "stream",
     "text": [
      "Python is fun\n"
     ]
    }
   ],
   "source": [
    "# Another example of reduce()\n",
    "# Exercise: Join a list of strings into a complete sentence.\n",
    "\n",
    "from functools import reduce\n",
    "\n",
    "words = [\"Python\", \"is\", \"fun\"]\n",
    "sentence = reduce(lambda x, y: x + \" \" + y, words)\n",
    "\n",
    "print(sentence) "
   ]
  },
  {
   "cell_type": "code",
   "execution_count": 109,
   "id": "3c866a98",
   "metadata": {},
   "outputs": [
    {
     "name": "stdout",
     "output_type": "stream",
     "text": [
      "10\n"
     ]
    }
   ],
   "source": [
    "# Exercise 6: Recursive function to sum the digits of a number\n",
    "\n",
    "\"\"\"\n",
    "Write a recursive function sum_of_digits(n) to calculate the sum of the digits of an integer n.\n",
    "\"\"\"\n",
    "\n",
    "def sum_of_digits(n):    \n",
    "    if n == 0:\n",
    "        return 0\n",
    "    else:\n",
    "        return n % 10 + sum_of_digits(n // 10)\n",
    "    \n",
    "print(sum_of_digits(4321))  # Output: 10 (4+3+2+1)"
   ]
  },
  {
   "cell_type": "code",
   "execution_count": 110,
   "id": "ccdabec5",
   "metadata": {},
   "outputs": [
    {
     "name": "stdout",
     "output_type": "stream",
     "text": [
      "55\n"
     ]
    }
   ],
   "source": [
    "# Exercise 7: Function to find the largest Fibonacci number less than n\n",
    "\n",
    "\"\"\"\n",
    "Write a function largest_fibonacci_below(n) to find the largest Fibonacci number smaller than n.\n",
    "\"\"\"\n",
    "\n",
    "def largest_fibonacci_below(n):\n",
    "    if n == 0:\n",
    "        return 0\n",
    "    else:\n",
    "        fib = [0, 1]\n",
    "        for i in range(2, n + 89):   # 89 is arbitrary to ensure we generate enough Fibonacci numbers\n",
    "            fib.append(fib[i - 1] + fib[i - 2])\n",
    "            if fib[i] <= n:\n",
    "                max_fib = fib[i]\n",
    "            else:\n",
    "                break\n",
    "        return max_fib\n",
    "\n",
    "print(largest_fibonacci_below(60))"
   ]
  },
  {
   "cell_type": "markdown",
   "id": "7949e95e",
   "metadata": {},
   "source": [
    "# 18. Object-Oriented Programming (OOP)"
   ]
  },
  {
   "cell_type": "code",
   "execution_count": null,
   "id": "4cb57a1c",
   "metadata": {},
   "outputs": [],
   "source": [
    "\"\"\"\n",
    "- Object-Oriented Programming (OOP) is a programming paradigm based on the concept of objects,\n",
    "in which each object can contain data (attributes) and methods (actions) to operate on that data.\n",
    "\n",
    "- For example: A class has 40 students, and each student has common information like name, age, score,\n",
    "and actions like taking a test. These are shared characteristics that all students have.\n",
    "Therefore, we define a 'class' that contains the general structure (syntax) for those properties.\n",
    "Later, we can reuse this class to create specific student objects.\n",
    "\"\"\""
   ]
  },
  {
   "cell_type": "code",
   "execution_count": 111,
   "id": "d7be3f64",
   "metadata": {},
   "outputs": [
    {
     "name": "stdout",
     "output_type": "stream",
     "text": [
      "Car: Vinfast, VF3, 2023\n",
      "Car: Toyota, Camry, 2020\n"
     ]
    }
   ],
   "source": [
    "# Exercise 1: Class Car\n",
    "\n",
    "\"\"\"\n",
    "Requirement: Create a class named Car with the following attributes: make, model, and year.\n",
    "Add a method display_info to display the car's information.\n",
    "\"\"\"\n",
    "\n",
    "class Car:\n",
    "    # Constructor\n",
    "    def __init__(self, make, model, year):\n",
    "        self.make = make\n",
    "        self.model = model\n",
    "        self.year = year\n",
    "        \n",
    "    # Method of the Car class\n",
    "    def display_info(self):\n",
    "        print(f'Car: {self.make}, {self.model}, {self.year}')\n",
    "\n",
    "# Specific car objects\n",
    "car1 = Car(\"Vinfast\", \"VF3\", 2023)\n",
    "car2 = Car(\"Toyota\", \"Camry\", 2020)\n",
    "\n",
    "# Call each object to view information\n",
    "car1.display_info()\n",
    "car2.display_info()"
   ]
  },
  {
   "cell_type": "code",
   "execution_count": 112,
   "id": "6bc11b2c",
   "metadata": {},
   "outputs": [
    {
     "name": "stdout",
     "output_type": "stream",
     "text": [
      "Quanh - 18 years old: Passing\n",
      "Anh - 17 years old: Game over\n",
      "Dinh - 15 years old: Passing\n"
     ]
    }
   ],
   "source": [
    "# Exercise 2: Class Student\n",
    "\n",
    "\"\"\"\n",
    "Requirement: Create a class named Student with the attributes name, age, and grade.\n",
    "Add a method is_passing to check whether the student has passed the course.\n",
    "Note: A grade >= 60 is considered passing.\n",
    "\"\"\"\n",
    "\n",
    "class Student:\n",
    "    # Constructor to define student information\n",
    "    def __init__(self, name, age, grade):\n",
    "        self.name = name\n",
    "        self.age = age\n",
    "        self.grade = grade\n",
    "\n",
    "    # Method to check if the student is passing\n",
    "    def is_passing(self):\n",
    "        if self.grade >= 60:\n",
    "            return \"Passing\"\n",
    "        else:\n",
    "            return \"Game over\"\n",
    "\n",
    "# Detailed information of each student\n",
    "student1 = Student(\"Quanh\", 18, 100)\n",
    "student2 = Student(\"Anh\", 17, 50)\n",
    "student3 = Student(\"Dinh\", 15, 99)\n",
    "\n",
    "# Use this to manage and check who passed the exam\n",
    "print(f'{student1.name} - {student1.age} years old: {student1.is_passing()}')\n",
    "print(f'{student2.name} - {student2.age} years old: {student2.is_passing()}')\n",
    "print(f'{student3.name} - {student3.age} years old: {student3.is_passing()}')"
   ]
  },
  {
   "cell_type": "code",
   "execution_count": 113,
   "id": "35bd30c5",
   "metadata": {},
   "outputs": [
    {
     "name": "stdout",
     "output_type": "stream",
     "text": [
      "Rectangle 1: Area: 50, Perimeter: 30\n",
      "Rectangle 2: Area: 12, Perimeter: 14\n"
     ]
    }
   ],
   "source": [
    "# Exercise 3: Rectangle\n",
    "\n",
    "\"\"\"\n",
    "Requirement: Create a class named Rectangle with the attributes width and height.\n",
    "Add methods area and perimeter to calculate the area and perimeter of the rectangle.\n",
    "\"\"\"\n",
    "\n",
    "# 1. General definition for a rectangle:\n",
    "class Rectangle:\n",
    "    # Constructor\n",
    "    def __init__(self, width, height):\n",
    "        self.width = width\n",
    "        self.height = height\n",
    "\n",
    "    # Methods\n",
    "    def area(self):\n",
    "        return \"Area: \" + str(self.width * self.height)\n",
    "\n",
    "    def perimeter(self):\n",
    "        return \"Perimeter: \" + str((self.width + self.height) * 2)\n",
    "\n",
    "# 2. Create specific rectangles using the general definition:\n",
    "rectangle1 = Rectangle(10, 5)\n",
    "rectangle2 = Rectangle(3, 4)\n",
    "\n",
    "# 3. Use the methods for each rectangle\n",
    "print(f'Rectangle 1: {rectangle1.area()}, {rectangle1.perimeter()}')\n",
    "print(f'Rectangle 2: {rectangle2.area()}, {rectangle2.perimeter()}')"
   ]
  },
  {
   "cell_type": "code",
   "execution_count": 114,
   "id": "7463d32a",
   "metadata": {},
   "outputs": [
    {
     "name": "stdout",
     "output_type": "stream",
     "text": [
      "Books in the library:\n",
      "Title: Atomic Habits, Author: James Clear, Year Published: 2018\n",
      "Title: The Power of Now, Author: Eckhart Tolle, Year Published: 1997\n"
     ]
    }
   ],
   "source": [
    "# Exercise 4: class general_book and class general_library\n",
    "\n",
    "\"\"\"\n",
    "Requirement:\n",
    "- Create a class general_book with the attributes: title, author, and year_published.\n",
    "- Create a class general_library that holds a list of books.\n",
    "Add methods to add a book and display all books in the library.\n",
    "\"\"\"\n",
    "\n",
    "class GeneralBook:\n",
    "    # Constructor containing information about a book\n",
    "    def __init__(self, title, author, year_published):\n",
    "        self.title = title\n",
    "        self.author = author\n",
    "        self.year_published = year_published\n",
    "\n",
    "    # Method to display book information\n",
    "    def display_info(self):\n",
    "        print(f'Title: {self.title}, Author: {self.author}, Year Published: {self.year_published}')\n",
    "\n",
    "class GeneralLibrary:\n",
    "    # Constructor to initialize an empty library\n",
    "    def __init__(self):\n",
    "        self.books = []\n",
    "\n",
    "    # Method to add a book to the library\n",
    "    def add_books(self, book):\n",
    "        self.books.append(book)\n",
    "\n",
    "    # Method to display all books in the library\n",
    "    def display_books(self):\n",
    "        print(\"Books in the library:\")\n",
    "        for book in self.books:\n",
    "            book.display_info()\n",
    "\n",
    "# Create individual book instances\n",
    "book1 = GeneralBook(\"Atomic Habits\", \"James Clear\", 2018)\n",
    "book2 = GeneralBook(\"The Power of Now\", \"Eckhart Tolle\", 1997)\n",
    "\n",
    "# Create the Tạ Quang Bửu library\n",
    "Ta_Quang_Buu_library = GeneralLibrary()\n",
    "\n",
    "# Add books to the Tạ Quang Bửu library\n",
    "Ta_Quang_Buu_library.add_books(book1)\n",
    "Ta_Quang_Buu_library.add_books(book2)\n",
    "\n",
    "# Display books in the Tạ Quang Bửu library\n",
    "Ta_Quang_Buu_library.display_books()"
   ]
  },
  {
   "cell_type": "code",
   "execution_count": 116,
   "id": "6476ca12",
   "metadata": {},
   "outputs": [
    {
     "name": "stdout",
     "output_type": "stream",
     "text": [
      "Hi, my name is P.A. I am 17.8 years old. I live at America.\n",
      "My employee ID is P30003.\n"
     ]
    }
   ],
   "source": [
    "# Exercise 6: Inheritance and Subclass\n",
    "\n",
    "\"\"\"\n",
    "1. Create a class Employee that inherits from the Person class.\n",
    "2. Add an attribute employee_id and a method work.\n",
    "3. Update the introduce method to include employee ID and work information.\n",
    "\"\"\"\n",
    "\n",
    "class Person:\n",
    "    def __init__(self, name, age, address):\n",
    "        self.name = name\n",
    "        self.age = age\n",
    "        self.address = address\n",
    "\n",
    "    def introduce_in_home(self):\n",
    "        print(f'Hi, my name is {self.name}. I am {self.age} years old. I live at {self.address}.')\n",
    "\n",
    "    def update_address(self, new_address):\n",
    "        self.address = new_address\n",
    "\n",
    "class Employee(Person):\n",
    "    def __init__(self, name, age, address, employee_id):\n",
    "        super().__init__(name, age, address)\n",
    "        self.employee_id = employee_id\n",
    "\n",
    "    def work(self):\n",
    "        print(f'{self.name} is working.')\n",
    "\n",
    "    def introduce_in_company(self):\n",
    "        super().introduce_in_home()\n",
    "        print(f'My employee ID is {self.employee_id}.')\n",
    "\n",
    "# Create an employee object\n",
    "employee1 = Employee(\"P.A\", 17.8, \"Hung Yen\", \"P30003\")\n",
    "employee1.update_address(\"America\")\n",
    "employee1.introduce_in_company()"
   ]
  },
  {
   "cell_type": "code",
   "execution_count": 117,
   "id": "4383e5cd",
   "metadata": {},
   "outputs": [
    {
     "name": "stdout",
     "output_type": "stream",
     "text": [
      "Area: 72, Perimeter: 34\n",
      "Area: 12635473.040000001, Perimeter: 12597.68\n"
     ]
    }
   ],
   "source": [
    "# Exercise 7: Polymorphism and Abstract Classes\n",
    "\n",
    "\"\"\"\n",
    "1. Create an abstract class Shape with abstract methods area and perimeter.\n",
    "2. Create Rectangle and Circle classes that inherit from Shape and implement the area and perimeter methods.\n",
    "\"\"\"\n",
    "\n",
    "from abc import ABC, abstractmethod\n",
    "\n",
    "class Shape(ABC):\n",
    "    @abstractmethod\n",
    "    def area(self):\n",
    "        pass\n",
    "\n",
    "    @abstractmethod\n",
    "    def perimeter(self):\n",
    "        pass\n",
    "\n",
    "class Rectangle(Shape):\n",
    "    def __init__(self, width, height):\n",
    "        self.width = width\n",
    "        self.height = height\n",
    "\n",
    "    def area(self):\n",
    "        return self.width * self.height\n",
    "\n",
    "    def perimeter(self):\n",
    "        return 2 * (self.width + self.height)\n",
    "\n",
    "class Circle(Shape):\n",
    "    def __init__(self, radius):\n",
    "        self.radius = radius\n",
    "\n",
    "    def area(self):\n",
    "        return 3.14 * (self.radius ** 2)\n",
    "\n",
    "    def perimeter(self):\n",
    "        return 2 * 3.14 * self.radius\n",
    "\n",
    "# Create a list of shapes\n",
    "shapes = [Rectangle(8, 9), Circle(2006)]\n",
    "\n",
    "# Iterate and call polymorphic methods\n",
    "for shape in shapes:\n",
    "    print(f'Area: {shape.area()}, Perimeter: {shape.perimeter()}')"
   ]
  },
  {
   "cell_type": "code",
   "execution_count": 118,
   "id": "5372f9cc",
   "metadata": {},
   "outputs": [
    {
     "name": "stdout",
     "output_type": "stream",
     "text": [
      "134\n"
     ]
    }
   ],
   "source": [
    "# Exercise 8: Calculate the Day Number in the Year\n",
    "\n",
    "\"\"\"\n",
    "Requirement: Create a class named Date with attributes day, month, and year.\n",
    "Add a method that returns which day of the year it is (e.g., Jan 1 = 1, Dec 31 = 365 or 366).\n",
    "\"\"\"\n",
    "\n",
    "class Date:\n",
    "    def __init__(self, day, month, year):\n",
    "        self.day = day\n",
    "        self.month = month\n",
    "        self.year = year\n",
    "\n",
    "    def day_of_year(self):\n",
    "        total_days = 0\n",
    "        for m in range(1, self.month):\n",
    "            if m in [1, 3, 5, 7, 8, 10, 12]:\n",
    "                total_days += 31\n",
    "            elif m in [4, 6, 9, 11]:\n",
    "                total_days += 30\n",
    "            else:  # February\n",
    "                if (self.year % 400 == 0 or (self.year % 4 == 0 and self.year % 100 != 0)):\n",
    "                    total_days += 29  # Leap year\n",
    "                else:\n",
    "                    total_days += 28  # Non-leap year\n",
    "        total_days += self.day\n",
    "        return total_days\n",
    "\n",
    "# Example usage\n",
    "dateA = Date(14, 5, 2022)\n",
    "print(dateA.day_of_year())  # Output: 134"
   ]
  },
  {
   "cell_type": "markdown",
   "id": "b5b85ccd",
   "metadata": {},
   "source": [
    "# 19. Try và Except"
   ]
  },
  {
   "cell_type": "code",
   "execution_count": null,
   "id": "3ccf498d",
   "metadata": {},
   "outputs": [],
   "source": [
    "try:\n",
    "    # Code that might raise an error\n",
    "except:\n",
    "    # Action to take if an error occurs\n",
    "else:\n",
    "    # Execute this block if no error occurs in try\n",
    "finally:\n",
    "    # Code that will run no matter what, whether an error occurred or not"
   ]
  },
  {
   "cell_type": "code",
   "execution_count": 119,
   "id": "4a5a8368",
   "metadata": {},
   "outputs": [
    {
     "name": "stdout",
     "output_type": "stream",
     "text": [
      "Enter an integer a: year\n",
      "Error: invalid literal for int() with base 10: 'year'\n",
      "Program ended.\n"
     ]
    }
   ],
   "source": [
    "try:\n",
    "    a = int(input(\"Enter an integer a: \"))\n",
    "except Exception as e:\n",
    "    print(\"Error:\", e)\n",
    "# Exception is a type of error we anticipate and assign to variable e to print it\n",
    "# \"Exception as e\" is optional\n",
    "else:\n",
    "    print(\"No errors occurred.\")\n",
    "finally:\n",
    "    print(\"Program ended.\")"
   ]
  },
  {
   "cell_type": "markdown",
   "id": "dfaea301",
   "metadata": {},
   "source": [
    "# 20. Some common errors that occur after the except block"
   ]
  },
  {
   "cell_type": "code",
   "execution_count": 120,
   "id": "46082232",
   "metadata": {},
   "outputs": [
    {
     "name": "stdout",
     "output_type": "stream",
     "text": [
      "Division by zero error: division by zero\n"
     ]
    }
   ],
   "source": [
    "# 1. 'ZeroDivisionError': Occurs when dividing by zero.\n",
    "try:\n",
    "    x = 1 / 0\n",
    "except ZeroDivisionError as e:\n",
    "    print(f\"Division by zero error: {e}\")"
   ]
  },
  {
   "cell_type": "code",
   "execution_count": 121,
   "id": "c1c93529",
   "metadata": {},
   "outputs": [
    {
     "name": "stdout",
     "output_type": "stream",
     "text": [
      "Value error: invalid literal for int() with base 10: 'abc'\n"
     ]
    }
   ],
   "source": [
    "# 2. 'ValueError': Occurs when a function or operation receives an invalid value.\n",
    "try:\n",
    "    x = int(\"abc\")\n",
    "except ValueError as e:\n",
    "    print(f\"Value error: {e}\")"
   ]
  },
  {
   "cell_type": "code",
   "execution_count": 122,
   "id": "b8dfaa58",
   "metadata": {},
   "outputs": [
    {
     "name": "stdout",
     "output_type": "stream",
     "text": [
      "Type error: can only concatenate str (not \"int\") to str\n"
     ]
    }
   ],
   "source": [
    "# 3. 'TypeError': Occurs when an operation or function receives an argument of an invalid data type.\n",
    "try:\n",
    "    x = \"string\" + 10\n",
    "except TypeError as e:\n",
    "    print(f\"Type error: {e}\")"
   ]
  },
  {
   "cell_type": "code",
   "execution_count": 123,
   "id": "bb98ad31",
   "metadata": {},
   "outputs": [
    {
     "name": "stdout",
     "output_type": "stream",
     "text": [
      "Index error: list index out of range\n"
     ]
    }
   ],
   "source": [
    "# 4. 'IndexError': Occurs when accessing an invalid index in a list or tuple.\n",
    "try:\n",
    "    list_n = [1, 2, 3]\n",
    "    x = list_n[10]\n",
    "except IndexError as e:\n",
    "    print(f\"Index error: {e}\")"
   ]
  },
  {
   "cell_type": "code",
   "execution_count": 124,
   "id": "4c7373a1",
   "metadata": {},
   "outputs": [
    {
     "name": "stdout",
     "output_type": "stream",
     "text": [
      "Key error: 'b'\n"
     ]
    }
   ],
   "source": [
    "# 5. 'KeyError': Occurs when accessing a key that does not exist in a dictionary.\n",
    "try:\n",
    "    d = {'a': 1}\n",
    "    x = d['b']\n",
    "except KeyError as e:\n",
    "    print(f\"Key error: {e}\")"
   ]
  },
  {
   "cell_type": "code",
   "execution_count": 125,
   "id": "5e9d61ca",
   "metadata": {},
   "outputs": [
    {
     "name": "stdout",
     "output_type": "stream",
     "text": [
      "File not found error: [Errno 2] No such file or directory: 'non_existent_file.txt'\n"
     ]
    }
   ],
   "source": [
    "# 6. 'FileNotFoundError': Occurs when trying to open a file that does not exist.\n",
    "try:\n",
    "    with open('non_existent_file.txt', 'r') as f:\n",
    "        content = f.read()\n",
    "except FileNotFoundError as e:\n",
    "    print(f\"File not found error: {e}\")"
   ]
  },
  {
   "cell_type": "code",
   "execution_count": 126,
   "id": "8c8a70ce",
   "metadata": {},
   "outputs": [
    {
     "name": "stdout",
     "output_type": "stream",
     "text": [
      "Attribute error: 'NoneType' object has no attribute 'some_method'\n"
     ]
    }
   ],
   "source": [
    "# 7. 'AttributeError': Occurs when trying to access an attribute that does not exist on an object.\n",
    "try:\n",
    "    x = None\n",
    "    x.some_method()\n",
    "except AttributeError as e:\n",
    "    print(f\"Attribute error: {e}\")"
   ]
  },
  {
   "cell_type": "code",
   "execution_count": 127,
   "id": "2fe7d1a6",
   "metadata": {},
   "outputs": [
    {
     "name": "stdout",
     "output_type": "stream",
     "text": [
      "General error: division by zero\n"
     ]
    }
   ],
   "source": [
    "# 8. 'Exception': The base class for all errors in Python.\n",
    "# You can catch all types of errors using except Exception\n",
    "# (note that catching all errors may not be the best practice in all cases).\n",
    "try:\n",
    "    x = 1 / 0\n",
    "except Exception as e:\n",
    "    print(f\"General error: {e}\")"
   ]
  },
  {
   "cell_type": "markdown",
   "id": "04e87c1a",
   "metadata": {},
   "source": [
    "# 21. File handling"
   ]
  },
  {
   "cell_type": "code",
   "execution_count": 129,
   "id": "ab9454e4",
   "metadata": {},
   "outputs": [
    {
     "name": "stdout",
     "output_type": "stream",
     "text": [
      "[Errno 17] File exists: 'example1.txt'\n"
     ]
    }
   ],
   "source": [
    "# 1. \"x\" - Create a file  |  open() - Open a file\n",
    "\n",
    "\"\"\"\n",
    "file = open(\"example1.txt\", \"x\")\n",
    "file.close()\n",
    "--> Creates the file example1.txt.\n",
    "--> It is recommended to call close() after finishing to free system resources.\n",
    "--> The close() command also ensures all operations are completed.\n",
    "\"\"\"\n",
    "\n",
    "# If the file already exists, running this will cause an error\n",
    "\n",
    "try:\n",
    "    file = open(\"example1.txt\", \"x\")\n",
    "except Exception as e:\n",
    "    print(e)\n",
    "finally:\n",
    "    file.close()"
   ]
  },
  {
   "cell_type": "code",
   "execution_count": 130,
   "id": "d5f7d255",
   "metadata": {},
   "outputs": [],
   "source": [
    "# 2. \"w\" - Open a file for writing. If the file exists, its content will be overwritten.\n",
    "file = open(\"example1.txt\", \"w\")\n",
    "file.write(\"Hello.\")\n",
    "file.flush()"
   ]
  },
  {
   "cell_type": "code",
   "execution_count": 131,
   "id": "b1340957",
   "metadata": {},
   "outputs": [],
   "source": [
    "# 3. \"a\" - Open a file to append. Adds data to the end of the file without deleting the existing content.\n",
    "file = open(\"example1.txt\", \"a\")\n",
    "file.write(\"\\nI am Quang Anh\")\n",
    "file.close()"
   ]
  },
  {
   "cell_type": "code",
   "execution_count": 132,
   "id": "5353984a",
   "metadata": {},
   "outputs": [
    {
     "name": "stdout",
     "output_type": "stream",
     "text": [
      "1. Read the entire content:\n",
      "Hello.\n",
      "I am Quang Anh\n",
      "\n",
      "2. Read content line by line into a list:\n",
      "['Hello.\\n', 'I am Quang Anh']\n"
     ]
    }
   ],
   "source": [
    "# 4. \"r\" - Read file\n",
    "\n",
    "\"\"\"\n",
    "- read(size): Reads a specific number of bytes from the file.\n",
    "              If size is not specified, it reads the entire content.\n",
    "- readline(): Reads one line from the file.\n",
    "- readlines(): Reads all lines from the file and returns a list where each line is an element.\n",
    "\n",
    "\"\"\"\n",
    "\n",
    "# Read the entire content:\n",
    "print(\"1. Read the entire content:\")\n",
    "file = open(\"example1.txt\", \"r\")\n",
    "content = file.read()\n",
    "print(content)\n",
    "file.close()\n",
    "\n",
    "# Read content line by line into a list\n",
    "print(\"\\n2. Read content line by line into a list:\")\n",
    "with open(\"example1.txt\", \"r\") as f:\n",
    "    list_content = f.readlines()\n",
    "    print(list_content)"
   ]
  },
  {
   "cell_type": "markdown",
   "id": "544b11a5",
   "metadata": {},
   "source": [
    "# Some practice exercises for the concepts learned"
   ]
  },
  {
   "cell_type": "code",
   "execution_count": 133,
   "id": "8f1f7100",
   "metadata": {},
   "outputs": [
    {
     "name": "stdout",
     "output_type": "stream",
     "text": [
      "120\n"
     ]
    }
   ],
   "source": [
    "# Exercise 1: Calculate factorial (recursive)\n",
    "def factorial(n):\n",
    "    if n == 0:\n",
    "        return 1\n",
    "    else:\n",
    "        return n * factorial(n - 1)\n",
    "\n",
    "print(factorial(5))"
   ]
  },
  {
   "cell_type": "code",
   "execution_count": 134,
   "id": "fd224980",
   "metadata": {},
   "outputs": [
    {
     "name": "stdout",
     "output_type": "stream",
     "text": [
      "55\n"
     ]
    }
   ],
   "source": [
    "# Exercise 2: Fibonacci sequence (recursive)\n",
    "def fibonacci(n):\n",
    "    if n == 1:\n",
    "        return 1\n",
    "    if n == 0:\n",
    "        return 0\n",
    "    else:\n",
    "        return fibonacci(n - 1) + fibonacci(n - 2)\n",
    "\n",
    "print(fibonacci(10))"
   ]
  },
  {
   "cell_type": "code",
   "execution_count": 135,
   "id": "fdc6afda",
   "metadata": {},
   "outputs": [
    {
     "name": "stdout",
     "output_type": "stream",
     "text": [
      "3\n"
     ]
    }
   ],
   "source": [
    "# Exercise 3: Count the number of moves in the Tower of Hanoi (recursive)\n",
    "\n",
    "\"\"\"\n",
    "Problem:\n",
    "1. You have three rods (towers) and a number of disks of different sizes.\n",
    "2. The disks start stacked on one rod, arranged from smallest to largest\n",
    "   (smaller disks on top and larger disks at the bottom).\n",
    "3. The goal is to move all the disks from the initial rod to the target rod, using the third rod \n",
    "   as an auxiliary, with the following rules:\n",
    "    + Only one disk can be moved at a time.\n",
    "    + A disk cannot be placed on top of a smaller disk.\n",
    "    \n",
    "Task:  \n",
    "Write a recursive function that calculates the minimum number of moves required to move n disks \n",
    "from the initial rod to the target rod.\n",
    "\n",
    "\"\"\"\n",
    "\n",
    "def step(n):\n",
    "    if n == 1:\n",
    "        return 1\n",
    "    else:\n",
    "        return 2 * step(n - 1) + 1\n",
    "\n",
    "print(step(2))"
   ]
  },
  {
   "cell_type": "code",
   "execution_count": 136,
   "id": "c4e53dfe",
   "metadata": {},
   "outputs": [
    {
     "name": "stdout",
     "output_type": "stream",
     "text": [
      "The value 11 was found at index 5.\n"
     ]
    }
   ],
   "source": [
    "# Exercise 4: Binary Search\n",
    "\n",
    "\"\"\"\n",
    "Binary search is an efficient search algorithm for sorted lists.\n",
    "It works by repeatedly dividing the search interval in half.\n",
    "At each step, the algorithm compares the target value to the middle element of the current interval:\n",
    "- If they are equal, the target value is found.\n",
    "- If the target value is greater, it continues searching in the right half.\n",
    "- If the target value is smaller, it continues searching in the left half.\n",
    "This process repeats until the target is found or the search interval is empty.\n",
    "\"\"\"\n",
    "\n",
    "def binary_search(arr, target):\n",
    "    low = 0\n",
    "    high = len(arr) - 1\n",
    "\n",
    "    while low <= high:\n",
    "        mid = (low + high) // 2\n",
    "        if arr[mid] == target:\n",
    "            return mid  # Found the target\n",
    "        elif arr[mid] < target:\n",
    "            low = mid + 1  # Search in the right half\n",
    "        else:\n",
    "            high = mid - 1  # Search in the left half\n",
    "\n",
    "    return -1  # Target not found\n",
    "\n",
    "arr = [1, 2, 4, 6, 7, 11, 15, 16, 17]\n",
    "target = 11\n",
    "index = binary_search(arr, target)\n",
    "\n",
    "if index != -1:\n",
    "    print(f'The value {target} was found at index {index}.')\n",
    "else:\n",
    "    print(f'The value {target} is not in the list.')"
   ]
  },
  {
   "cell_type": "code",
   "execution_count": 137,
   "id": "550fcb07",
   "metadata": {},
   "outputs": [
    {
     "name": "stdout",
     "output_type": "stream",
     "text": [
      "Enter the number of people n: 11\n",
      "Enter the number k: 12\n",
      "The last surviving person is number: 11\n",
      "List of eliminated people in order: [1, 3, 6, 10, 7, 5, 9, 8, 4, 2]\n"
     ]
    }
   ],
   "source": [
    "# Exercise 5: Josephus Problem\n",
    "\n",
    "\"\"\"\n",
    "- Problem description:\n",
    "    In a group of n people standing in a circle, they are counted one by one in order.\n",
    "    The k-th person is eliminated from the circle. This process repeats with the remaining people\n",
    "    until only one person remains alive.\n",
    "\n",
    "- Requirements:\n",
    "    + Determine the position of the last surviving person (positions are numbered starting from 1).\n",
    "    + Print the list of eliminated people in the order they were removed.\n",
    "\"\"\"\n",
    "\n",
    "# Method 1:\n",
    "\n",
    "n = int(input(\"Enter the number of people n: \"))\n",
    "k = int(input(\"Enter the number k: \"))\n",
    "people = []\n",
    "eliminated_list = []\n",
    "\n",
    "for i in range(1, n + 1):\n",
    "    people.append(i)\n",
    "\n",
    "j = k - 1\n",
    "while True:\n",
    "    while j > len(people) - 1:\n",
    "        j = j - len(people)\n",
    "    eliminated_list.append(people[j])\n",
    "    people.pop(j)\n",
    "    j = j - 1 + k\n",
    "    if len(people) == 1:\n",
    "        break\n",
    "\n",
    "print(f'The last surviving person is number: {people[0]}')\n",
    "print(f'List of eliminated people in order: {eliminated_list}')"
   ]
  },
  {
   "cell_type": "code",
   "execution_count": 138,
   "id": "ba7ef66f",
   "metadata": {},
   "outputs": [
    {
     "name": "stdout",
     "output_type": "stream",
     "text": [
      "The last surviving person is number 11.\n"
     ]
    }
   ],
   "source": [
    "# Method 2:\n",
    "\n",
    "def josephus(n, k):\n",
    "    # Base case: If there is only one person, the position is 0\n",
    "    if n == 1:\n",
    "        return 0\n",
    "    else:\n",
    "        # Apply the recursive formula\n",
    "        return (josephus(n - 1, k) + k) % n\n",
    "\n",
    "def josephus_position(n, k):\n",
    "    # Convert from 0-based index to 1-based position\n",
    "    return josephus(n, k) + 1\n",
    "\n",
    "position = josephus_position(11, 12)\n",
    "print(f\"The last surviving person is number {position}.\")"
   ]
  }
 ],
 "metadata": {
  "kernelspec": {
   "display_name": "Python 3 (ipykernel)",
   "language": "python",
   "name": "python3"
  },
  "language_info": {
   "codemirror_mode": {
    "name": "ipython",
    "version": 3
   },
   "file_extension": ".py",
   "mimetype": "text/x-python",
   "name": "python",
   "nbconvert_exporter": "python",
   "pygments_lexer": "ipython3",
   "version": "3.12.3"
  }
 },
 "nbformat": 4,
 "nbformat_minor": 5
}
