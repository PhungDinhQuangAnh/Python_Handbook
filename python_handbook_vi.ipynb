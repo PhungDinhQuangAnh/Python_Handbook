{
 "cells": [
  {
   "cell_type": "markdown",
   "id": "80f5b934-15cb-4152-a8c3-94eaad3c6fcb",
   "metadata": {},
   "source": [
    "# Lập trình cơ bản python"
   ]
  },
  {
   "cell_type": "markdown",
   "id": "17574095-5b6a-4d6f-9545-f5a78f2280cd",
   "metadata": {},
   "source": [
    "# 1. Lệnh: Nhập - Xuất"
   ]
  },
  {
   "cell_type": "code",
   "execution_count": 10,
   "id": "601489a9-ff8b-46a8-a83b-d6560742cfb9",
   "metadata": {},
   "outputs": [
    {
     "name": "stdout",
     "output_type": "stream",
     "text": [
      "nhập số:4\n"
     ]
    }
   ],
   "source": [
    "# 1.NHẬP DỮ LIỆU ---> cú pháp: input(prompt) ---> prompt: nhắc nhở, thông báo.\n",
    "\n",
    "x = float(input(\"nhập số:\"))\n",
    "\n",
    "# Lưu ý: Dữ liệu từ bàn phím luôn là string\n",
    "# Lệnh float(...) là đang ép kiểu: string --> float"
   ]
  },
  {
   "cell_type": "code",
   "execution_count": 11,
   "id": "bce9823c-ab96-4f88-9bb4-a397769b09d2",
   "metadata": {},
   "outputs": [
    {
     "name": "stdout",
     "output_type": "stream",
     "text": [
      "Xin chào: Quang Anh 68\n",
      "a:4\n",
      "b:5\n",
      "4 > 5 : False\n"
     ]
    }
   ],
   "source": [
    "# 2.XUẤT DỮ LIỆU\n",
    "\n",
    "print('Xin','chào',end=':');print(\" Quang Anh\",68)\n",
    "\n",
    "\"\"\"\n",
    "\n",
    "+ Trong python khi kết thúc 1 câu lệnh thì py sẽ tự động xuống dòng ở câu lệnh tiếp theo bất\n",
    "kể là ghi cùng dòng hay khác dòng như trên.\n",
    "+ Muốn không xuống dòng mà in tiếp thì dùng: end=':' --> là kết thúc bằng dấu \":\" và in tiếp.\n",
    "\n",
    "\"\"\"\n",
    "\n",
    "# lùi tab vô cùng quan trọng trong py \n",
    "# ---> Khi lùi tab, máy sẽ tự hiểu câu lệnh lùi vào là câu lệnh con của lệnh trước\n",
    "# ---> Nếu không lùi sẽ báo lỗi\n",
    "# Ví dụ:\n",
    "\n",
    "a = int(input(\"a:\"))\n",
    "b = int(input(\"b:\"))\n",
    "if a>b:\n",
    "    print(a,\">\",b,\": True\")  # lùi tab\n",
    "else:\n",
    "    print(a,\">\",b,\": False\")  # Lùi tab"
   ]
  },
  {
   "cell_type": "markdown",
   "id": "07208e39-c9ed-4313-9747-7b1054ead27a",
   "metadata": {},
   "source": [
    "# 2. Kiểu Dữ Liệu Cơ Bản"
   ]
  },
  {
   "cell_type": "code",
   "execution_count": 12,
   "id": "5b489fb0-64e3-4f03-ba90-8fae83d63e3e",
   "metadata": {},
   "outputs": [
    {
     "name": "stdout",
     "output_type": "stream",
     "text": [
      "x = 1 --> <class 'int'>\n",
      "x = 1.0 --> <class 'float'>\n",
      "x = 1+2j --> <class 'complex'>\n",
      "x = True --> <class 'bool'>\n",
      "x = abc --> <class 'str'>\n",
      "x = None --> <class 'NoneType'>\n"
     ]
    }
   ],
   "source": [
    "# 1. KIỂU DỮ LIỆU CƠ BẢN\n",
    "\n",
    "x = 1       # Kiểu int\n",
    "print(\"x = 1\", end=\" --> \") ; print(type(x))\n",
    "\n",
    "x = 1.0     # Kiểu float\n",
    "print(\"x = 1.0\", end=\" --> \") ; print(type(x))\n",
    "\n",
    "x = 1+2j    # Kiểu complex\n",
    "print(\"x = 1+2j\", end=\" --> \") ; print(type(x))\n",
    "\n",
    "x = True    # Kiểu bool\n",
    "print(\"x = True\", end=\" --> \") ; print(type(x))\n",
    "\n",
    "x = 'abc'   # Kiểu string\n",
    "print(\"x = abc\", end=\" --> \") ; print(type(x))\n",
    "\n",
    "x = None    # Kiểu nonetype\n",
    "print(\"x = None\", end=\" --> \") ; print(type(x))"
   ]
  },
  {
   "cell_type": "code",
   "execution_count": 13,
   "id": "6cb91ccf-f989-4195-9edd-489179cb72ff",
   "metadata": {},
   "outputs": [
    {
     "name": "stdout",
     "output_type": "stream",
     "text": [
      "100200\n",
      "300\n",
      "300.0\n"
     ]
    }
   ],
   "source": [
    "# 2. ÉP/CHUYỂN KIỂU DỮ LIỆU\n",
    "\n",
    "m = 100\n",
    "n = \"200\"\n",
    "print(str(m)+n)\n",
    "\n",
    "print(m+int(n)) \n",
    "\n",
    "print(float(m)+float(n))"
   ]
  },
  {
   "cell_type": "markdown",
   "id": "c4c7da4e-e5ef-45e1-bf60-dc72d0ad47f7",
   "metadata": {},
   "source": [
    "# 3. Toán tử số học"
   ]
  },
  {
   "cell_type": "code",
   "execution_count": 14,
   "id": "38c846e1-193b-4eb1-afcd-0f257f109598",
   "metadata": {},
   "outputs": [
    {
     "name": "stdout",
     "output_type": "stream",
     "text": [
      "Nhập a:4\n",
      "Nhập b:5\n",
      "4%5=4\n"
     ]
    }
   ],
   "source": [
    "# x + y ---> phép cộng\n",
    "# x - y ---> phép trừ\n",
    "# x * y ---> phép nhân\n",
    "# x / y ---> phép chia\n",
    "# x % y ---> chia lấy phần dư\n",
    "# x ** y ---> phép mũ\n",
    "# x // y ---> chia lấy phần nguyên\n",
    "\n",
    "a = int(input(\"Nhập a:\"))\n",
    "b = int(input(\"Nhập b:\"))\n",
    "print(\"{0}%{1}={2}\".format(a, b, a%b))\n",
    "\n",
    "# --> các kí tự {0},{1},{2} sẽ lần lượt được thay bằng a, b, a%b bằng lệnh format"
   ]
  },
  {
   "cell_type": "markdown",
   "id": "55c1fae2-7de8-4b99-816e-b4cfcc650cf4",
   "metadata": {},
   "source": [
    "# 4. Toán tử so sánh và Toán tử logic"
   ]
  },
  {
   "cell_type": "code",
   "execution_count": 15,
   "id": "056b61ba-8d5d-445d-8870-227537745ab0",
   "metadata": {},
   "outputs": [
    {
     "name": "stdout",
     "output_type": "stream",
     "text": [
      "x:4\n",
      "y:5\n",
      "z:2000\n",
      "4<5<2000 là True\n"
     ]
    }
   ],
   "source": [
    "# 1. SO SÁNH\n",
    "# x>y\n",
    "# x<y\n",
    "# x==y --> x bằng y,  lưu ý:   \"==\": là so sánh\n",
    "#                              \"=\": là gán giá trị\n",
    "# x!=y --> x khác/không bằng y\n",
    "# x>=y\n",
    "# x<=y\n",
    "x = int(input(\"x:\"))\n",
    "y = int(input(\"y:\"))\n",
    "z = int(input(\"z:\"))\n",
    "print(\"{0}<{1}<{2} là {3}\".format(x,y,z,x<y<z))"
   ]
  },
  {
   "cell_type": "code",
   "execution_count": 1,
   "id": "53e46a10-26f3-404e-a249-5e005abe9180",
   "metadata": {},
   "outputs": [
    {
     "name": "stdout",
     "output_type": "stream",
     "text": [
      "x:5\n",
      "y:5\n",
      "z:2025\n",
      "5<5 and 5<2025: False\n",
      "not 5>5: True\n"
     ]
    }
   ],
   "source": [
    "# 2. LOGIC\n",
    "\n",
    "\"\"\"\n",
    "and: và\n",
    "or: hoặc\n",
    "not: phủ định --> Ví dụ: (14 > 5 == true) thì (not 14 > 5 == false)\n",
    "\"\"\"\n",
    "\n",
    "x = int(input(\"x:\"))\n",
    "y = int(input(\"y:\"))\n",
    "z = int(input(\"z:\"))\n",
    "print(\"{0}<{1} and {2}<{3}: {4}\".format(x,y,x,z, (x<y) and (x<z)))\n",
    "print(\"not {0}>{1}: {2}\".format(x,y,not x>y))"
   ]
  },
  {
   "cell_type": "markdown",
   "id": "512d06fb-5b69-4c6d-9b5a-2ba5e1519ea2",
   "metadata": {},
   "source": [
    "# 5. Toán Tử Gán Và Toán Tử Đặc Biệt"
   ]
  },
  {
   "cell_type": "code",
   "execution_count": 17,
   "id": "ea370df6-af5e-4abb-94a7-7c26a57cd082",
   "metadata": {},
   "outputs": [],
   "source": [
    "#  1. TOÁN TỬ GÁN\n",
    "#     a = 10 <=> a = 10\n",
    "#     a += 1 <=> a = a+1\n",
    "#     a -= 1 <=> a = a-1\n",
    "#     a *= 10 <=> a = a*10\n",
    "#     a /= 10 <=> a = a/10\n",
    "#     a %= 10 <=> a = a%10\n",
    "#     a //= 10 <=> a = a//10\n",
    "#     a **= 10 <=> a = a**10\n",
    "\n",
    "#  2. TOÁN TỬ BIT ( Là tính toán trên bit )\n",
    "#     (~, &, |, ^, <<, >>)"
   ]
  },
  {
   "cell_type": "markdown",
   "id": "4c0d409e-743e-471a-8468-fe9e112002fd",
   "metadata": {},
   "source": [
    "# 6. Toán Tử Điều Kiện"
   ]
  },
  {
   "cell_type": "code",
   "execution_count": 18,
   "id": "6c35e31b-a4d5-4475-b27f-e63d76f1913d",
   "metadata": {},
   "outputs": [
    {
     "name": "stdout",
     "output_type": "stream",
     "text": [
      "Nhập số:5\n",
      "5 là số lẻ\n"
     ]
    }
   ],
   "source": [
    "# 1. CẤU TRÚC 1 NHÁNH ( TỰ NGHĨ TÊN ĐÓ ^.^ )\n",
    "\n",
    "x = int(input(\"Nhập số:\"))\n",
    "kq = \"chẵn\" if (x % 2 == 0) else \"lẻ\"\n",
    "print(x,\"là số\",kq)"
   ]
  },
  {
   "cell_type": "code",
   "execution_count": 19,
   "id": "a491b724-563a-4916-a77e-9749cb034c00",
   "metadata": {},
   "outputs": [
    {
     "name": "stdout",
     "output_type": "stream",
     "text": [
      "   Đây là đứa bạn tôi mỗi khi tôi bảo lương người đàn ông của nó sau này: \n",
      "Thu nhập (triệu VNĐ):15\n",
      "lương 15.000.000 --> Đủ sống, nhưng không nuôi được cái miệng tau\n"
     ]
    }
   ],
   "source": [
    "# 2. CẤU TRÚC RẼ NHÁNH\n",
    "\n",
    "print(\"   Đây là đứa bạn tôi mỗi khi tôi bảo lương người đàn ông của nó sau này: \")\n",
    "income=int(input(\"Thu nhập (triệu VNĐ):\"))\n",
    "\n",
    "if income>=30:\n",
    "   print(\"lương\",income,end='.'),print(\"000.000 --> Thằng này mải kiếm tiền quên gia đình\")\n",
    "elif income>=20:\n",
    "   print(\"lương\",income,end='.'),print(\"000.000 --> Cao thế, làm gì đến lượt tau\")\n",
    "elif income>=10:\n",
    "   print(\"lương\",income,end='.'),print(\"000.000 --> Đủ sống, nhưng không nuôi được cái miệng tau\")\n",
    "elif income>=0:\n",
    "   print(\"Nghèo!\")\n",
    "else:\n",
    "   print(\"Thằng này thất nghiệp, nợ nần chồng chất\")"
   ]
  },
  {
   "cell_type": "markdown",
   "id": "c144bf81-9243-49e7-891a-87d564a824c2",
   "metadata": {},
   "source": [
    "# 7. Thư Viện Math"
   ]
  },
  {
   "cell_type": "code",
   "execution_count": 20,
   "id": "8ce22aa9-8bd1-4d3e-a131-668162eaf8fb",
   "metadata": {},
   "outputs": [
    {
     "name": "stdout",
     "output_type": "stream",
     "text": [
      "1.7320508075688772\n",
      "4.0\n"
     ]
    }
   ],
   "source": [
    "# Đầu tiên-Tiền đâu là phải\n",
    "# --> import math\n",
    "# 1. MỘT SỐ HÀM\n",
    "\n",
    "\"\"\"\n",
    "~ math.ceil(x) --> Giá trị nguyên nhỏ nhất lớn hơn hoặc bằng x\n",
    "VD: x=4.5 ==> math.ceil(x)=5\n",
    "\n",
    "~ math.floor(x) --> Giá trị nguyên lớn nhất nhỏ hơn hoặc bằng x\n",
    "VD: x=4.1 ==> math.floor(x)=4\n",
    "\n",
    "~ math.fabs(x) --> Trị tuyệt đối (trả về số thực)\n",
    "~ math.exp(x) --> e mũ x (e=2.718281828)\n",
    "~ math.log(x,y) ---> loga cơ số y của x\n",
    "~ math.pow(x,y) ---> x mũ y\n",
    "~ math.sqrt(x) ---> căn bậc 2 của x\n",
    "\"\"\"\n",
    "\n",
    "# 2. GIÁ TRỊ CONSTANT\n",
    "\n",
    "\"\"\"\n",
    "math.pi ---> gọi ra em π\n",
    "math.e  ---> gọi ra em e\n",
    "\"\"\"\n",
    "\n",
    "import math\n",
    "print(math.sqrt(3))\n",
    "print(math.fabs(-4))"
   ]
  },
  {
   "cell_type": "markdown",
   "id": "1093d531-345c-4403-81d2-732fe6b7fbc0",
   "metadata": {},
   "source": [
    "# 8. Kiểu Dữ Liệu List"
   ]
  },
  {
   "cell_type": "code",
   "execution_count": 21,
   "id": "a180fbff-b3f4-4a15-bf3b-12d3f6f560d9",
   "metadata": {},
   "outputs": [
    {
     "data": {
      "text/plain": [
       "' \\n\\n- Là 1 chuỗi các phần tử có thứ tự - Nghĩa là có thể gọi phần tử ở từng vị trí\\n- Cách khai báo: dùng dấu []\\n\\n'"
      ]
     },
     "execution_count": 21,
     "metadata": {},
     "output_type": "execute_result"
    }
   ],
   "source": [
    "\"\"\" \n",
    "- Là 1 chuỗi các phần tử có thứ tự - Nghĩa là có thể gọi phần tử ở từng vị trí\n",
    "- Cách khai báo: dùng dấu []\n",
    "\"\"\""
   ]
  },
  {
   "cell_type": "code",
   "execution_count": 2,
   "id": "74801bfd-0eab-4553-b35d-ebf6afd8cff2",
   "metadata": {},
   "outputs": [
    {
     "name": "stdout",
     "output_type": "stream",
     "text": [
      "[]\n"
     ]
    }
   ],
   "source": [
    "# Tạo list rỗng\n",
    "emty_list = []\n",
    "print(emty_list)"
   ]
  },
  {
   "cell_type": "code",
   "execution_count": 4,
   "id": "b8828c5f-9c89-4518-8978-f19e2002b66c",
   "metadata": {},
   "outputs": [
    {
     "name": "stdout",
     "output_type": "stream",
     "text": [
      "['Q', 'u', 'a', 'n', 'h']\n",
      "Q\n",
      "<class 'str'>\n"
     ]
    }
   ],
   "source": [
    "# Tạo ra 1 đối tượng list\n",
    "list1 = list(\"Quanh\")\n",
    "\n",
    "print(list1)  # In ra toàn bộ list \n",
    "\n",
    "print(list1[0]) # Gọi phần tử vị trí 0 \n",
    "\n",
    "print(type(list1[0]))  # In ra kiểu dữ liệu của phần tử tại vị trí 0"
   ]
  },
  {
   "cell_type": "code",
   "execution_count": 24,
   "id": "0b263709-2889-46db-b257-3a6a8726fcfe",
   "metadata": {},
   "outputs": [
    {
     "name": "stdout",
     "output_type": "stream",
     "text": [
      "['red', 'green', 'blue', 'yellow']\n",
      "green\n"
     ]
    }
   ],
   "source": [
    "# Tạo ra list có dữ liệu\n",
    "colors = [\"red\",\"green\",\"blue\",\"yellow\"]\n",
    "\n",
    "print(colors)\n",
    "print(colors[1])\n",
    "\n",
    "# Lưu ý: list có thứ tự, tính từ 0 (trái qua phải) "
   ]
  },
  {
   "cell_type": "code",
   "execution_count": 25,
   "id": "eb102d07-f30d-4d09-91a7-f1d6fbd47dc5",
   "metadata": {},
   "outputs": [
    {
     "name": "stdout",
     "output_type": "stream",
     "text": [
      "['quanh', 'lanh', 'chanh', 'xin', 'chào']\n",
      "['lanh', 'chanh']\n"
     ]
    }
   ],
   "source": [
    "# Một vài cách lấy phần tử trong list\n",
    "name=[\"quanh\",\"lanh\",\"chanh\",\"xin\",\"chào\"]\n",
    "\n",
    "print(name[:])  #--> lấy hết phần tử\n",
    "print(name[1:3]) #--> Lấy từ vị trí 1 đến nhỏ hơn 3 [1:3) hay [1:2] theo toán học"
   ]
  },
  {
   "cell_type": "code",
   "execution_count": 26,
   "id": "35ea3e1b-6c30-428f-b57c-2226d23e958a",
   "metadata": {},
   "outputs": [
    {
     "name": "stdout",
     "output_type": "stream",
     "text": [
      "5\n"
     ]
    }
   ],
   "source": [
    "# Số lượng phần tử trong list\n",
    "\n",
    "print(len(name))"
   ]
  },
  {
   "cell_type": "code",
   "execution_count": 27,
   "id": "2d6262f4-f576-429c-950d-3ebbb7977a19",
   "metadata": {},
   "outputs": [
    {
     "name": "stdout",
     "output_type": "stream",
     "text": [
      "['quanh', 'lanh', 'chanh', 'xin', 'chào', 'thích']\n",
      "['quanh', 'lanh', 'chanh', 'xin', 'chào', 'thích', 'ăn']\n"
     ]
    }
   ],
   "source": [
    "# Thêm phần tử vào cuối list\n",
    "name = [\"quanh\",\"lanh\",\"chanh\",\"xin\",\"chào\"]\n",
    "\n",
    "    # Cách 1:\n",
    "name.append(\"thích\")\n",
    "print(name)\n",
    "\n",
    "    # Cách 2:\n",
    "name[len(name):] = [\"ăn\"] \n",
    "#---> nghĩa là vị trị cuối của list là rỗng thì được thay thành chuỗi mình gán\n",
    "print(name)"
   ]
  },
  {
   "cell_type": "code",
   "execution_count": 28,
   "id": "e880b837-a09f-422a-88a0-4e10b888c031",
   "metadata": {},
   "outputs": [
    {
     "name": "stdout",
     "output_type": "stream",
     "text": [
      "['đỏ', 'cam', 'chàm', 'vàng', 'lục']\n"
     ]
    }
   ],
   "source": [
    "# Chèn phần tử\n",
    "màu=[\"đỏ\",\"cam\",\"vàng\",\"lục\"]\n",
    "màu.insert(2, \"chàm\")\n",
    "\n",
    "print(màu)"
   ]
  },
  {
   "cell_type": "code",
   "execution_count": 6,
   "id": "1b97a556-5af5-4749-b914-c4c50a747972",
   "metadata": {},
   "outputs": [
    {
     "name": "stdout",
     "output_type": "stream",
     "text": [
      "Đếm 'xanh':  3\n"
     ]
    }
   ],
   "source": [
    "# Đếm số lượng phần tử thỏa mãn điều kiện\n",
    "màu1 = [\"xanh\", \"đỏ\", \"tím\", \"xanh\", \"xanh\"]\n",
    "\n",
    "print(\"Đếm 'xanh': \", màu1.count(\"xanh\"))"
   ]
  },
  {
   "cell_type": "code",
   "execution_count": 30,
   "id": "46e40525-8b7b-4f54-9e75-ab5532c41ff1",
   "metadata": {},
   "outputs": [
    {
     "name": "stdout",
     "output_type": "stream",
     "text": [
      "['đỏ', 'tím', 'xanh', 'xanh']\n"
     ]
    }
   ],
   "source": [
    "# lệnh kiểm tra và xóa phần tử (máy sẽ xóa phần tử đầu tiên gặp từ trái qua)\n",
    "màu1 = [\"xanh\", \"đỏ\", \"tím\", \"xanh\", \"xanh\"]\n",
    "\n",
    "if \"xanh\" in màu1:\n",
    "    màu1.remove(\"xanh\")\n",
    "    \n",
    "print(màu1)    "
   ]
  },
  {
   "cell_type": "code",
   "execution_count": 31,
   "id": "9040d7a3-1c29-4bbc-bc84-73d2c7d33d11",
   "metadata": {},
   "outputs": [
    {
     "name": "stdout",
     "output_type": "stream",
     "text": [
      "['xanh', 'đỏ', 'xanh', 'xanh']\n"
     ]
    }
   ],
   "source": [
    "# Xóa phần tử theo vị trí\n",
    "màu1 = [\"xanh\", \"đỏ\", \"tím\", \"xanh\", \"xanh\"]\n",
    "màu1.pop(2)  # Xóa phần tử ở vị trí số 2 (tính từ 0)\n",
    "\n",
    "print(màu1)"
   ]
  },
  {
   "cell_type": "code",
   "execution_count": 32,
   "id": "18e191de-1080-485b-a96f-983203a7839c",
   "metadata": {},
   "outputs": [
    {
     "name": "stdout",
     "output_type": "stream",
     "text": [
      "[1, 2, 3, 3, 7, 9, 10]\n",
      "[10, 9, 7, 3, 3, 2, 1]\n"
     ]
    }
   ],
   "source": [
    "# Sắp xếp xuôi \n",
    "numbers = [1, 2, 3, 9, 3, 7, 10]\n",
    "numbers.sort()\n",
    "print(numbers)\n",
    "\n",
    "# Sắp xếp ngược\n",
    "numbers.sort(reverse=True)\n",
    "print(numbers)"
   ]
  },
  {
   "cell_type": "code",
   "execution_count": 33,
   "id": "fe965007-4603-4916-9169-8603b1526490",
   "metadata": {},
   "outputs": [
    {
     "name": "stdout",
     "output_type": "stream",
     "text": [
      "[10, 7, 3, 9, 3, 2, 1]\n"
     ]
    }
   ],
   "source": [
    "# Đảo ngược chuỗi\n",
    "numbers = [1, 2, 3, 9, 3, 7, 10]\n",
    "numbers.reverse()\n",
    "\n",
    "print(numbers)"
   ]
  },
  {
   "cell_type": "code",
   "execution_count": null,
   "id": "118f910e-47d8-40ef-b527-e04bc00302a8",
   "metadata": {},
   "outputs": [],
   "source": [
    "# Xóa sạch\n",
    "numbers.clear()"
   ]
  },
  {
   "cell_type": "markdown",
   "id": "8a84bac8-de44-4b04-b937-bb4c1e02074f",
   "metadata": {},
   "source": [
    "# 9. Vòng Lặp For"
   ]
  },
  {
   "cell_type": "code",
   "execution_count": 34,
   "id": "58f1ac9b-4c83-4f7c-869c-ac861433589e",
   "metadata": {},
   "outputs": [
    {
     "name": "stdout",
     "output_type": "stream",
     "text": [
      "0\n",
      "1\n",
      "2\n",
      "3\n",
      "4\n",
      "5\n",
      "6\n",
      "7\n",
      "8\n",
      "9\n"
     ]
    }
   ],
   "source": [
    "\"\"\"\n",
    "    Vòng lặp đi từ 0 đến <n\n",
    "    Cấu trúc: for (biến) in range(start,end,step)\n",
    "    Khi chỉ để 1 giá trị trong range thì máy mặc định: start=0 và step=+1.\n",
    "\"\"\"\n",
    "\n",
    "n = 10\n",
    "for i in range(n):\n",
    "    print(i)"
   ]
  },
  {
   "cell_type": "code",
   "execution_count": 7,
   "id": "54563c1e-b8dc-41a2-a886-9a1b0b636c7a",
   "metadata": {},
   "outputs": [
    {
     "name": "stdout",
     "output_type": "stream",
     "text": [
      "nhập vào n: 10\n",
      "Tổng từ 0 đến 10 là:  55\n"
     ]
    }
   ],
   "source": [
    "# ví dụ tính tổng từ 0 --> n\n",
    "n = int(input(\"nhập vào n: \"))\n",
    "tong = 0\n",
    "\n",
    "for i in range(n+1):\n",
    "    tong += i\n",
    "    \n",
    "print(\"Tổng từ 0 đến\",n,\"là: \",tong)"
   ]
  },
  {
   "cell_type": "code",
   "execution_count": 36,
   "id": "50e3a025-4547-49e8-a7ae-cbb4f4d7482a",
   "metadata": {},
   "outputs": [
    {
     "name": "stdout",
     "output_type": "stream",
     "text": [
      "10\n",
      "8\n",
      "6\n",
      "4\n",
      "2\n"
     ]
    }
   ],
   "source": [
    "# Vòng lặp for có bước tăng tùy chỉnh\n",
    "for i in range(10,0,-2):\n",
    "    print(i)"
   ]
  },
  {
   "cell_type": "code",
   "execution_count": 37,
   "id": "cf843a40-3b84-4767-97b0-fdc873165287",
   "metadata": {},
   "outputs": [
    {
     "name": "stdout",
     "output_type": "stream",
     "text": [
      "red\n",
      "green\n",
      "blue\n",
      "yellow\n"
     ]
    }
   ],
   "source": [
    "# Vòng lặp for duyệt các phần tử của List\n",
    "colors = [\"red\", \"green\", \"blue\", \"yellow\"]\n",
    "for color in colors:\n",
    "    print(color)"
   ]
  },
  {
   "cell_type": "code",
   "execution_count": 38,
   "id": "8efcc396-c326-4440-934d-9c9dc305737c",
   "metadata": {},
   "outputs": [
    {
     "name": "stdout",
     "output_type": "stream",
     "text": [
      "red\n",
      "green\n",
      "blue\n",
      "yellow\n"
     ]
    }
   ],
   "source": [
    "# Vòng for duyệt các phần tử theo vị trí\n",
    "for i in range(len(colors)):\n",
    "    print(colors[i])"
   ]
  },
  {
   "cell_type": "code",
   "execution_count": 39,
   "id": "6904d971-38b4-44b3-9b25-5262d4d91be9",
   "metadata": {},
   "outputs": [
    {
     "name": "stdout",
     "output_type": "stream",
     "text": [
      "Nhập n:5\n",
      "5 là số nguyên tố\n"
     ]
    }
   ],
   "source": [
    "# Vòng for-else kết hợp break\n",
    "# ---> Lệnh else sẽ được thực hiện khi vòng lặp for không thực hiện lệnh break\n",
    "# Ví dụ: Nhập n từ bàn phím và kiểm tra xem n có phải số nguyên tố không?\n",
    "\n",
    "import math\n",
    "\n",
    "n=int(input(\"Nhập n:\"))\n",
    "\n",
    "if(n<2):\n",
    "    print(n,\"không là số nguyên tố\")\n",
    "else:\n",
    "    for i in range(2,int(math.sqrt(n))+1,1):\n",
    "        if (n%i==0):\n",
    "            print(n,\"không là số nguyên tố\")\n",
    "            break\n",
    "    else:\n",
    "        print(n,\"là số nguyên tố\")"
   ]
  },
  {
   "cell_type": "code",
   "execution_count": 40,
   "id": "fb8665c4-7ba0-43af-bcb5-c906b620fa71",
   "metadata": {},
   "outputs": [
    {
     "name": "stdout",
     "output_type": "stream",
     "text": [
      " Bảng cửu chương 2 : \n",
      "2 x 1 = 2\n",
      "2 x 2 = 4\n",
      "2 x 3 = 6\n",
      "2 x 4 = 8\n",
      "2 x 5 = 10\n",
      "2 x 6 = 12\n",
      "2 x 7 = 14\n",
      "2 x 8 = 16\n",
      "2 x 9 = 18\n",
      "2 x 10 = 20\n",
      " Bảng cửu chương 3 : \n",
      "3 x 1 = 3\n",
      "3 x 2 = 6\n",
      "3 x 3 = 9\n",
      "3 x 4 = 12\n",
      "3 x 5 = 15\n",
      "3 x 6 = 18\n",
      "3 x 7 = 21\n",
      "3 x 8 = 24\n",
      "3 x 9 = 27\n",
      "3 x 10 = 30\n"
     ]
    }
   ],
   "source": [
    "# Vòng for lồng nhau\n",
    "# Bài Tập: In bảng cửu chương từ 2 -> 3\n",
    "\n",
    "for i in range(2,4,+1):\n",
    "    print(\" Bảng cửu chương\",i,\": \")\n",
    "    for j in range(1,11,1):\n",
    "        print(\"{0} x {1} = {2}\".format(i,j,i*j))"
   ]
  },
  {
   "cell_type": "markdown",
   "id": "674cd829-8578-479d-b43d-9bbd188a7a48",
   "metadata": {},
   "source": [
    "# 10. Kiểu Dữ Liệu String"
   ]
  },
  {
   "cell_type": "code",
   "execution_count": 41,
   "id": "80cbf74e-0460-445f-a37a-26e882409441",
   "metadata": {},
   "outputs": [
    {
     "name": "stdout",
     "output_type": "stream",
     "text": [
      "Hello Quanh\n"
     ]
    }
   ],
   "source": [
    "# Cộng chuỗi\n",
    "s1 = \"Hello\"\n",
    "s2 = \"Quanh\"\n",
    "s3 = s1+\" \"+s2\n",
    "print(s3)"
   ]
  },
  {
   "cell_type": "code",
   "execution_count": 42,
   "id": "2eee6834-c1ec-4450-bb6f-6be9e292db5e",
   "metadata": {},
   "outputs": [
    {
     "name": "stdout",
     "output_type": "stream",
     "text": [
      "\n",
      "chuoi1\n",
      "chuoi2\n",
      "chuoi3\n",
      "\n"
     ]
    }
   ],
   "source": [
    "# Tạo chuỗi nhiều dòng\n",
    "chuoi_nhieu_dong = '''\n",
    "chuoi1\n",
    "chuoi2\n",
    "chuoi3\n",
    "'''\n",
    "print(chuoi_nhieu_dong)"
   ]
  },
  {
   "cell_type": "code",
   "execution_count": 43,
   "id": "5b4f61d4-a5d4-4b13-b478-de64b85defb2",
   "metadata": {},
   "outputs": [
    {
     "name": "stdout",
     "output_type": "stream",
     "text": [
      "I LOVE YOU \n",
      "I LOVE YOU \n",
      "I LOVE YOU \n",
      "I LOVE YOU \n",
      "I LOVE YOU \n",
      "I LOVE YOU \n",
      "I LOVE YOU \n",
      "I LOVE YOU \n",
      "I LOVE YOU \n",
      "I LOVE YOU \n",
      "\n"
     ]
    }
   ],
   "source": [
    "# Lặp lại chuỗi\n",
    "love = \"I LOVE YOU \\n\"  # --> \\n = xuống dòng\n",
    "love_10 = love*10\n",
    "print(love_10)"
   ]
  },
  {
   "cell_type": "code",
   "execution_count": 44,
   "id": "9fb033e7-5212-4849-9a44-08a40e7c2f2b",
   "metadata": {},
   "outputs": [
    {
     "name": "stdout",
     "output_type": "stream",
     "text": [
      "s2 là con của s1\n",
      "s3 không là con của s1\n"
     ]
    }
   ],
   "source": [
    "# Kiểm tra chuỗi con có trong chuỗi khác không\n",
    "s1 = \"Hello Quanh\"\n",
    "s2 = \"Quanh\"\n",
    "s3 = \"HAHA\"\n",
    "if s2 in s1:\n",
    "    print(\"s2 là con của s1\")\n",
    "else:\n",
    "    print(\"s2 không là con của s1\")\n",
    "if s3 in s1:\n",
    "    print(\"s3 là con của s1\")\n",
    "else:\n",
    "    print(\"s3 không là con của s1\")"
   ]
  },
  {
   "cell_type": "code",
   "execution_count": 45,
   "id": "2f6ea7b6-d226-4934-a29a-593c3be691cf",
   "metadata": {},
   "outputs": [
    {
     "name": "stdout",
     "output_type": "stream",
     "text": [
      "Hôm nay trời đẹp quá\n"
     ]
    }
   ],
   "source": [
    "# Viết hoa chữ đầu của chuỗi\n",
    "s = \"hôm nay trời đẹp quá\"\n",
    "s = str.capitalize(s)\n",
    "print(s)"
   ]
  },
  {
   "cell_type": "code",
   "execution_count": 46,
   "id": "9585a339-2de9-43d3-b867-17ba36cb3cae",
   "metadata": {},
   "outputs": [
    {
     "name": "stdout",
     "output_type": "stream",
     "text": [
      "HÔM NAY TRỜI ĐẸP QUÁ!\n"
     ]
    }
   ],
   "source": [
    "# Viết hoa toàn bộ chuỗi\n",
    "s = \"hôm nay trời đẹp quá!\"\n",
    "s = str.upper(s)\n",
    "print(s)"
   ]
  },
  {
   "cell_type": "code",
   "execution_count": 47,
   "id": "4f848917-d1ca-4664-b968-985fd0febd7b",
   "metadata": {},
   "outputs": [
    {
     "name": "stdout",
     "output_type": "stream",
     "text": [
      "hôm nay trời đẹp quá!\n"
     ]
    }
   ],
   "source": [
    "# Viết thường toàn bộ chuỗi\n",
    "s = \"HÔM NAY TRỜI ĐẸP QUÁ!\"\n",
    "s = str.lower(s)\n",
    "print(s)"
   ]
  },
  {
   "cell_type": "code",
   "execution_count": 48,
   "id": "2884a6d0-1c8b-450e-a035-453fe17d0766",
   "metadata": {},
   "outputs": [
    {
     "name": "stdout",
     "output_type": "stream",
     "text": [
      "4\n",
      "2\n"
     ]
    }
   ],
   "source": [
    "# Tìm và đếm số lượng chuỗi con\n",
    "s = \"Tôi đẹp zai quá! Bạn có thấy tôi đẹp zai không?\"\n",
    "\n",
    "#   -> Thuật toán tìm: \n",
    "print(s.find(\"đẹp zai\"))  \n",
    "         # Th1: nếu thấy, trả về vị trí của kí tự đầu tiên của từ đó (kết quả bài này =4)\n",
    "         # Th2: nếu không tìm thấy, trả về -1\n",
    "\n",
    "#   -> Thuật toán đếm:\n",
    "print(s.count(\"đẹp zai\"))                    "
   ]
  },
  {
   "cell_type": "code",
   "execution_count": 49,
   "id": "cdb82363-8b9d-4a3b-89f4-f56850e0a893",
   "metadata": {},
   "outputs": [
    {
     "name": "stdout",
     "output_type": "stream",
     "text": [
      "Tôi đẹp trai quá! Bạn có thấy tôi đẹp trai không?\n"
     ]
    }
   ],
   "source": [
    "# Thay thế\n",
    "s = \"Tôi đẹp zai quá! Bạn có thấy tôi đẹp zai không?\"\n",
    "s = s.replace(\"zai\",\"trai\")  # --> s.replace(chuỗi cần thay thế,chuỗi thay thế)\n",
    "print(s)"
   ]
  },
  {
   "cell_type": "code",
   "execution_count": 9,
   "id": "47bbc3ae-9a0c-4805-96f3-71cd4cc33198",
   "metadata": {},
   "outputs": [
    {
     "name": "stdout",
     "output_type": "stream",
     "text": [
      "['Tôi', 'đẹp', 'zai', 'quá!', 'Bạn', 'có', 'thấy', 'tôi', 'đẹp', 'zai', 'không', '?']\n"
     ]
    }
   ],
   "source": [
    "# Cắt chuỗi thành 1 list \n",
    "s = \"Tôi đẹp zai quá! Bạn có thấy tôi đẹp zai không ?\"\n",
    "word_list = s.split(\" \")  #--> s.split(\"kí tự để cắt\")\n",
    "print(word_list)"
   ]
  },
  {
   "cell_type": "code",
   "execution_count": 51,
   "id": "e9e57fa4-d7da-43d0-8ba3-bfb92ac4960f",
   "metadata": {},
   "outputs": [
    {
     "name": "stdout",
     "output_type": "stream",
     "text": [
      "I + You = Love\n"
     ]
    }
   ],
   "source": [
    "# Format là 1 hàm trong string\n",
    "print(\"{0} + {1} = {2}\".format(\"I\",\"You\",\"Love\"))"
   ]
  },
  {
   "cell_type": "code",
   "execution_count": 52,
   "id": "bb90480a-97f3-4c1a-bd62-bf9295cfd888",
   "metadata": {},
   "outputs": [
    {
     "name": "stdout",
     "output_type": "stream",
     "text": [
      "Tôi đẹp zai quá!\n"
     ]
    }
   ],
   "source": [
    "# Lấy chuỗi con\n",
    "s = \"Tôi đẹp zai quá! Bạn có thấy tôi đẹp zai không ?\"\n",
    "print(s[0:16])  # --> lấy từ vị trí 0 đến <16"
   ]
  },
  {
   "cell_type": "markdown",
   "id": "afbabb1c-ce92-43be-bbfd-799254ba3cca",
   "metadata": {},
   "source": [
    "# 11. Vòng Lặp While"
   ]
  },
  {
   "cell_type": "code",
   "execution_count": 55,
   "id": "6e51a760-52a3-46d9-b5f9-51d61e683169",
   "metadata": {},
   "outputs": [
    {
     "name": "stdout",
     "output_type": "stream",
     "text": [
      "Nhập vào n (n>0):-1\n",
      " Mời nhập lại \n",
      "Nhập vào n (n>0):-3\n",
      " Mời nhập lại \n",
      "Nhập vào n (n>0):4\n",
      " OK rồi đó \n"
     ]
    }
   ],
   "source": [
    "# For dùng khi biết trước số lần lặp.\n",
    "# While dùng khi không biết trước số lần lặp.\n",
    "# Ví dụ: Yêu cầu người dùng nhập vào 1 số lớn hơn 0. Nếu nhập sai thì nhập lại.\n",
    "\n",
    "n =- 1\n",
    "while (n <= 0):\n",
    "    n = int(input(\"Nhập vào n (n>0):\"))\n",
    "    if (n <= 0):\n",
    "        print(\" Mời nhập lại \")\n",
    "    else:\n",
    "        print(\" OK rồi đó \")"
   ]
  },
  {
   "cell_type": "code",
   "execution_count": 56,
   "id": "3758b31c-6310-47d8-983d-86b2299e873b",
   "metadata": {},
   "outputs": [
    {
     "name": "stdout",
     "output_type": "stream",
     "text": [
      "Cách 1 - Tư duy:\n",
      "Nhập số nguyên >0: 50\n",
      "Số 50 chuyển sang hệ nhị phân là: 110010\n",
      " \n",
      "Cách 2 - Thuật toán có sẵn:\n",
      "Nhập số nguyên >0: 50\n",
      "Số 50 chuyển sang hệ nhị phân là: 110010\n"
     ]
    }
   ],
   "source": [
    "# Bài tập chuyển từ hệ thập phân sang hệ nhị phân\n",
    "\n",
    " # Cách 1: Tính theo tư duy thông thường\n",
    "print(\"Cách 1 - Tư duy:\")\n",
    "\n",
    "m = int(input(\"Nhập số nguyên >0: \"))\n",
    "temp = m\n",
    "s = \"\"\n",
    "\n",
    "while(m>0):\n",
    "    s = str(m%2)+s\n",
    "    m = m//2\n",
    "    \n",
    "print(\"Số\",temp,\"chuyển sang hệ nhị phân là:\",s)\n",
    "print(\" \")\n",
    "\n",
    " # Cách 2: Dùng thuật toán có sẵn\n",
    "print(\"Cách 2 - Thuật toán có sẵn:\")\n",
    "\n",
    "number = int(input(\"Nhập số nguyên >0: \"))\n",
    "hnp = bin(number)[2:] \n",
    "\n",
    "# bin(..) là hàm chuyển htp sang hnp. (bin là vt tắt của binary - hệ nhị phân)\n",
    "# Tuy nhiên để kí hiệu là hnp, python sẽ ghi thêm kí tự '0b' lên đầu.\n",
    "# --> Để xóa kí tự đó, ta dùng [2:] là xóa 2 kí tự đầu(có thể dùng cho cả string và số)\n",
    "\n",
    "print(\"Số\",number,\"chuyển sang hệ nhị phân là:\",hnp)"
   ]
  },
  {
   "cell_type": "markdown",
   "id": "7221b35f-7067-4e9a-8249-e87c36543e3c",
   "metadata": {},
   "source": [
    "# 12. Lệnh Break và Continue"
   ]
  },
  {
   "cell_type": "code",
   "execution_count": 57,
   "id": "a172805f-3cb8-4365-a834-c286042f0e0a",
   "metadata": {},
   "outputs": [
    {
     "name": "stdout",
     "output_type": "stream",
     "text": [
      "0\n",
      "1\n",
      "2\n",
      "3\n",
      "4\n",
      "5\n"
     ]
    }
   ],
   "source": [
    "# 1. break: phá vỡ vòng lặp \"CHỨA\" nó, nếu for lồng nhau thì chỉ phá vỡ 1 vòng gần nhất \"CHỨA\" nó\n",
    "\n",
    "# ví dụ: in ra số từ 0 --> 5, nếu >5 thì ngưng vòng lặp\n",
    "for i in range(10):\n",
    "    if (i>5):\n",
    "        break\n",
    "    print(i)"
   ]
  },
  {
   "cell_type": "code",
   "execution_count": 58,
   "id": "ac13a291-9311-4cc8-976d-fbd511b1e34b",
   "metadata": {},
   "outputs": [
    {
     "name": "stdout",
     "output_type": "stream",
     "text": [
      "0\n",
      "2\n",
      "4\n",
      "6\n",
      "8\n",
      "10\n"
     ]
    }
   ],
   "source": [
    "# 2. continue: bỏ qua đoạn code sau nó\n",
    "\n",
    "# ví dụ: in ra số chẵn trong dãy từ 1->10\n",
    "for i in range(11):\n",
    "    if(i%2!=0):\n",
    "        continue\n",
    "    print(i)"
   ]
  },
  {
   "cell_type": "markdown",
   "id": "551efdf6-e9f9-47da-95fe-a593b4d863eb",
   "metadata": {},
   "source": [
    "# 13. Kiểu Dữ Liệu TUPLE"
   ]
  },
  {
   "cell_type": "code",
   "execution_count": 10,
   "id": "a87ce180-1244-424f-ba6a-5d020000983f",
   "metadata": {},
   "outputs": [
    {
     "name": "stdout",
     "output_type": "stream",
     "text": [
      "(0, 'quanh', '2', 'hello')\n"
     ]
    }
   ],
   "source": [
    "\"\"\"\n",
    "- Tuple là 1 chuỗi các phần tử có thể gọi từng phần tử giống list.\n",
    "- Sự khác nhau là giá trị trong tuple không thể thay đổi.\n",
    "- Giá trị của tuple và list đều có thể bị trùng lặp.(dùng nó dể phân biệt với kiểu set)\n",
    "- Cách khai báo: dùng dấu ()\n",
    "VD: list=[0,1,2,5,5]\n",
    "    tuple=(0,1,2,4,4)\n",
    "\"\"\" \n",
    "\n",
    "my_tuple = (0,\"quanh\",\"2\",\"hello\")\n",
    "print(my_tuple)"
   ]
  },
  {
   "cell_type": "code",
   "execution_count": 11,
   "id": "b2c4d10a-46ac-4142-a499-c534e936db8c",
   "metadata": {},
   "outputs": [
    {
     "ename": "TypeError",
     "evalue": "'tuple' object does not support item assignment",
     "output_type": "error",
     "traceback": [
      "\u001b[0;31m---------------------------------------------------------------------------\u001b[0m",
      "\u001b[0;31mTypeError\u001b[0m                                 Traceback (most recent call last)",
      "Cell \u001b[0;32mIn[11], line 3\u001b[0m\n\u001b[1;32m      1\u001b[0m \u001b[38;5;66;03m# Không thể thay đổi giá trị trong tuple\u001b[39;00m\n\u001b[1;32m      2\u001b[0m my_tuple \u001b[38;5;241m=\u001b[39m (\u001b[38;5;241m3\u001b[39m,\u001b[38;5;124m\"\u001b[39m\u001b[38;5;124mquanh\u001b[39m\u001b[38;5;124m\"\u001b[39m,\u001b[38;5;124m\"\u001b[39m\u001b[38;5;124m2\u001b[39m\u001b[38;5;124m\"\u001b[39m,\u001b[38;5;124m\"\u001b[39m\u001b[38;5;124mhello\u001b[39m\u001b[38;5;124m\"\u001b[39m)\n\u001b[0;32m----> 3\u001b[0m \u001b[43mmy_tuple\u001b[49m\u001b[43m[\u001b[49m\u001b[38;5;241;43m0\u001b[39;49m\u001b[43m]\u001b[49m \u001b[38;5;241m=\u001b[39m \u001b[38;5;124m\"\u001b[39m\u001b[38;5;124mlemon\u001b[39m\u001b[38;5;124m\"\u001b[39m  \u001b[38;5;66;03m# ---> Lỗi\u001b[39;00m\n",
      "\u001b[0;31mTypeError\u001b[0m: 'tuple' object does not support item assignment"
     ]
    }
   ],
   "source": [
    "# Không thể thay đổi giá trị trong tuple\n",
    "my_tuple = (3,\"quanh\",\"2\",\"hello\")\n",
    "my_tuple[0] = \"lemon\"  # ---> Lỗi"
   ]
  },
  {
   "cell_type": "code",
   "execution_count": 12,
   "id": "a45421f1-3157-48a8-b17a-d8ed2ebf6e7c",
   "metadata": {},
   "outputs": [
    {
     "name": "stdout",
     "output_type": "stream",
     "text": [
      "quanh\n",
      "(5, 'quanh')\n"
     ]
    }
   ],
   "source": [
    "# In ra phần tử\n",
    "my_tuple = (5,\"quanh\",\"2\",\"hello\")\n",
    "print(my_tuple[1])\n",
    "print(my_tuple[0:2])"
   ]
  },
  {
   "cell_type": "code",
   "execution_count": 62,
   "id": "5df088ea-1521-46b3-a4ca-371d9f98e4b5",
   "metadata": {},
   "outputs": [
    {
     "name": "stdout",
     "output_type": "stream",
     "text": [
      "5 - Kiểu dữ liệu: <class 'int'>\n",
      "quanh - Kiểu dữ liệu: <class 'str'>\n",
      "2 - Kiểu dữ liệu: <class 'str'>\n",
      "hello - Kiểu dữ liệu: <class 'str'>\n"
     ]
    }
   ],
   "source": [
    "# Dùng for in phần tử\n",
    "for i in tuple:\n",
    "    print(i,end = \" - Kiểu dữ liệu: \");print(type(i))"
   ]
  },
  {
   "cell_type": "code",
   "execution_count": 63,
   "id": "14e67383-81ef-4daa-83ac-53fa7aef5418",
   "metadata": {},
   "outputs": [
    {
     "name": "stdout",
     "output_type": "stream",
     "text": [
      "(1, 2, 3, 2, 3, 4, 5, 6, 7)\n"
     ]
    }
   ],
   "source": [
    "# Cộng nhiều tuple\n",
    "y = (1,2,3)+(2,3,4)+(5,6,7)\n",
    "print(y)"
   ]
  },
  {
   "cell_type": "code",
   "execution_count": 13,
   "id": "ace571f7-580f-491f-b513-1066986e3a54",
   "metadata": {},
   "outputs": [
    {
     "name": "stdout",
     "output_type": "stream",
     "text": [
      "('YÊU', 'YÊU', 'YÊU')\n"
     ]
    }
   ],
   "source": [
    "# Nhân tuple\n",
    "y = (\"YÊU\",)*3\n",
    "print(y)"
   ]
  },
  {
   "cell_type": "code",
   "execution_count": 65,
   "id": "be26883b-4e87-4e51-9fab-16402daad1ea",
   "metadata": {},
   "outputs": [
    {
     "name": "stdout",
     "output_type": "stream",
     "text": [
      "False\n",
      "True\n"
     ]
    }
   ],
   "source": [
    "# Kiểm tra phần tử có tồn tại trong tuple hay không\n",
    "traicay = (\"cam\",\"quyt\",\"mango\",\"apple\")\n",
    "print(\"xoai\" in traicay)\n",
    "print(\"cam\" in traicay)"
   ]
  },
  {
   "cell_type": "code",
   "execution_count": 66,
   "id": "f998d754-d996-4e0a-bbc8-45e3e332b0d3",
   "metadata": {},
   "outputs": [
    {
     "name": "stdout",
     "output_type": "stream",
     "text": [
      "4\n"
     ]
    }
   ],
   "source": [
    "# Hàm len\n",
    "traicay = (\"cam\",\"quyt\",\"mango\",\"apple\")\n",
    "print(len(traicay))"
   ]
  },
  {
   "cell_type": "code",
   "execution_count": 67,
   "id": "f4a13f31-45e6-4e6d-9f49-b0f604f3af75",
   "metadata": {},
   "outputs": [
    {
     "name": "stdout",
     "output_type": "stream",
     "text": [
      "2\n"
     ]
    }
   ],
   "source": [
    "# Đếm\n",
    "traicay = (\"cam\",\"cam\",\"quyt\",\"mango\",\"apple\")\n",
    "print(traicay.count(\"cam\"))"
   ]
  },
  {
   "cell_type": "code",
   "execution_count": 68,
   "id": "154eb4cf-d9b2-4ccf-9688-c10a25e58eba",
   "metadata": {},
   "outputs": [
    {
     "name": "stdout",
     "output_type": "stream",
     "text": [
      "bo\n",
      "áo\n",
      "22\n"
     ]
    }
   ],
   "source": [
    "# Min, Max, Sum\n",
    "clothes = (\"áo\",\"quần\",\"bo\")\n",
    "print(min(clothes)) \n",
    "print(max(clothes))\n",
    "\n",
    "diem = (1,2,10,9)\n",
    "print(sum(diem))"
   ]
  },
  {
   "cell_type": "code",
   "execution_count": 69,
   "id": "d17e7add-97fc-4083-8eac-c9a4698f458a",
   "metadata": {},
   "outputs": [
    {
     "name": "stdout",
     "output_type": "stream",
     "text": [
      "['apple', 'cam', 'cam', 'mango', 'quyt']\n"
     ]
    }
   ],
   "source": [
    "# Sắp xếp tuple và chuyển về list \n",
    "traicay = (\"cam\",\"cam\",\"quyt\",\"mango\",\"apple\")\n",
    "list_tc = sorted(traicay)\n",
    "print(list_tc)"
   ]
  },
  {
   "cell_type": "markdown",
   "id": "4a5e4a75-1af1-42f8-8564-93340771a411",
   "metadata": {},
   "source": [
    "# 14. Kiểu Dữ Liệu Set"
   ]
  },
  {
   "cell_type": "code",
   "execution_count": 70,
   "id": "db20228f-9f66-410f-b376-3f0c16d8d374",
   "metadata": {},
   "outputs": [
    {
     "name": "stdout",
     "output_type": "stream",
     "text": [
      "{'Lý', 'Toán', 'Hóa'}\n",
      "{1, 3, 4, 5, 9}\n"
     ]
    }
   ],
   "source": [
    "\"\"\"\n",
    "- Set là tập hợp không thể gọi từng phần tử, giá trị không được trùng nhau, không thể thay đổi.\n",
    "   --> ứng dụng lưu trữ cccd, biển số xe, SĐT,...\n",
    "- Khi nhập dữ liệu vào set, set sẽ tự động sắp xếp thứ tự tăng dần\n",
    "- Tuy nhiên mình có thể xóa các mục set và thêm các mục set mới.\n",
    "- Cách khai báo: {}\n",
    "\"\"\"\n",
    "\n",
    "# Tạo mới set\n",
    "monHoc = {\"Toán\",\"Lý\",\"Hóa\"}\n",
    "print(monHoc)\n",
    "So = {1,5,4,3,9}\n",
    "print(So)"
   ]
  },
  {
   "cell_type": "code",
   "execution_count": 71,
   "id": "8eff2822-88ba-4f0f-8b35-2e5eb9350bac",
   "metadata": {},
   "outputs": [
    {
     "name": "stdout",
     "output_type": "stream",
     "text": [
      "Lý\n",
      "Toán\n",
      "Hóa\n"
     ]
    }
   ],
   "source": [
    "# Duyệt phần tử trong set\n",
    "for x in monHoc:\n",
    "    print(x)"
   ]
  },
  {
   "cell_type": "code",
   "execution_count": 14,
   "id": "ffb85734-7364-45e1-b177-b69a2f5be39c",
   "metadata": {},
   "outputs": [
    {
     "name": "stdout",
     "output_type": "stream",
     "text": [
      "{'Anh', 'Toán', 'Lý', 'Hóa'}\n",
      "{'Anh', 'Lý', 'dành thời gian cho người thân', 'Toán', 'Đọc sách', 'Hóa'}\n",
      "{'Anh', 'Lý', 'Toán', 'better', 'Hóa', 'kns'}\n"
     ]
    }
   ],
   "source": [
    "# Thêm phần tử vào set\n",
    "monHoc = {\"Toán\",\"Lý\",\"Hóa\"}\n",
    "monHoc.add(\"Anh\")\n",
    "print(monHoc)\n",
    "\n",
    "# *****\n",
    "them = {\"Đọc sách\",\"dành thời gian cho người thân\"}\n",
    "them.update(monHoc)\n",
    "print(them)\n",
    "\n",
    "# *****\n",
    "list_o = [\"kns\",\"better\",\"better\"]\n",
    "monHoc.update(list_o)\n",
    "print(monHoc)"
   ]
  },
  {
   "cell_type": "code",
   "execution_count": 73,
   "id": "190d7a9f-6a78-4962-99c4-8499d3119c54",
   "metadata": {},
   "outputs": [
    {
     "name": "stdout",
     "output_type": "stream",
     "text": [
      "{'better', 'kns', 'Lý', 'Anh', 'Hóa'}\n",
      "{'better', 'kns', 'Lý', 'Anh', 'Hóa'}\n"
     ]
    }
   ],
   "source": [
    "# Xóa phần tử\n",
    "\n",
    "# 1.remove --> xóa nếu không có sẽ báo lỗi\n",
    "monHoc.remove(\"Toán\")\n",
    "print(monHoc)\n",
    "\n",
    "# 2.discard --> xóa nếu không có thì thôi\n",
    "monHoc.discard(\"Sinh hoc\")\n",
    "print(monHoc)\n",
    "\n",
    "# 3.pop() --> Loại bỏ phần tử đầu tiên\n",
    "# 4.clear() --> làm rỗng tập hợp\n",
    "# 5.del() --> xóa cả set ý luôn(biến mất cả biến)"
   ]
  },
  {
   "cell_type": "markdown",
   "id": "020ce433-282b-4b16-b163-fb7bbb94556e",
   "metadata": {},
   "source": [
    "# Bài tập quay số trúng thưởng (ứng dụng set)"
   ]
  },
  {
   "cell_type": "code",
   "execution_count": 15,
   "id": "4060aef5-9897-4e4d-bdc1-8d0bbfdbcf56",
   "metadata": {},
   "outputs": [
    {
     "name": "stdout",
     "output_type": "stream",
     "text": [
      "\n",
      "Chương trình quay SĐT trúng thưởng cho khách hàng may mắn\n",
      "                 -------Menu-------   \n",
      "1 - Thêm SĐT vào thùng phiếu\n",
      "2 - Xóa SĐT khỏi thùng phiếu\n",
      "3 - Random ngẫu nhiên 1 SĐT trúng thưởng\n",
      "4 - Kết thúc chương trình\n",
      "Lưu ý: Vui lòng chọn số thứ tự chức năng.\n",
      "\n",
      "\n",
      "Mời nhập lựa chọn của bạn: 3\n",
      "⚠️ Thùng phiếu trống. Hãy thêm SĐT\n",
      "\n",
      "Mời nhập lựa chọn của bạn: 1\n",
      "---> Mời nhập SĐT dự thưởng: 0123\n",
      "Thùng phiếu hiện tại:  {'0123'}\n",
      "\n",
      "Mời nhập lựa chọn của bạn: 1\n",
      "---> Mời nhập SĐT dự thưởng: 0345\n",
      "Thùng phiếu hiện tại:  {'0345', '0123'}\n",
      "\n",
      "Mời nhập lựa chọn của bạn: 1\n",
      "---> Mời nhập SĐT dự thưởng: 0987\n",
      "Thùng phiếu hiện tại:  {'0987', '0345', '0123'}\n",
      "\n",
      "Mời nhập lựa chọn của bạn: 3\n",
      "🎉 Chúc mừng SĐT ( 0987 ) đã trúng thưởng 🎉\n",
      "==> Chúng tôi đã xóa SĐT ( 0987 ) ra khỏi thùng phiếu!\n",
      "Thùng phiếu hiện tại:  {'0345', '0123'}\n",
      "\n",
      "Mời nhập lựa chọn của bạn: 2\n",
      "---> Mời nhập SĐT dự thưởng cần xóa:0123\n",
      "Thùng phiếu hiện tại:  {'0345'}\n",
      "\n",
      "Mời nhập lựa chọn của bạn: 4\n",
      "🎯 Chương trình quay số trúng thưởng kết thúc!\n"
     ]
    }
   ],
   "source": [
    "\"\"\"\n",
    "Bài tập:\n",
    "       Xây dựng chương trình quay số trúng thưởng với các chức năng:\n",
    "            1. Thêm 1 SĐT dự thưởng vào thùng\n",
    "            2. Xóa 1 SĐT dự thưởng ra khỏi thùng \n",
    "            3. Quay số ngẫu nhiên lấy ra 1 SĐT trúng thưởng\n",
    "        --> như kiểu xổ số kiến thiết :))\n",
    "\"\"\"\n",
    "import random\n",
    "\n",
    "thungphieu = set()\n",
    "\n",
    "print(\"\")\n",
    "print(\"Chương trình quay SĐT trúng thưởng cho khách hàng may mắn\")\n",
    "print(\"                 -------Menu-------   \")\n",
    "print(\"1 - Thêm SĐT vào thùng phiếu\")\n",
    "print(\"2 - Xóa SĐT khỏi thùng phiếu\")\n",
    "print(\"3 - Random ngẫu nhiên 1 SĐT trúng thưởng\")\n",
    "print(\"4 - Kết thúc chương trình\")\n",
    "print(\"Lưu ý: Vui lòng chọn số thứ tự chức năng.\")\n",
    "print(\"\")\n",
    "\n",
    "while(True):\n",
    "    print(\"\")\n",
    "    luachon = int(input(\"Mời nhập lựa chọn của bạn: \"))\n",
    "    \n",
    "    if (luachon == 1):\n",
    "        SĐT = input(\"---> Mời nhập SĐT dự thưởng: \")\n",
    "        thungphieu.add(SĐT)\n",
    "        print(\"Thùng phiếu hiện tại: \",thungphieu)\n",
    "        \n",
    "    elif (luachon == 2):\n",
    "        SĐT = input(\"---> Mời nhập SĐT dự thưởng cần xóa:\")\n",
    "        thungphieu.discard(SĐT)\n",
    "        print(\"Thùng phiếu hiện tại: \",thungphieu)\n",
    "        \n",
    "    elif (luachon == 3):\n",
    "        if not thungphieu:\n",
    "            print(\"⚠️ Thùng phiếu trống. Hãy thêm SĐT\")\n",
    "            continue\n",
    "            \n",
    "        i = random.randint(1,len(thungphieu))\n",
    "        j = 1\n",
    "        for x in thungphieu:\n",
    "            if(j == i):\n",
    "                break\n",
    "            j += 1\n",
    "            \n",
    "        print(\"🎉 Chúc mừng SĐT (\",x,\") đã trúng thưởng 🎉\")\n",
    "        thungphieu.discard(x)\n",
    "        print(\"==> Chúng tôi đã xóa SĐT (\",x,\") ra khỏi thùng phiếu!\")\n",
    "        print(\"Thùng phiếu hiện tại: \",thungphieu)\n",
    "        \n",
    "    elif (luachon == 4):\n",
    "        print(\"🎯 Chương trình quay số trúng thưởng kết thúc!\")\n",
    "        break\n",
    "        \n",
    "    else:\n",
    "        print(luachon,\"không có trong menu\")"
   ]
  },
  {
   "cell_type": "markdown",
   "id": "8678f92c-9fd7-42e0-89b3-56869260a7f0",
   "metadata": {},
   "source": [
    "# 15. Kiểu Dữ Liệu Dictionary"
   ]
  },
  {
   "cell_type": "code",
   "execution_count": 74,
   "id": "d948adfe-c267-40a5-856c-cc06cb01f4e7",
   "metadata": {},
   "outputs": [
    {
     "name": "stdout",
     "output_type": "stream",
     "text": [
      "{'HoVaTen': 'Nguyễn Văn A', 'Lớp': 'A3', 'ĐiểmTB': 9.5}\n",
      "Nguyễn Văn A\n",
      "9.5\n"
     ]
    }
   ],
   "source": [
    "\"\"\"\n",
    "    Dictionary dùng để lưu trữ các giá trị dữ liệu trong các cặp key:value\n",
    "    Là 1 tập hợp sắp xếp theo thứ tự, có thể thay đổi và không cho phép trùng lặp\n",
    "    Kể từ phiên bản py 3.7, các từ điển được sắp xếp theo thứ tự\n",
    "    Cách khai báo: {key:value}\n",
    "\"\"\"\n",
    "\n",
    "# VD:\n",
    "student = {\n",
    "         \"HoVaTen\":\"Nguyễn Văn A\",\n",
    "         \"Lớp\":\"A3\",\n",
    "         \"ĐiểmTB\":9.5\n",
    "        }\n",
    "\n",
    "print(student)\n",
    "print(student[\"HoVaTen\"]) #--> student[key] -> lấy ra value của key đó.\n",
    "print(student[\"ĐiểmTB\"])  # Lưu ý: không thể student[value]"
   ]
  },
  {
   "cell_type": "code",
   "execution_count": 75,
   "id": "d601c689-a07e-492b-8c23-eb73f97cd5cc",
   "metadata": {},
   "outputs": [
    {
     "name": "stdout",
     "output_type": "stream",
     "text": [
      "A3\n"
     ]
    }
   ],
   "source": [
    "# Sử dụng get() để lấy giá trị\n",
    "print(student.get(\"Lớp\"))"
   ]
  },
  {
   "cell_type": "code",
   "execution_count": 76,
   "id": "4414d7e4-95af-43a1-a29b-060a743382cf",
   "metadata": {},
   "outputs": [
    {
     "name": "stdout",
     "output_type": "stream",
     "text": [
      "{'HoVaTen': 'Lê Văn B', 'Lớp': 'A1', 'ĐiểmTB': 9.5, 'Toán': 9, 'Văn': 9}\n"
     ]
    }
   ],
   "source": [
    "# Cập nhật giá trị & Thêm giá trị\n",
    "\n",
    "# Cách 1: Trực tiếp key = value (có thể là cập nhật lại hoặc thêm 1 cặp mới)\n",
    "student[\"Lớp\"] = \"A1\"\n",
    "\n",
    "# Cách 2: Dùng update ( có thể update nhiều giá trị )\n",
    "student.update({\"HoVaTen\":\"Lê Văn B\",\"Toán\":9,\"Văn\":9})\n",
    "print(student)"
   ]
  },
  {
   "cell_type": "code",
   "execution_count": 77,
   "id": "98025d89-dda9-4dfe-983f-56208edc0a92",
   "metadata": {},
   "outputs": [
    {
     "name": "stdout",
     "output_type": "stream",
     "text": [
      "{'HoVaTen': 'Nguyễn Văn A', 'ĐiểmTB': 9.5, 'Toán': 9, 'NơiSinh': 'Trái Đất'}\n",
      "{'HoVaTen': 'Nguyễn Văn A', 'ĐiểmTB': 9.5, 'Toán': 9}\n",
      "{'HoVaTen': 'Nguyễn Văn A', 'ĐiểmTB': 9.5}\n"
     ]
    }
   ],
   "source": [
    "# Xóa các mục\n",
    "student = {\n",
    "    \"HoVaTen\":\"Nguyễn Văn A\",\n",
    "    \"Lớp\":\"A3\",\n",
    "    \"ĐiểmTB\":9.5, \n",
    "    \"Toán\":9,\n",
    "    \"NơiSinh\":\"Trái Đất\"\n",
    "}\n",
    "\n",
    "# C1: pop()\n",
    "student.pop(\"Lớp\")\n",
    "print(student)\n",
    "\n",
    "# C2: popitem()  --> Xóa mục cuối cùng\n",
    "student.popitem()\n",
    "print(student)\n",
    "\n",
    "# C3: del() (vt tắt của delete)\n",
    "del student[\"Toán\"]\n",
    "print(student)"
   ]
  },
  {
   "cell_type": "code",
   "execution_count": 78,
   "id": "405f1d7c-672b-4668-8f79-0c052f934afb",
   "metadata": {},
   "outputs": [],
   "source": [
    "# Lệnh xóa khác\n",
    "\n",
    "    # 1. xóa các biến bằng pop()\n",
    "    # --> VD: student.pop() --> máy xóa luôn biến student\n",
    "    \n",
    "    # 2. làm trống bằng clear()\n",
    "    # --> VD: student.clear() --> làm trống lại biến student"
   ]
  },
  {
   "cell_type": "code",
   "execution_count": 79,
   "id": "598d6190-0b78-4a35-9a97-a87072bd074f",
   "metadata": {},
   "outputs": [
    {
     "name": "stdout",
     "output_type": "stream",
     "text": [
      "Nguyễn Văn A\n",
      "A3\n",
      "9.5\n",
      "9\n",
      "Bãi rác\n",
      "***********\n",
      "HoVaTen Nguyễn Văn A\n",
      "Lớp A3\n",
      "ĐiểmTB 9.5\n",
      "Toán 9\n",
      "NơiSinh Bãi rác\n"
     ]
    }
   ],
   "source": [
    "# Kết hợp for\n",
    "student={\n",
    "    \"HoVaTen\":\"Nguyễn Văn A\",\n",
    "    \"Lớp\":\"A3\",\n",
    "    \"ĐiểmTB\":9.5, \n",
    "    \"Toán\":9,\n",
    "    \"NơiSinh\":\"Bãi rác\"\n",
    "}\n",
    "\n",
    "# 1. Duyệt các keys\n",
    "\"\"\"\n",
    "       VD: for x in student:\n",
    "              print(x)\n",
    "              \n",
    "           for x in student.keys():\n",
    "              print(x)\n",
    "\"\"\"\n",
    "# 2. Duyệt các values\n",
    "\"\"\"\n",
    "       VD: for x in student.values():\n",
    "              print(x)\n",
    "\"\"\"\n",
    "# 3. Duyệt đồng thời key:value\n",
    "\"\"\"\n",
    "       VD: for x,y in student.items():\n",
    "              print(x,y)\n",
    "\"\"\"\n",
    "\n",
    "for x in student.values():\n",
    "    print(x)\n",
    "    \n",
    "print(\"***********\")\n",
    "\n",
    "for x,y in student.items():\n",
    "    print(x,y)"
   ]
  },
  {
   "cell_type": "markdown",
   "id": "d753116b-51a8-4e02-94c3-ebecf39c20c2",
   "metadata": {},
   "source": [
    "# Bài tập xây dựng từ điển (ứng dụng Dictionary)"
   ]
  },
  {
   "cell_type": "code",
   "execution_count": 16,
   "id": "ae996e35-da8c-4c26-aa82-0c7bffc2471a",
   "metadata": {},
   "outputs": [
    {
     "name": "stdout",
     "output_type": "stream",
     "text": [
      "          Sổ tay điện tử kính chào quý khách !\n",
      "                   ------Menu------\n",
      "1 - Thêm 1 từ vựng mới (kèm nghĩa của từ) vào từ điển.\n",
      "2 - Tra cứu ý nghĩa 1 từ vựng.\n",
      "3 - Cập nhật,sửa ý nghĩa cho 1 từ vựng.\n",
      "4 - Xem toàn bộ từ vựng (không kèm ý nghĩa) đã lưu.\n",
      "5 - Xem toàn bộ từ vựng + ý nghĩa đã lưu\n",
      "6 - Xóa 1 từ trong từ điển.\n",
      "7 - Xóa toàn bộ từ vựng + ý nghĩa đã lưu.\n",
      "8 - Thoát.\n",
      "\n",
      "Lựa chọn của bạn: 1\n",
      "Nhập từ vựng: orange\n",
      "Nhập ý nghĩa: quả cam\n",
      "--> Đã cập nhật ( orange : quả cam ) vào từ điển.\n",
      "\n",
      "Lựa chọn của bạn: sky\n",
      "--> sky không có trong menu\n",
      "\n",
      "Lựa chọn của bạn: 1\n",
      "Nhập từ vựng: sky\n",
      "Nhập ý nghĩa: bầu trời\n",
      "--> Đã cập nhật ( sky : bầu trời ) vào từ điển.\n",
      "\n",
      "Lựa chọn của bạn: 4\n",
      "orange\n",
      "sky\n",
      "\n",
      "Lựa chọn của bạn: 5\n",
      "Từ điển hiện có 2 từ vựng\n",
      "  orange : quả cam\n",
      "  sky : bầu trời\n",
      "\n",
      "Lựa chọn của bạn: 6\n",
      "Nhập từ bạn muốn xóa: orange\n",
      "--> Đã xóa ( orange ) ra khỏi từ điển.\n",
      "\n",
      "Lựa chọn của bạn: 5\n",
      "Từ điển hiện có 1 từ vựng\n",
      "  sky : bầu trời\n",
      "\n",
      "Lựa chọn của bạn: 8\n",
      "--> Chương trình từ điển kết thúc!\n"
     ]
    }
   ],
   "source": [
    "\"\"\"\n",
    "BT: Xây dựng từ điển có các chức năng sau ( ng dùng được lựa chọn chức năng )\n",
    "1. Thêm 1 từ vựng mới (kèm nghĩa của từ) vào từ điển.\n",
    "2. Tra cứu ý nghĩa 1 từ vựng.\n",
    "3. Cập nhật ý nghĩa cho 1 từ vựng.\n",
    "4. Cho phép người dùng xóa 1 từ trong từ điển.\n",
    "5. Cho phép người dùng xóa toàn bộ từ vựng.\n",
    "6. Cho phép người dùng in ra toàn bộ từ vựng.\n",
    "6. Cho phép người dùng in ra toàn bộ từ vựng-ý nghĩa.\n",
    "7. Kết thúc chương trình.\n",
    "\n",
    "\"\"\"\n",
    "\n",
    "print(\"          Sổ tay điện tử kính chào quý khách !\")\n",
    "print(\"                   ------Menu------\")\n",
    "print(\"1 - Thêm 1 từ vựng mới (kèm nghĩa của từ) vào từ điển.\")\n",
    "print(\"2 - Tra cứu ý nghĩa 1 từ vựng.\")\n",
    "print(\"3 - Cập nhật,sửa ý nghĩa cho 1 từ vựng.\")\n",
    "print(\"4 - Xem toàn bộ từ vựng (không kèm ý nghĩa) đã lưu.\")\n",
    "print(\"5 - Xem toàn bộ từ vựng + ý nghĩa đã lưu\")\n",
    "print(\"6 - Xóa 1 từ trong từ điển.\")\n",
    "print(\"7 - Xóa toàn bộ từ vựng + ý nghĩa đã lưu.\")\n",
    "print(\"8 - Thoát.\")\n",
    "\n",
    "tudien = {}\n",
    "\n",
    "while(True):\n",
    "    print(\"\")\n",
    "    luachon = input(\"Lựa chọn của bạn: \")\n",
    "    \n",
    "    if(luachon == \"1\" or luachon == \"3\"):\n",
    "        tuvung = input(\"Nhập từ vựng: \")\n",
    "        ynghia = input(\"Nhập ý nghĩa: \")\n",
    "        tudien.update({tuvung:ynghia})\n",
    "        print(\"--> Đã cập nhật (\",tuvung,\":\",ynghia,\") vào từ điển.\")\n",
    "        \n",
    "    elif(luachon == \"2\"):\n",
    "        tracuu = input(\"Từ vựng bạn muốn tra cứu là: \")\n",
    "        if tracuu in tudien:\n",
    "            print(\"--> \",tracuu,\":\",tudien[tracuu])\n",
    "        else:\n",
    "            print(\"--> \",tracuu,\"chưa có trong từ điển\")\n",
    "            \n",
    "    elif(luachon == \"4\"):\n",
    "        for x in tudien.keys():\n",
    "            print(x)\n",
    "            \n",
    "    elif(luachon == \"5\"):\n",
    "        print(\"Từ điển hiện có\",len(tudien),\"từ vựng\")\n",
    "        for x,y in tudien.items():\n",
    "            print(\" \",x,\":\",y)\n",
    "            \n",
    "    elif(luachon == \"6\"):\n",
    "        tuxoa = input(\"Nhập từ bạn muốn xóa: \")\n",
    "        if tuxoa in tudien:\n",
    "            tudien.pop(tuxoa)\n",
    "            print(\"--> Đã xóa (\",tuxoa,\") ra khỏi từ điển.\")\n",
    "        else:\n",
    "            print(tuxoa,\"hiện chưa có trong từ điển\")\n",
    "            \n",
    "    elif(luachon == \"7\"):\n",
    "        tudien.clear()\n",
    "        print(\"--> Đã xóa toàn bộ từ điển.\")\n",
    "        \n",
    "    elif(luachon == \"8\"):\n",
    "        print(\"--> Chương trình từ điển kết thúc!\")\n",
    "        break\n",
    "        \n",
    "    else:\n",
    "        print(\"-->\",luachon,\"không có trong menu\")"
   ]
  },
  {
   "cell_type": "markdown",
   "id": "3a7e4d2f-1573-44d5-a0d8-30a77e83088f",
   "metadata": {},
   "source": [
    "# 16. Function Trong Python (Hàm)"
   ]
  },
  {
   "cell_type": "code",
   "execution_count": null,
   "id": "3ccd26df-5234-4fc6-9906-87744364b220",
   "metadata": {},
   "outputs": [],
   "source": [
    "\"\"\"\n",
    "1.Định nghĩa:\n",
    "    - Hàm là 1 khối mã chỉ chạy khi nó được gọi.\n",
    "    - Bạn có thể truyền dữ liệu, được gọi là tham số, vào 1 hàm.\n",
    "    - Kết quả là 1 hàm có thể trả về dữ liệu\n",
    "    \n",
    "2.Khai báo hàm:\n",
    "    Trong python, 1 hàm được định nghĩa bằng từ khóa def\n",
    "    VD:\n",
    "        def xinchao()\n",
    "            print(\"Xin chào!\")\n",
    "3.Gọi hàm:\n",
    "    Để gọi 1 hàm, hãy sử dụng tên hàm theo sau bởi dấu ()\n",
    "        xinchao()\n",
    "        \n",
    "4.Đối số (Arguments):\n",
    "    Hàm có thể nhận vào các tham số:\n",
    "        def xinchao(hovaten)\n",
    "            print(\"xin chào: \" + hovaten)\n",
    "\"\"\"    "
   ]
  },
  {
   "cell_type": "code",
   "execution_count": 80,
   "id": "acfdd9b3-2acd-4ff0-b657-999c245f57f5",
   "metadata": {},
   "outputs": [],
   "source": [
    "# Tạo hàm xin chào\n",
    "def xinchao():\n",
    "    print(\"Xin chào!\")"
   ]
  },
  {
   "cell_type": "code",
   "execution_count": 81,
   "id": "89c2b9de-9c12-4ba5-85c8-80d453850bee",
   "metadata": {},
   "outputs": [
    {
     "name": "stdout",
     "output_type": "stream",
     "text": [
      "Xin chào!\n"
     ]
    }
   ],
   "source": [
    "xinchao()"
   ]
  },
  {
   "cell_type": "code",
   "execution_count": 82,
   "id": "5daa5f0d-ecf7-46b9-b5d8-fab8ed730eeb",
   "metadata": {},
   "outputs": [],
   "source": [
    "# Đối số được đặt trong dấu ()\n",
    "def xinchao(hovaten):\n",
    "    print(\"Xin chào: \" + hovaten)"
   ]
  },
  {
   "cell_type": "code",
   "execution_count": 83,
   "id": "88b1253b-5831-4251-80ca-c9f76a2b5ca9",
   "metadata": {},
   "outputs": [
    {
     "name": "stdout",
     "output_type": "stream",
     "text": [
      "Xin chào: Nguyễn Thị A\n"
     ]
    }
   ],
   "source": [
    "xinchao(\"Nguyễn Thị A\")\n",
    "# Khi gọi xinchao thì nó là gọi lên hàm ở trên và trả về các câu lệnh trong đó, đối số hovaten đã được\n",
    "# thay bằng \"Nguyễn Thị A\"."
   ]
  },
  {
   "cell_type": "code",
   "execution_count": 84,
   "id": "5f9212b9-aae5-4d14-81d9-d895deb7d9ff",
   "metadata": {},
   "outputs": [],
   "source": [
    "# Nhiều đối số, mỗi đối số cách nhau bởi dấu phẩy\n",
    "def xinchao(ho, tendem, ten):\n",
    "    print(\"Xin chào bạn: \" + ho + tendem +ten)\n",
    "    print(\"Xin chào: \" + ten)   "
   ]
  },
  {
   "cell_type": "code",
   "execution_count": 85,
   "id": "18b0c073-1f0c-4245-856a-4dbc6cc5e1b8",
   "metadata": {},
   "outputs": [
    {
     "name": "stdout",
     "output_type": "stream",
     "text": [
      "Xin chào bạn: HoàngVănAnh\n",
      "Xin chào: Anh\n"
     ]
    }
   ],
   "source": [
    "xinchao(\"Hoàng\",\"Văn\",\"Anh\")"
   ]
  },
  {
   "cell_type": "code",
   "execution_count": 86,
   "id": "177f07d8-6f3d-472a-ae71-38324356e84e",
   "metadata": {},
   "outputs": [],
   "source": [
    "# Khi không xđ đc đối số, cta có thể sử dụng *\n",
    "def thoikhoabieu(*monhoc):\n",
    "    print(\"Môn 1: \" + monhoc[0])\n",
    "    print(\"Môn 2: \" + monhoc[1])"
   ]
  },
  {
   "cell_type": "code",
   "execution_count": 87,
   "id": "4c6cd490-579e-423a-ac8a-81a636de4835",
   "metadata": {},
   "outputs": [
    {
     "name": "stdout",
     "output_type": "stream",
     "text": [
      "Môn 1: Toán\n",
      "Môn 2: Lý\n"
     ]
    }
   ],
   "source": [
    "thoikhoabieu(\"Toán\",\"Lý\",\"Hóa\",\"Anh\")"
   ]
  },
  {
   "cell_type": "code",
   "execution_count": 88,
   "id": "1a43e3b0-d3b7-4d71-a143-d307dff86590",
   "metadata": {},
   "outputs": [],
   "source": [
    "# Vd: Hàm tính tổng\n",
    "def tinhtong(*giatri):\n",
    "    sum=0\n",
    "    for x in giatri:\n",
    "        sum+=x\n",
    "    print(sum)"
   ]
  },
  {
   "cell_type": "code",
   "execution_count": 89,
   "id": "ff46212d-1948-4797-8c3d-e62cf528d353",
   "metadata": {},
   "outputs": [
    {
     "name": "stdout",
     "output_type": "stream",
     "text": [
      "15\n"
     ]
    }
   ],
   "source": [
    "tinhtong(1,2,3,4,5)"
   ]
  },
  {
   "cell_type": "code",
   "execution_count": 90,
   "id": "4c0771d9-ae95-4b74-b0fb-3b929f83833d",
   "metadata": {},
   "outputs": [],
   "source": [
    "# Truyền nhiều đối số, xác định thông qua tên, sử dụng **\n",
    "def xinchao(**hovaten):\n",
    "    print(\"xin chào: \" + hovaten[\"ho\"])"
   ]
  },
  {
   "cell_type": "code",
   "execution_count": 91,
   "id": "f9dc922a-7076-4858-9d27-a090d14e69c4",
   "metadata": {},
   "outputs": [
    {
     "name": "stdout",
     "output_type": "stream",
     "text": [
      "xin chào: Phùng Đình\n"
     ]
    }
   ],
   "source": [
    "xinchao(ten=\"Anh\",tendem=\"Quang\",ho=\"Phùng Đình\")"
   ]
  },
  {
   "cell_type": "code",
   "execution_count": 92,
   "id": "e8d2d746-08cd-41c1-a68c-e4a185536331",
   "metadata": {},
   "outputs": [],
   "source": [
    "# Sử dụng từ khóa \"return\" để trả về giá trị\n",
    "def tinhtich(*giatri):\n",
    "    tich = 1\n",
    "    for x in giatri:\n",
    "        tich *= x\n",
    "    return tich\n",
    "# khi return hàm sẽ trả về giá trị tich"
   ]
  },
  {
   "cell_type": "code",
   "execution_count": 93,
   "id": "9cda7469-a6d1-4a33-8eaa-0cad0a5307a4",
   "metadata": {},
   "outputs": [
    {
     "name": "stdout",
     "output_type": "stream",
     "text": [
      "tich1:  40\n",
      "tich2:  135\n",
      "tich1 + tich2 = 175\n"
     ]
    }
   ],
   "source": [
    "tich1 = tinhtich(2, 4, 5)\n",
    "tich2 = tinhtich(3, 5, 9)\n",
    "tong = tich1 + tich2\n",
    "print(\"tich1: \", tich1)\n",
    "print(\"tich2: \", tich2)\n",
    "print(\"tich1 + tich2 =\", tong)"
   ]
  },
  {
   "cell_type": "code",
   "execution_count": 94,
   "id": "a3719be2-9655-4482-88b7-7f7b6f8154ef",
   "metadata": {},
   "outputs": [],
   "source": [
    "# Bài tập tìm UCLN của hai số a,b\n",
    "def gcd(a, b):\n",
    "    while(a != b):\n",
    "        if(a > b):\n",
    "            a = a - b\n",
    "        else:\n",
    "            b = b - a\n",
    "    return a;"
   ]
  },
  {
   "cell_type": "code",
   "execution_count": 95,
   "id": "bee241da-88a1-4a25-af31-aa5e60804f16",
   "metadata": {},
   "outputs": [
    {
     "name": "stdout",
     "output_type": "stream",
     "text": [
      "5\n"
     ]
    }
   ],
   "source": [
    "print(gcd(55,15))"
   ]
  },
  {
   "cell_type": "markdown",
   "id": "c8921666-8730-4274-b7dd-b14bc63546aa",
   "metadata": {},
   "source": [
    "# 17. Lambda Function trong Python"
   ]
  },
  {
   "cell_type": "code",
   "execution_count": 96,
   "id": "e1df52ad-80cf-4181-b67b-faeb8802cf2e",
   "metadata": {},
   "outputs": [
    {
     "name": "stdout",
     "output_type": "stream",
     "text": [
      "False\n"
     ]
    }
   ],
   "source": [
    "\"\"\"\n",
    "- Hàm lambda là 1 hàm ẩn danh nhỏ\n",
    "- Hàm lambda có thể nhận bất kỳ số lượng đối số nào, nhưng chỉ có thể có 1 biểu thức.\n",
    "- Cú pháp:\n",
    "    lambda arguments : expression\n",
    "- Ứng dụng với các dòng code đơn giản, sẽ nhanh hơn function bình thường.\n",
    "\"\"\"\n",
    "\n",
    "# Vd: Kiểm tra 1 số có là chỗ chẵn không\n",
    "kiemtrasochan = lambda a : (a%2 == 0)\n",
    "print(kiemtrasochan(5))"
   ]
  },
  {
   "cell_type": "code",
   "execution_count": 97,
   "id": "81c0c465-1844-4598-953c-d2dec0f2307c",
   "metadata": {},
   "outputs": [
    {
     "name": "stdout",
     "output_type": "stream",
     "text": [
      "15\n",
      "-7\n"
     ]
    }
   ],
   "source": [
    "# Ví dụ:\n",
    "tinhtong = lambda a, b : (a + b)\n",
    "print(tinhtong(5, 10))\n",
    "print(tinhtong(-2, -5))"
   ]
  },
  {
   "cell_type": "code",
   "execution_count": 98,
   "id": "17644f4a-9563-443a-82c4-86eb3d8a6036",
   "metadata": {},
   "outputs": [
    {
     "name": "stdout",
     "output_type": "stream",
     "text": [
      "625\n"
     ]
    }
   ],
   "source": [
    "# Ví dụ hàm lambda function trong các function\n",
    "def hammu(n):\n",
    "    return lambda x : x**n\n",
    "mu4 = hammu(4) \n",
    "\n",
    "# Khi gọi hàm hammu() r truyền vào gt 4 thì hàm trả về hàm: lambda x : x**4\n",
    "# lúc này mu4 trở thành hàm: lambda x : x**4\n",
    "\n",
    "print(mu4(5))\n",
    "\n",
    "# Khi gọi mu4 rồi truyền vào gt 5 thì gt 5 thay vào x và trả ra kết quả 5**4"
   ]
  },
  {
   "cell_type": "markdown",
   "id": "3d98a8e4-40b5-4760-9ef8-f381ef68e9eb",
   "metadata": {},
   "source": [
    "# Vài Bài Tập Cơ Bản Về Function"
   ]
  },
  {
   "cell_type": "code",
   "execution_count": 99,
   "id": "462471d7-a3ea-4414-91e7-66cbded17726",
   "metadata": {},
   "outputs": [
    {
     "name": "stdout",
     "output_type": "stream",
     "text": [
      "120\n"
     ]
    }
   ],
   "source": [
    "# Bài 1: Hàm tính giai thừa\n",
    "# Viết 1 hàm factorial(n) để tính giai thừa của 1 số nguyên n.\n",
    "\n",
    "def factorial(n):\n",
    "    result = 1\n",
    "    for i in range(1, n + 1):\n",
    "        result *= i\n",
    "    return result\n",
    "\n",
    "print(factorial(5))"
   ]
  },
  {
   "cell_type": "code",
   "execution_count": 100,
   "id": "f514d823-b064-4d5c-a3c3-a7c977a972ea",
   "metadata": {},
   "outputs": [
    {
     "name": "stdout",
     "output_type": "stream",
     "text": [
      "Không là số nguyên tố\n"
     ]
    }
   ],
   "source": [
    "# Bài 2: Hàm kiểm tra số nguyên tố\n",
    "# Viết 1 hàm is_primr(n) để kiểm tra xem số n có phải số nguyên tố hay không.\n",
    "\n",
    "def is_prime(n):\n",
    "    if(n <= 1):\n",
    "        return \"Không là số nguyên tố\"\n",
    "    for i in range(2, int(n**0.5) + 1):\n",
    "        if(n%i == 0):\n",
    "            return \"Không là số nguyên tố\"\n",
    "    return \"Là số nguyên tố\"\n",
    "\n",
    "print(is_prime(4))"
   ]
  },
  {
   "cell_type": "markdown",
   "id": "8934b767-a541-4c36-87d6-1dad074cc4af",
   "metadata": {},
   "source": [
    "# Vài Bài Tập Cơ Bản Về Lambda Function"
   ]
  },
  {
   "cell_type": "code",
   "execution_count": 101,
   "id": "fd39357c-c12f-4ba1-8a47-fca93f4b3e1b",
   "metadata": {},
   "outputs": [
    {
     "name": "stdout",
     "output_type": "stream",
     "text": [
      "[{'name': 'Dave', 'score': 65}, {'name': 'john', 'score': 75}, {'name': 'jane', 'score': 85}]\n"
     ]
    }
   ],
   "source": [
    "# Bài 1: Sắp xếp danh sách từ điển\n",
    "# Cho 1 danh sách các từ điển chứa thông tin về học sinh(tên và điểm số)\n",
    "# => Sử dụng lambda function để sắp xếp danh sách theo điểm số\n",
    "\n",
    "students = [\n",
    "    {'name':'john', 'score':75},\n",
    "    {'name':'jane', 'score':85},\n",
    "    {'name':'Dave', 'score':65}\n",
    "]\n",
    "sorted_students = sorted(students, key=lambda x:x['score'])\n",
    "\n",
    "\"\"\"\n",
    "Giải thích code:\n",
    "1. 'students' là kiểu dữ liệu list và các phần tử trong nó là kiểu dictionary\n",
    "\n",
    "2. Hàm sorted là hàm sắp xếp list, set, tuple\n",
    "    - Tuy nhiên đầu ra của hàm sorted luôn là kiểu list\n",
    "    - Cú pháp hàm sorted: sorted(iterable, key, reverse=false/true)\n",
    "            + iterable: Đối tượng cần sắp xếp ( ở đây là students )\n",
    "            + key: 1 HÀM để trích xuất 1 phần của mỗi phần tử trong list, phần này sẽ dùng làm tiêu chí sắp xếp.\n",
    "            + reverse: Nếu True, danh sách sẽ được sắp xếp theo thứ tự giảm dần\n",
    "            \n",
    "3. Lambda function([lambda x:x['score']):\n",
    "    - Lambda x:x['score'] có nghĩa là:\n",
    "        + Đối với mỗi phần tử x trong list students, giá trị x['score'] sẽ đc sử dụng làm tiêu chí sắp xếp\n",
    "        + Ở đây, x là 1 dictionary, và x['score'] là điểm số của học sinh\n",
    "\"\"\"\n",
    "\n",
    "print(sorted_students)"
   ]
  },
  {
   "cell_type": "markdown",
   "id": "790d2e27-65b6-49d2-b0de-7cc8af3d9200",
   "metadata": {},
   "source": [
    "# Bài Tập Nâng Cao Về Functions Và Lambda Functions"
   ]
  },
  {
   "cell_type": "code",
   "execution_count": 17,
   "id": "0b2bdc8a-b263-4597-981b-84e04039dad8",
   "metadata": {},
   "outputs": [
    {
     "name": "stdout",
     "output_type": "stream",
     "text": [
      "<map object at 0x7593284a9c90>\n",
      "[1, 9, 16, 36, 49, 64]\n"
     ]
    }
   ],
   "source": [
    "# Bài 1: Hàm lambda với map()\n",
    "\n",
    "\"\"\"\n",
    "Cho 1 list các số nguyên, sử dụng map() kết hợp với lambda function để tạo ra 1 list mới \n",
    "chứa bình phương các số trong list ban đầu.\n",
    "\"\"\"\n",
    "\n",
    "numbers = [1, 3, 4, 6, 7, 8]\n",
    "squared_numbers = map(lambda x:x**2, numbers)\n",
    "\n",
    "\"\"\"\n",
    "GT code:\n",
    "* Hàm map()\n",
    "- Map đc sử dụng để áp dụng 1 hàm cho mỗi phần tử của 1 iterable(như list,..) và trả về 1 iterable mới, \n",
    "iterable này theo python 3 là 1 kiểu map riêng.\n",
    "- Cú pháp: map(function,iterable)\n",
    "    + function: 1 hàm sẽ đc áp dụng cho mỗi phần tử trong iterable\n",
    "    + iterable: đối tượng mik muốn áp dụng ( ở đây là numbers)\n",
    "\"\"\"\n",
    "\n",
    "print(squared_numbers)         # Đầu ra của hàm map\n",
    "print(list(squared_numbers))   # Chuyển map thành list để hiển thị kết quả"
   ]
  },
  {
   "cell_type": "code",
   "execution_count": 18,
   "id": "dfc8ed29-35f5-4663-89e3-9defaef745b9",
   "metadata": {},
   "outputs": [
    {
     "name": "stdout",
     "output_type": "stream",
     "text": [
      "<filter object at 0x75932c6820b0>\n",
      "[2, 4, 6, 8, 10]\n"
     ]
    }
   ],
   "source": [
    "# Bài 2: Hàm lambda với filter()\n",
    "\n",
    "\"\"\"\n",
    "Cho 1 danh sách các số nguyên, sử dụng filter() kết hợp với lambda function để lọc ra các số chẵn.\n",
    "\"\"\"\n",
    "\n",
    "numbers = [1,2,3,4,5,6,7,8,9,10]\n",
    "even_numbers = filter(lambda z:z%2==0,numbers)\n",
    "\n",
    "print(even_numbers)            # Đầu ra của hàm filter\n",
    "print(list(even_numbers))      # Chuyển filter sang list để hiển thị kết quả\n",
    "\n",
    "# filter như kiểu bộ lọc cái nào True thì trả ra, cấu trúc thì giống map rồi"
   ]
  },
  {
   "cell_type": "code",
   "execution_count": 1,
   "id": "463796a2-aa3c-4b93-8a24-7cc4a470fe37",
   "metadata": {},
   "outputs": [
    {
     "name": "stdout",
     "output_type": "stream",
     "text": [
      "[2, 3, 5, 7]\n"
     ]
    }
   ],
   "source": [
    "# Bài 3: Hàm function với filter()\n",
    "\n",
    "\"\"\"\n",
    "Cho 1 danh sách các số nguyên, sử dụng filter() kết hợp với function để lọc ra các số nguyên tố.\n",
    "\"\"\"\n",
    "\n",
    "def is_prime(n):\n",
    "    if(n <= 1):\n",
    "        return False\n",
    "    for i in range(2, int(n**0.5) + 1):\n",
    "        if(n%i == 0):\n",
    "            return False\n",
    "    return True\n",
    "\n",
    "numbers = [1, 2, 3, 4, 5, 6, 7, 8, 9, 10]\n",
    "prime_numbers = list(filter(is_prime, numbers))\n",
    "\n",
    "print(prime_numbers)"
   ]
  },
  {
   "cell_type": "code",
   "execution_count": 148,
   "id": "b0564db7-7e32-471b-8a9f-bbca048a9983",
   "metadata": {},
   "outputs": [
    {
     "name": "stdout",
     "output_type": "stream",
     "text": [
      "\n"
     ]
    }
   ],
   "source": [
    "# Bài 4: Hàm tính fibonacci với đệ quy\n",
    "\n",
    "\"\"\"\n",
    "Viết 1 hàm fibonacci(n) để tính số fibonacci thứ n bằng cách sử dụng đệ quy\n",
    "* Lưu ý: Dãy fibonacci được xác định bởi công thức: \n",
    "    F(0)=0\n",
    "    F(1)=1\n",
    "    F(n)=F(n-1)+F(n-2) với n>=2\n",
    "\"\"\""
   ]
  },
  {
   "cell_type": "code",
   "execution_count": 151,
   "id": "86ce0ad8-5c96-4198-9763-8ad060ca93c9",
   "metadata": {},
   "outputs": [
    {
     "name": "stdout",
     "output_type": "stream",
     "text": [
      "F ( 0 ) =  0\n",
      "F ( 1 ) =  1\n",
      "F ( 2 ) =  1\n",
      "F ( 3 ) =  2\n",
      "F ( 4 ) =  3\n",
      "F ( 5 ) =  5\n",
      "F ( 6 ) =  8\n",
      "F ( 7 ) =  13\n",
      "F ( 8 ) =  21\n",
      "F ( 9 ) =  34\n",
      "F ( 10 ) =  55\n"
     ]
    }
   ],
   "source": [
    "# Cách 1:\n",
    "def fibonacci(n):\n",
    "    if n<=0:\n",
    "        return 0\n",
    "    elif n==1:\n",
    "        return 1\n",
    "    else:\n",
    "        return fibonacci(n-1) + fibonacci(n-2)\n",
    "    \n",
    "for i in range(0,11,1):\n",
    "    print(\"F (\",i,\") = \",fibonacci(i))"
   ]
  },
  {
   "cell_type": "code",
   "execution_count": 23,
   "id": "3353864a-97bc-4627-bb01-dfcf12057f35",
   "metadata": {},
   "outputs": [
    {
     "name": "stdout",
     "output_type": "stream",
     "text": [
      "377\n"
     ]
    }
   ],
   "source": [
    "# Cách 2: có lẽ tiết kiệm thời gian chạy hơn\n",
    "def fibonacci(n):\n",
    "    fib=[0, 1]\n",
    "    for i in range(2, n+1):\n",
    "        fib.append(fib[i-1] + fib[i-2])\n",
    "    return fib[n]\n",
    "\n",
    "print(fibonacci(14))"
   ]
  },
  {
   "cell_type": "code",
   "execution_count": 4,
   "id": "0b824fb2-dfbe-4bd1-bf83-335ab3f0f090",
   "metadata": {},
   "outputs": [
    {
     "name": "stdout",
     "output_type": "stream",
     "text": [
      "1200\n"
     ]
    }
   ],
   "source": [
    "# Bài 5: Kết hợp reduce() và lambda function\n",
    "\n",
    "\"\"\"\n",
    "Sử dụng hàm reduce() từ module functools kết hợp với lambda function\n",
    "để tính tích của tất cả các phần tử trong danh sách, sau đó nhân kết quả với 10.\n",
    "\"\"\"\n",
    "\n",
    "from functools import reduce\n",
    "\n",
    "numbers = [1, 2, 3, 4, 5]\n",
    "product = reduce(lambda x, y: x * y, numbers, 10)\n",
    "\n",
    "\"\"\"\n",
    "Giải thích chi tiết:\n",
    "- Cú pháp:\n",
    "    from functools import reduce\n",
    "    reduce(function, iterable, initializer=None)\n",
    "\n",
    "    + function: là hàm nhận 2 đối số và trả về 1 giá trị\n",
    "    + iterable: danh sách (hoặc chuỗi, tuple...) cần xử lý\n",
    "    + initializer: giá trị khởi đầu (nếu có), sẽ được sử dụng làm đối số đầu tiên\n",
    "\n",
    "- Trong ví dụ này:\n",
    "    + Hàm 'lambda x, y: x * y' sẽ được áp dụng lần lượt cho từng phần tử trong danh sách\n",
    "    + Giá trị khởi đầu là 10, nên phép tính diễn ra như sau:\n",
    "        (((((10 * 1) * 2) * 3) * 4) * 5) = 1200\n",
    "\"\"\"\n",
    "\n",
    "print(product)  # Kết quả: 1200"
   ]
  },
  {
   "cell_type": "code",
   "execution_count": 14,
   "id": "4f44cff8-3803-460b-b7d3-c33ba72e6c71",
   "metadata": {},
   "outputs": [
    {
     "name": "stdout",
     "output_type": "stream",
     "text": [
      "Python is fun\n"
     ]
    }
   ],
   "source": [
    "# Ví dụ khác về reduce()\n",
    "# Bài tập: Nối chuỗi thành câu hoàn chỉnh.\n",
    "\n",
    "from functools import reduce\n",
    "\n",
    "words = [\"Python\", \"is\", \"fun\"]\n",
    "sentence = reduce(lambda x,y : x+\" \"+y, words)\n",
    "\n",
    "print(sentence)"
   ]
  },
  {
   "cell_type": "code",
   "execution_count": 50,
   "id": "761fa663-b6a1-4862-8119-70109196a931",
   "metadata": {},
   "outputs": [
    {
     "name": "stdout",
     "output_type": "stream",
     "text": [
      "10\n"
     ]
    }
   ],
   "source": [
    "# Bài 6: Hàm đệ quy tính tổng các chữ số\n",
    "\n",
    "\"\"\"\n",
    "Viết 1 hàm đệ quy  sum_of_digits(n) để tính tổng các chữ số của 1 số nguyên n.\n",
    "\"\"\"\n",
    "\n",
    "def sum_of_digits(n):    \n",
    "    if n == 0:\n",
    "        return 0\n",
    "    else:\n",
    "        return n%10 + sum_of_digits(n//10)\n",
    "    \n",
    "print(sum_of_digits(4321))   # Kết quả: 10 (4+3+2+1)"
   ]
  },
  {
   "cell_type": "code",
   "execution_count": 19,
   "id": "5e63f226-51b5-4d61-abdf-13bd9d9bd157",
   "metadata": {},
   "outputs": [
    {
     "name": "stdout",
     "output_type": "stream",
     "text": [
      "55\n"
     ]
    }
   ],
   "source": [
    "# Bài 7: Hàm tạo số fibonacci lớn nhất\n",
    "\n",
    "\"\"\"\n",
    "Viết 1 hàm largest_fibonacci_below(n) để tìm số fibonacci lớn nhất nhỏ hơn n\n",
    "\"\"\"\n",
    "\n",
    "def largest_fibonacci_below(n):\n",
    "    if(n == 0):\n",
    "        return 0\n",
    "    else:\n",
    "        fib = [0, 1]\n",
    "        for i in range(2, n + 89):   # 89 là tùy ý để đảm bảo chúng ta tạo ra đủ số Fibonacci\n",
    "            fib.append(fib[i-1]+ fib[i-2])\n",
    "            if(fib[i] <= n):\n",
    "               max_fib = fib[i]\n",
    "            else:\n",
    "                break\n",
    "        return max_fib\n",
    "    \n",
    "print(largest_fibonacci_below(60)) "
   ]
  },
  {
   "cell_type": "markdown",
   "id": "9bb07ffe-f9d7-490c-b93c-23b4ada5c622",
   "metadata": {},
   "source": [
    "# 18. Lập Trình Hướng Đối Tượng (OOP)"
   ]
  },
  {
   "cell_type": "code",
   "execution_count": null,
   "id": "3f6ea4e2-821a-43e3-90a7-c5e4483bf217",
   "metadata": {},
   "outputs": [],
   "source": [
    "\"\"\"\n",
    "- Lập trình hướng đối tượng (OOP - Object-Oriented Programming) là một phương pháp lập trình dựa \n",
    "trên các đối tượng, trong đó mỗi đối tượng có thể chứa dữ liệu (thuộc tính) và các phương thức \n",
    "(hành động) để thao tác với dữ liệu đó. \n",
    "\n",
    "- Lấy ví dụ: 1 lớp có 40 học sinh, mỗi học sinh đều có thông tin tên, tuổi, điểm và hành động làm bài KT,\n",
    "đó là những thông tin chung mà học sinh nào cũng có. Vì vậy, sẽ có 1 cái gọi là class, chứa cú pháp\n",
    "chung cho các thông tin đó. Và khi gọi ta chỉ cần sử dụng lại chúng cho từng học sinh.\n",
    "\"\"\""
   ]
  },
  {
   "cell_type": "code",
   "execution_count": 29,
   "id": "68c59382-62a1-4b2e-833b-bbfbefe12e03",
   "metadata": {},
   "outputs": [
    {
     "name": "stdout",
     "output_type": "stream",
     "text": [
      "Car: Vinfast, VF3, 2023\n",
      "Car: Toyota, Camry, 2020\n"
     ]
    }
   ],
   "source": [
    "# Bài 1: Class Car\n",
    "\n",
    "\"\"\"\n",
    "Yêu cầu: Tạo một lớp Car với các thuộc tính sau: make(hãng xe), model(mẫu xe), year(năm sản xuất). \n",
    "Thêm phương thức display_info để hiển thị thông tin của xe\n",
    "\"\"\"\n",
    "\n",
    "class car():\n",
    "    # constructor\n",
    "    def __init__(self, make, model, year):\n",
    "        self.make = make\n",
    "        self.model = model\n",
    "        self.year = year\n",
    "        \n",
    "    # Phương thức của car (method)\n",
    "    def display_info(self):\n",
    "        print(f'Car: {self.make}, {self.model}, {self.year}')\n",
    "\n",
    "# Các đối tượng (object) cụ thể của car\n",
    "car1=car(\"Vinfast\",\"VF3\",2023)\n",
    "car2=car(\"Toyota\",\"Camry\",2020)\n",
    "\n",
    "# Gọi từng object để xem thông tin\n",
    "car1.display_info()\n",
    "car2.display_info()"
   ]
  },
  {
   "cell_type": "code",
   "execution_count": 20,
   "id": "68cc89b1-df23-465d-a746-9830c8f97844",
   "metadata": {},
   "outputs": [
    {
     "name": "stdout",
     "output_type": "stream",
     "text": [
      "Quanh - 18 tuổi: Passing\n",
      "Anh - 17 tuổi: Game over\n",
      "Dinh - 15 tuổi: Passing\n"
     ]
    }
   ],
   "source": [
    "# Bài 2: Class student\n",
    "\n",
    "\"\"\"\n",
    "Yêu cầu: Tạo một lớp Student với các thuộc tính name, age, và grade.\n",
    "Thêm phương thức is_passing để kiểm tra xem sinh viên có vượt qua môn học hay không ?\n",
    "Lưu ý: (grade >= 60 thì qua).\n",
    "\"\"\"\n",
    "\n",
    "class student():\n",
    "    # Thông tin chung của student\n",
    "    def __init__(self, name, age, grade):\n",
    "        self.name = name\n",
    "        self.age = age\n",
    "        self.grade = grade\n",
    "    # Phương thức kiểm tra\n",
    "    def is_passing(self):\n",
    "        if(self.grade >= 60):\n",
    "            return \"Passing\"\n",
    "        else:\n",
    "            return \"Game over\"\n",
    "        \n",
    "# Thông tin chi tiết từng học sinh\n",
    "student1 = student(\"Quanh\", 18, 100)\n",
    "student2 = student(\"Anh\", 17, 50)\n",
    "student3 = student(\"Dinh\", 15, 99)\n",
    "\n",
    "# Sử dụng để quản lí xem ông nào pass exam\n",
    "print(f'{student1.name} - {student1.age} tuổi: {student1.is_passing()}')\n",
    "print(f'{student2.name} - {student2.age} tuổi: {student2.is_passing()}')\n",
    "print(f'{student3.name} - {student3.age} tuổi: {student3.is_passing()}')"
   ]
  },
  {
   "cell_type": "code",
   "execution_count": 96,
   "id": "a9b76d37-0f85-47d4-afdf-531497c4a134",
   "metadata": {},
   "outputs": [
    {
     "name": "stdout",
     "output_type": "stream",
     "text": [
      "Hình 1: Diện tích: 50, Chu vi: 30\n",
      "Hình 2: Diện tích: 12, Chu vi: 14\n"
     ]
    }
   ],
   "source": [
    "# Bài 3: Rectangle\n",
    "\n",
    "\"\"\"\n",
    "Yêu cầu: Tạo một lớp Rectangle với các thuộc tính width và height. \n",
    "Thêm các phương thức area (diện tích) và perimeter (chu vi).\n",
    "--> để tính toán diện tích và chu vi của hình chữ nhật.\n",
    "\"\"\"\n",
    "\n",
    "# 1.Những thông tin chung của 1 HCN:\n",
    "class rectangle():\n",
    "    # constructor\n",
    "    def __init__(self, width, height):\n",
    "        self.width = width\n",
    "        self.height = height\n",
    "    # Phương thức (method)\n",
    "    def area(self):\n",
    "        return \"Diện tích: \" + str(self.width*self.height)\n",
    "    def perimeter(self):\n",
    "        return \"Chu vi: \" + str((self.width+self.height)*2)\n",
    "        \n",
    "# 2.Khai báo chi tiết từng HCN sử dụng thông tin chung ở trên:\n",
    "rectangle1 = rectangle(10,5)\n",
    "rectangle2 = rectangle(3,4)\n",
    "\n",
    "# 3.Sử dụng phương thức với từng hình\n",
    "print(f'Hình 1: {rectangle1.area()}, {rectangle1.perimeter()}')\n",
    "print(f'Hình 2: {rectangle2.area()}, {rectangle2.perimeter()}')"
   ]
  },
  {
   "cell_type": "code",
   "execution_count": 102,
   "id": "6fadfa68-60b6-4d9e-b796-6e65b105b2be",
   "metadata": {},
   "outputs": [
    {
     "name": "stdout",
     "output_type": "stream",
     "text": [
      "Books in the library: \n",
      "Title: Antomic habits, Author: James Clear, Year_published: 2018\n",
      "Title: The Power of Now, Author: Eckhart Tolle, Year_published: 1997\n"
     ]
    }
   ],
   "source": [
    "# Bài 4: class general_book và class general_library\n",
    "\n",
    "\"\"\"\n",
    "Yêu cầu: \n",
    "- Tạo một class general_book với các thuộc tính title, author, và year_published. \n",
    "- Tạo một class general_library có danh sách các sách. \n",
    "Thêm các phương thức để thêm sách và hiển thị tất cả sách trong thư viện.\n",
    "\"\"\"\n",
    "\n",
    "class general_book():\n",
    "    # Hàm chứa thông tin của 1 quyển sách\n",
    "    def __init__(self, title, author, year_published):\n",
    "        self.title = title\n",
    "        self.author = author\n",
    "        self.year_publishef = year_published\n",
    "        \n",
    "    # Hàm hiển thị thông tin của 1 quyển sách\n",
    "    def display_info(self):\n",
    "        print(f'Title: {self.title}, Author: {self.author}, Year_published: {self.year_publishef}')\n",
    "\n",
    "class general_library():\n",
    "    # Hàm khởi tạo thư viện trống\n",
    "    def __init__(self):\n",
    "        self.books=[]\n",
    "        \n",
    "    # Hàm thêm sách vào library\n",
    "    def add_books(self,book):\n",
    "        self.books.append(book)\n",
    "        \n",
    "    # Hàm hiển thị tất cả các sách trong library\n",
    "    def display_books(self):\n",
    "        print(\"Books in the library: \")\n",
    "        for book in self.books:\n",
    "            book.display_info()\n",
    "\n",
    "# Khai báo từng quyển sách\n",
    "book1 = general_book(\"Antomic habits\", \"James Clear\", 2018)\n",
    "book2 = general_book(\"The Power of Now\", \"Eckhart Tolle\", 1997)\n",
    "\n",
    "# Khai báo thư viện Tạ Quang Bửu\n",
    "Tạ_Quang_Bửu_library = general_library()\n",
    "\n",
    "# Thêm sách vào thư viện Tạ Quang Bửu\n",
    "Tạ_Quang_Bửu_library.add_books(book1)\n",
    "Tạ_Quang_Bửu_library.add_books(book2)\n",
    "\n",
    "# Hiển thị sách trong thư viện Tạ Quang Bửu\n",
    "Tạ_Quang_Bửu_library.display_books()        "
   ]
  },
  {
   "cell_type": "code",
   "execution_count": 7,
   "id": "529da18c-e0fa-4043-a9c4-cf019071d844",
   "metadata": {},
   "outputs": [
    {
     "name": "stdout",
     "output_type": "stream",
     "text": [
      "Tk: QuanhLanhChanh, dư: $100\n",
      " \n",
      "Bạn vừa nạp $50 vào TK\n",
      "Số dư Tk hiện tại: $150\n",
      " \n",
      "Tao muốn rút $1000\n",
      "Đi ngủ đi !!\n"
     ]
    }
   ],
   "source": [
    "# Bài 5: class account\n",
    "\"\"\"\n",
    "Yêu cầu: Tạo một lớp Account với các thuộc tính nợ và dư.\n",
    "Thêm phương thức deposit (nạp tiền), withdraw (rút tiền), và display_infor (hiển thị thông tin TK)\n",
    "\"\"\"\n",
    "class account:\n",
    "    # Hàm khởi tạo thông tin\n",
    "    def __init__(self,owner,balance):\n",
    "        self.tên = owner\n",
    "        self.dư = balance\n",
    "    # Hàm có chức năng nạp tiền\n",
    "    def deposit(self,amount):\n",
    "        self.dư += amount\n",
    "        print(\" \")\n",
    "        print(f'Bạn vừa nạp ${amount} vào TK')\n",
    "        print(f'Số dư Tk hiện tại: ${self.dư}')\n",
    "    # Hàm có chức năng rút tiền\n",
    "    def withdraw(self,amount):\n",
    "        if (self.dư < amount):\n",
    "            print(\" \")\n",
    "            print(f'Tao muốn rút ${amount}')\n",
    "            print(\"Đi ngủ đi !!\")\n",
    "        else:\n",
    "            self.dư-=amount\n",
    "            print(\" \")\n",
    "            print(f'Bạn vừa rút: ${amount}')\n",
    "            print(f'Số dư Tk hiện tại: ${self.dư}')\n",
    "    # Hàm hiển thị thông tin (nợ, dư)\n",
    "    def display_info(self):\n",
    "        print(f'Tk: {self.tên}, dư: ${self.dư}')\n",
    "# Truyền vào thông tin tài khoản của Quanh và 1 số chức năng      \n",
    "Quanh_account = account(\"QuanhLanhChanh\",100)\n",
    "Quanh_account.display_info()\n",
    "Quanh_account.deposit(50)\n",
    "Quanh_account.withdraw(1000)\n",
    "# Mik có thể thêm thông tin của tài khoản bất kì khác nữa (^.^)"
   ]
  },
  {
   "cell_type": "code",
   "execution_count": 21,
   "id": "e94d4e46-8485-4433-8c85-c5d0e05c56ad",
   "metadata": {},
   "outputs": [
    {
     "name": "stdout",
     "output_type": "stream",
     "text": [
      "Hi, my name is P.A. I am 17.8 years old. I live at America\n",
      "My employee ID is P30003\n"
     ]
    }
   ],
   "source": [
    "# Bài 6: Kế thừa và lớp con\n",
    "\n",
    "\"\"\"\n",
    "1. Tạo một lớp Employee kế thừa từ lớp Person.\n",
    "2. Thêm thuộc tính employee_id và phương thức work.\n",
    "3. Cập nhật phương thức introduce để bao gồm ID nhân viên và thông tin công việc.\n",
    "\"\"\"\n",
    "\n",
    "class person:\n",
    "    def __init__(self, name, age, address):\n",
    "        self.name = name\n",
    "        self.age = age\n",
    "        self.address = address\n",
    "    def introduce_in_home(self):\n",
    "        print(f'Hi, my name is {self.name}. I am {self.age} years old. I live at {self.address}')\n",
    "    def update_address(self, new_address):\n",
    "        self.address = new_address\n",
    "        \n",
    "class employee(person):\n",
    "    def __init__(self, name, age, address, employee_id):\n",
    "        super().__init__(name, age, address)\n",
    "        self.employee_id = employee_id\n",
    "    def work(self):\n",
    "        print(f'{self.name} is working')\n",
    "    def introduce_in_company(self):\n",
    "        super().introduce_in_home()\n",
    "        print(f'My employee ID is {self.employee_id}')\n",
    "        \n",
    "employee1 = employee(\"P.A\",17.8,\"Hưng Yên\",\"P30003\")\n",
    "employee1.update_address(\"America\")\n",
    "employee1.introduce_in_company()"
   ]
  },
  {
   "cell_type": "code",
   "execution_count": 78,
   "id": "eb8a1fb9-ddf9-442b-8627-b5e6c6d58eb1",
   "metadata": {},
   "outputs": [
    {
     "name": "stdout",
     "output_type": "stream",
     "text": [
      "Diện tích: 72, Chu vi: 34\n",
      "Diện tích: 12635473.040000001, Chu vi: 12597.68\n"
     ]
    }
   ],
   "source": [
    "# Bài 7: Đa hình và lớp trừu tượng\n",
    "\n",
    "\"\"\"\n",
    "1.Tạo một lớp trừu tượng Shape với phương thức trừu tượng area và perimeter.\n",
    "2.Tạo các lớp Rectangle và Circle kế thừa từ Shape và triển khai các phương thức area và perimeter.\n",
    "\"\"\"\n",
    "\n",
    "from abc import ABC, abstractmethod\n",
    "\n",
    "class shape(ABC):\n",
    "    @abstractmethod\n",
    "    def area(self):\n",
    "        pass\n",
    "    @abstractmethod\n",
    "    def perimeter(self):\n",
    "        pass\n",
    "    \n",
    "class rectangle(shape):\n",
    "    def __init__(self, width, height):\n",
    "        self.width = width\n",
    "        self.height = height\n",
    "    def area(self):\n",
    "        return self.width*self.height\n",
    "    def perimeter(self):\n",
    "        return (self.width + self.height)*2\n",
    "    \n",
    "class circle(shape):\n",
    "    def __init__(self, radius):\n",
    "        self.radius = radius\n",
    "    def area(self):\n",
    "        return (self.radius**2)*3.14\n",
    "    def perimeter(self):\n",
    "        return self.radius*2*3.14\n",
    "    \n",
    "shapes = [rectangle(8,9),circle(2006)]\n",
    "\n",
    "for shape in shapes:\n",
    "    print(f'Diện tích: {shape.area()}, Chu vi: {shape.perimeter()}')        "
   ]
  },
  {
   "cell_type": "code",
   "execution_count": 22,
   "id": "9ccfb5f9-e9eb-48fa-a2e8-8ec766dfe65d",
   "metadata": {},
   "outputs": [
    {
     "name": "stdout",
     "output_type": "stream",
     "text": [
      "134\n"
     ]
    }
   ],
   "source": [
    "# Bài tập 8: Tính số ngày trong năm\n",
    "\n",
    "\"\"\"\n",
    "Yêu cầu: Tạo lớp Date với các thuộc tính ngày, tháng, năm.\n",
    "Phương thức: Trả về số thứ tự ngày trong năm (ví dụ: 1/1 = 1, 31/12 = 365 hoặc 366).\n",
    "\"\"\"\n",
    "\n",
    "class Date:\n",
    "    def __init__(self, ngay, thang, nam):\n",
    "        self.ngay = ngay\n",
    "        self.thang = thang\n",
    "        self.nam = nam\n",
    "\n",
    "    def ngay_trong_nam(self):\n",
    "        tong_ngay = 0\n",
    "        for m in range(1, self.thang):\n",
    "            if m in [1, 3, 5, 7, 8, 10, 12]:\n",
    "                tong_ngay += 31\n",
    "            elif m in [4, 6, 9, 11]:\n",
    "                tong_ngay += 30\n",
    "            else:  # Tháng 2\n",
    "                if (self.nam % 400 == 0 or (self.nam % 4 == 0 and self.nam % 100 != 0)):\n",
    "                    tong_ngay += 29  # Năm nhuận\n",
    "                else:\n",
    "                    tong_ngay += 28  # Năm không nhuận\n",
    "        tong_ngay += self.ngay\n",
    "        return tong_ngay\n",
    "\n",
    "# Ví dụ sử dụng\n",
    "dateA = Date(14, 5, 2022)\n",
    "print(dateA.ngay_trong_nam())  # Kết quả: 134"
   ]
  },
  {
   "cell_type": "markdown",
   "id": "459d3a48-f0e8-48a2-bb7e-ce08802515b7",
   "metadata": {},
   "source": [
    "# 19. Try và Except"
   ]
  },
  {
   "cell_type": "code",
   "execution_count": null,
   "id": "6f049605-34b6-43b1-89fc-2cfaba6478bc",
   "metadata": {},
   "outputs": [],
   "source": [
    "try:\n",
    "# Đoạn code dự đoán có lỗi\n",
    "except:\n",
    "# Hành động khi lỗi xảy ra\n",
    "else:\n",
    "# Thực thi đoạn này nếu như mã không có lỗi\n",
    "finally:\n",
    "# Cho phép thực thi mã, bất kể kết quả của các khối try có lỗi hay không"
   ]
  },
  {
   "cell_type": "code",
   "execution_count": 19,
   "id": "0ff70f9a-26a4-4c41-952e-653ca2d31d13",
   "metadata": {},
   "outputs": [
    {
     "name": "stdout",
     "output_type": "stream",
     "text": [
      "Nhập số nguyên a:  số năm\n",
      "Lỗi:  invalid literal for int() with base 10: 'số năm'\n",
      "Kết thúc chương trình.\n"
     ]
    }
   ],
   "source": [
    "try:\n",
    "    a=int(input(\"Nhập số nguyên a: \"))\n",
    "except Exception as e:\n",
    "    print(\"Lỗi: \",e)\n",
    "# Exception là tên 1 loại lỗi mình dự đoán và gán nó vào biến e để in ra\n",
    "# \"Exception as e\" không nhất thiết phải có\n",
    "else:\n",
    "    print(\"Không có lỗi xảy ra.\")\n",
    "finally:\n",
    "    print(\"Kết thúc chương trình.\")"
   ]
  },
  {
   "cell_type": "markdown",
   "id": "23d89c26-3d5f-4b9c-84ca-bfa6758b69a0",
   "metadata": {},
   "source": [
    "# 20. Một số lỗi phổ biến xuất hiện sau khối except"
   ]
  },
  {
   "cell_type": "code",
   "execution_count": 124,
   "id": "af9d4823-5d4d-46cf-80cc-7495316bd12f",
   "metadata": {},
   "outputs": [
    {
     "name": "stdout",
     "output_type": "stream",
     "text": [
      "Lỗi chia cho 0: division by zero\n"
     ]
    }
   ],
   "source": [
    "# 1.'ZeroDivisionError': Xảy ra khi thực hiện phép chia cho 0.\n",
    "try:\n",
    "    x = 1 / 0\n",
    "except ZeroDivisionError as e:\n",
    "    print(f\"Lỗi chia cho 0: {e}\")"
   ]
  },
  {
   "cell_type": "code",
   "execution_count": 24,
   "id": "15f2aa66-32c1-444e-9bcb-153d53d361c0",
   "metadata": {},
   "outputs": [
    {
     "name": "stdout",
     "output_type": "stream",
     "text": [
      "Lỗi giá trị: invalid literal for int() with base 10: 'abc'\n"
     ]
    }
   ],
   "source": [
    "# 2.'ValueError': Xảy ra khi một hàm hoặc phép toán nhận giá trị không hợp lệ.\n",
    "try:\n",
    "    x = int(\"abc\")\n",
    "except ValueError as e:\n",
    "    print(f\"Lỗi giá trị: {e}\")"
   ]
  },
  {
   "cell_type": "code",
   "execution_count": 26,
   "id": "6c44d015-6e8b-41d5-8d4b-6b31c14e38d7",
   "metadata": {},
   "outputs": [
    {
     "name": "stdout",
     "output_type": "stream",
     "text": [
      "Lỗi kiểu dữ liệu: can only concatenate str (not \"int\") to str\n"
     ]
    }
   ],
   "source": [
    "# 3.'TypeError': Xảy ra khi một phép toán hoặc hàm nhận đối số kiểu dữ liệu không hợp lệ.\n",
    "try:\n",
    "    x = \"string\" + 10\n",
    "except TypeError as e:\n",
    "    print(f\"Lỗi kiểu dữ liệu: {e}\")"
   ]
  },
  {
   "cell_type": "code",
   "execution_count": 118,
   "id": "23b20d21-1924-484c-9cc8-60e6b43a965b",
   "metadata": {},
   "outputs": [
    {
     "name": "stdout",
     "output_type": "stream",
     "text": [
      "Lỗi chỉ số: list index out of range\n"
     ]
    }
   ],
   "source": [
    "# 4.'IndexError': Xảy ra khi truy cập chỉ số không hợp lệ trong danh sách hoặc tuple.\n",
    "try:\n",
    "    list_n = [1, 2, 3]\n",
    "    x = list_n[10]\n",
    "except IndexError as e:\n",
    "    print(f\"Lỗi chỉ số: {e}\")"
   ]
  },
  {
   "cell_type": "code",
   "execution_count": 30,
   "id": "01f81cc1-0dfb-4e39-a421-19a73b2e1cd5",
   "metadata": {},
   "outputs": [
    {
     "name": "stdout",
     "output_type": "stream",
     "text": [
      "Lỗi khóa: 'b'\n"
     ]
    }
   ],
   "source": [
    "# 5.'KeyError': Xảy ra khi truy cập khóa không tồn tại trong từ điển.\n",
    "try:\n",
    "    d = {'a': 1}\n",
    "    x = d['b']\n",
    "except KeyError as e:\n",
    "    print(f\"Lỗi khóa: {e}\")"
   ]
  },
  {
   "cell_type": "code",
   "execution_count": 32,
   "id": "ed973a18-414a-44f9-8feb-f4a0c990d236",
   "metadata": {},
   "outputs": [
    {
     "name": "stdout",
     "output_type": "stream",
     "text": [
      "Lỗi tệp không tìm thấy: [Errno 2] No such file or directory: 'non_existent_file.txt'\n"
     ]
    }
   ],
   "source": [
    "# 6.'FileNotFoundError': Xảy ra khi cố gắng mở một tệp không tồn tại.\n",
    "try:\n",
    "    with open('non_existent_file.txt', 'r') as f:\n",
    "        content = f.read()\n",
    "except FileNotFoundError as e:\n",
    "    print(f\"Lỗi tệp không tìm thấy: {e}\")"
   ]
  },
  {
   "cell_type": "code",
   "execution_count": 34,
   "id": "fdd91bbe-d763-4d6f-9ef5-4fa7924e0516",
   "metadata": {},
   "outputs": [
    {
     "name": "stdout",
     "output_type": "stream",
     "text": [
      "Lỗi thuộc tính: 'NoneType' object has no attribute 'some_method'\n"
     ]
    }
   ],
   "source": [
    "# 7.'AttributeError': Xảy ra khi cố gắng truy cập thuộc tính không tồn tại của một đối tượng.\n",
    "try:\n",
    "    x = None\n",
    "    x.some_method()\n",
    "except AttributeError as e:\n",
    "    print(f\"Lỗi thuộc tính: {e}\")"
   ]
  },
  {
   "cell_type": "code",
   "execution_count": 44,
   "id": "f9ca912d-dfd9-4bb4-bc79-51404a01bd9d",
   "metadata": {},
   "outputs": [
    {
     "name": "stdout",
     "output_type": "stream",
     "text": [
      "Lỗi bất kỳ: division by zero\n"
     ]
    }
   ],
   "source": [
    "# 8.'Exception': Là lớp cơ sở cho tất cả các lỗi trong Python. \n",
    "# Bạn có thể bắt tất cả các loại lỗi bằng cách sử dụng except Exception \n",
    "# (cần lưu ý rằng việc bắt tất cả lỗi có thể không phải là cách tốt nhất trong tất cả các trường hợp).\n",
    "try:\n",
    "    x = 1 / 0\n",
    "except Exception as e:\n",
    "    print(f\"Lỗi bất kỳ: {e}\")"
   ]
  },
  {
   "cell_type": "markdown",
   "id": "168e781c-a430-4fff-93fb-f37643ba722c",
   "metadata": {},
   "source": [
    "# 21. Xử lí file"
   ]
  },
  {
   "cell_type": "code",
   "execution_count": 24,
   "id": "ea09e8eb-f3b5-4a4e-9cd6-f4ecc91ed723",
   "metadata": {},
   "outputs": [
    {
     "name": "stdout",
     "output_type": "stream",
     "text": [
      "[Errno 17] File exists: 'vidu1.txt'\n"
     ]
    }
   ],
   "source": [
    "# 1. \"x\" - Tạo file  |  open() - Mở file\n",
    "\n",
    "\"\"\"\n",
    "file = open(\"vidu1.txt\",\"x\")\n",
    "file.close()\n",
    "--> Tạo file vidu1.txt.\n",
    "--> Khi thao tác xong nên có lệnh close() để giải phóng tài nguyên hệ thống.\n",
    "--> Lệnh close còn đảm bảo mọi lệnh được thực thi.\n",
    "\"\"\"\n",
    "\n",
    "# Nếu file đã tồn tại mà vẫn chạy thì bị lỗi\n",
    "\n",
    "try:\n",
    "    file = open(\"vidu1.txt\",\"x\")\n",
    "except Exception as e:\n",
    "    print(e)\n",
    "finally:\n",
    "    file.close()"
   ]
  },
  {
   "cell_type": "code",
   "execution_count": 25,
   "id": "2bb54b78-877c-47fb-a07a-f1e05c605385",
   "metadata": {},
   "outputs": [],
   "source": [
    "# 2. \"w\" - Mở tệp để ghi. Nếu tệp đã tồn tại, nội dung tệp sẽ bị ghi đè.\n",
    "file = open(\"vidu1.txt\",\"w\")\n",
    "file.write(\"Xin chào.\")\n",
    "file.flush()"
   ]
  },
  {
   "cell_type": "code",
   "execution_count": 26,
   "id": "0f2d478a-e380-4744-8c39-4fba49dfe952",
   "metadata": {},
   "outputs": [],
   "source": [
    "# 3. \"a\" - Mở tệp để ghi vào cuối tệp mà không xóa nội dung hiện tại.\n",
    "file = open(\"vidu1.txt\",\"a\")\n",
    "file.write(\"\\nTôi là Quang Anh\")\n",
    "file.close()"
   ]
  },
  {
   "cell_type": "code",
   "execution_count": 27,
   "id": "850c8bda-3ee6-4c53-a825-38755cee9cd4",
   "metadata": {},
   "outputs": [
    {
     "name": "stdout",
     "output_type": "stream",
     "text": [
      "1. Đọc toàn bộ nội dung:\n",
      "Xin chào.\n",
      "Tôi là Quang Anh\n",
      "\n",
      "2. Đọc nội dung theo dòng vào 1 list:\n",
      "['Xin chào.\\n', 'Tôi là Quang Anh']\n"
     ]
    }
   ],
   "source": [
    "# 4. \"r\" - Đọc file\n",
    "\n",
    "\"\"\"\n",
    "- read(size): Đọc một số byte nhất định từ tệp. \n",
    "              Nếu không chỉ định kích thước, nó sẽ đọc toàn bộ nội dung.\n",
    "- readline(): Đọc một dòng từ tệp.\n",
    "- readlines(): Đọc tất cả các dòng từ tệp & trả về danh sách từng dòng là 1 phần tử trg list.\n",
    "\n",
    "\"\"\"\n",
    "\n",
    "# Đọc toàn bộ nội dung:\n",
    "print(\"1. Đọc toàn bộ nội dung:\")\n",
    "file = open(\"vidu1.txt\",\"r\")\n",
    "noidung = file.read()\n",
    "print(noidung)\n",
    "file.close()\n",
    "\n",
    "# Đọc nội dung theo dòng vào 1 list\n",
    "print(\"\\n2. Đọc nội dung theo dòng vào 1 list:\")\n",
    "with open(\"vidu1.txt\",\"r\") as f:\n",
    "    list_noidung = f.readlines()\n",
    "    print(list_noidung)"
   ]
  },
  {
   "cell_type": "markdown",
   "id": "fe95125d-fe8e-44ed-95e7-8e9b6c83616b",
   "metadata": {},
   "source": [
    "# Một số bài luyện tập các kiến thức đã học"
   ]
  },
  {
   "cell_type": "code",
   "execution_count": 74,
   "id": "754b8443-20e0-4472-b906-02b88f860f7a",
   "metadata": {},
   "outputs": [
    {
     "name": "stdout",
     "output_type": "stream",
     "text": [
      "120\n"
     ]
    }
   ],
   "source": [
    "# Bài tập 1: tính giai thừa (đệ quy)\n",
    "def factorial(n):\n",
    "    if n==0:\n",
    "        return 1\n",
    "    else:\n",
    "        return n*factorial(n-1)\n",
    "    \n",
    "print(factorial(5))"
   ]
  },
  {
   "cell_type": "code",
   "execution_count": 76,
   "id": "915f95f1-2186-4560-bd5a-6cfcd1edbfac",
   "metadata": {},
   "outputs": [
    {
     "name": "stdout",
     "output_type": "stream",
     "text": [
      "55\n"
     ]
    }
   ],
   "source": [
    "# Bài tập 2: Dãy fibonacci (đệ quy)\n",
    "def fibonacci(n):\n",
    "    if n==1:\n",
    "        return 1\n",
    "    if n==0:\n",
    "        return 0\n",
    "    else:\n",
    "        return fibonacci(n-1) + fibonacci(n-2)\n",
    "    \n",
    "print(fibonacci(10))      "
   ]
  },
  {
   "cell_type": "code",
   "execution_count": 78,
   "id": "0b492db6-2a5c-43e1-98f7-4dc9a7b208e3",
   "metadata": {},
   "outputs": [
    {
     "name": "stdout",
     "output_type": "stream",
     "text": [
      "3\n"
     ]
    }
   ],
   "source": [
    "# Bài tập 3: Đếm số bước trong tháp Hà Nội (đệ quy)\n",
    "\n",
    "\"\"\"\n",
    "Đề bài:\n",
    "1. Bạn có ba cột (tháp) và một số đĩa có kích thước khác nhau.\n",
    "2. Các đĩa bắt đầu trên một cột, được xếp từ nhỏ đến lớn\n",
    "(đĩa nhỏ hơn ở trên cùng và đĩa lớn hơn ở dưới cùng).\n",
    "3. Mục tiêu là di chuyển tất cả các đĩa từ cột ban đầu sang cột đích, sử dụng cột thứ ba \n",
    "như là cột phụ trợ, với các điều kiện sau:\n",
    "    + Bạn chỉ được di chuyển một đĩa tại một thời điểm.\n",
    "    + Một đĩa không thể đặt lên trên đĩa nhỏ hơn.\n",
    "\n",
    "Yêu cầu:  \n",
    "Viết một hàm đệ quy tính toán số lần di chuyển tối thiểu cần thiết để di chuyển n đĩa từ \n",
    "thanh ban đầu đến thanh đích.\n",
    "\"\"\"\n",
    "\n",
    "def step(n):\n",
    "    if n==1:\n",
    "        return 1\n",
    "    else:\n",
    "        return 2* step(n-1) +1\n",
    "    \n",
    "print(step(2))"
   ]
  },
  {
   "cell_type": "code",
   "execution_count": 28,
   "id": "201349a8-9add-4227-8ad8-f4a50c3ec6af",
   "metadata": {},
   "outputs": [
    {
     "name": "stdout",
     "output_type": "stream",
     "text": [
      "Giá trị 11 được tìm thấy tại chỉ số 5.\n"
     ]
    }
   ],
   "source": [
    "# Bài tập 4: Tìm kiếm nhị phân\n",
    "\n",
    "\"\"\"\n",
    "Tìm kiếm nhị phân là một thuật toán tìm kiếm hiệu quả trên danh sách đã được sắp xếp.\n",
    "Nó hoạt động bằng cách lặp đi lặp lại chia đôi khoảng tìm kiếm.\n",
    "Ở mỗi bước, thuật toán so sánh giá trị cần tìm với phần tử giữa của khoảng hiện tại:\n",
    "- Nếu bằng nhau, tìm thấy giá trị cần tìm.\n",
    "- Nếu giá trị cần tìm lớn hơn, tiếp tục tìm ở nửa bên phải.\n",
    "- Nếu giá trị cần tìm nhỏ hơn, tiếp tục tìm ở nửa bên trái.\n",
    "Quá trình này lặp lại cho đến khi tìm được giá trị hoặc khoảng tìm kiếm rỗng.\n",
    "\"\"\"\n",
    "\n",
    "def binary_search(arr, target):\n",
    "    low = 0\n",
    "    high = len(arr) - 1\n",
    "\n",
    "    while low <= high:\n",
    "        mid = (low + high) // 2\n",
    "        if arr[mid] == target:\n",
    "            return mid  # Tìm thấy\n",
    "        elif arr[mid] < target:\n",
    "            low = mid + 1  # Tìm nửa bên phải\n",
    "        else:\n",
    "            high = mid - 1  # Tìm nửa bên trái\n",
    "\n",
    "    return -1  # Không tìm thấy\n",
    "\n",
    "arr = [1, 2, 4, 6, 7, 11, 15, 16, 17]\n",
    "target = 11\n",
    "index = binary_search(arr, target)\n",
    "\n",
    "if index != -1:\n",
    "    print(f'Giá trị {target} được tìm thấy tại chỉ số {index}.')\n",
    "else:\n",
    "    print(f'Giá trị {target} không có trong danh sách.')"
   ]
  },
  {
   "cell_type": "code",
   "execution_count": 98,
   "id": "c9477cc8-f810-4454-9c1e-69aed985dbb9",
   "metadata": {},
   "outputs": [
    {
     "name": "stdout",
     "output_type": "stream",
     "text": [
      "Nhập số người n:  11\n",
      "Nhập số k:  12\n",
      "Người sống sót cuối cùng là người số: 11\n",
      "Danh sách những người bị loại theo thứ tự: [1, 3, 6, 10, 7, 5, 9, 8, 4, 2]\n"
     ]
    }
   ],
   "source": [
    "# Bài tập 5: Bài toán Josephus\n",
    "\n",
    "\"\"\"\n",
    "- Đề bài:\n",
    "    Trong một nhóm gồm n người đứng thành vòng tròn, người ta lần lượt đếm từng người theo thứ tự.\n",
    "    Người thứ k sẽ bị loại khỏi vòng. Quá trình này tiếp tục lặp lại trên những người còn lại,\n",
    "    cho đến khi chỉ còn lại một người sống sót.\n",
    "\n",
    "- Yêu cầu:\n",
    "    + Xác định vị trí của người sống sót cuối cùng (vị trí đánh số từ 1).\n",
    "    + In ra danh sách những người đã bị loại theo thứ tự loại.\n",
    "\"\"\"\n",
    "\n",
    "# Cách 1:\n",
    "\n",
    "n = int(input(\"Nhập số người n: \"))\n",
    "k = int(input(\"Nhập số k: \"))\n",
    "nguoi = []\n",
    "danhsachxoa = []\n",
    "\n",
    "for i in range(1, n+1):\n",
    "     nguoi.append(i)\n",
    "        \n",
    "j = k-1\n",
    "while True:\n",
    "    while(j > len(nguoi)-1):\n",
    "        j = j-len(nguoi)\n",
    "    danhsachxoa.append(nguoi[j])\n",
    "    nguoi.pop(j)\n",
    "    j = j-1+k  \n",
    "    if(len(nguoi) == 1):\n",
    "        break\n",
    "        \n",
    "print(f'Người sống sót cuối cùng là người số: {nguoi[0]}')\n",
    "print(f'Danh sách những người bị loại theo thứ tự: {danhsachxoa}')"
   ]
  },
  {
   "cell_type": "code",
   "execution_count": 102,
   "id": "be281714-7425-44bc-96eb-a17193385aae",
   "metadata": {},
   "outputs": [
    {
     "name": "stdout",
     "output_type": "stream",
     "text": [
      "Người cuối cùng còn sống là người số 11.\n"
     ]
    }
   ],
   "source": [
    "# Cách 2:\n",
    "\n",
    "def josephus(n, k):\n",
    "    # Cơ sở: Nếu chỉ còn 1 người, vị trí là 0\n",
    "    if n == 1:\n",
    "        return 0\n",
    "    else:\n",
    "        # Áp dụng công thức đệ quy\n",
    "        return (josephus(n - 1, k) + k) % n\n",
    "\n",
    "def josephus_position(n, k):\n",
    "    # Chuyển đổi từ chỉ số 0-based sang 1-based\n",
    "    return josephus(n, k) + 1\n",
    "\n",
    "position = josephus_position(11, 12)\n",
    "print(f\"Người cuối cùng còn sống là người số {position}.\")"
   ]
  }
 ],
 "metadata": {
  "kernelspec": {
   "display_name": "Python 3 (ipykernel)",
   "language": "python",
   "name": "python3"
  },
  "language_info": {
   "codemirror_mode": {
    "name": "ipython",
    "version": 3
   },
   "file_extension": ".py",
   "mimetype": "text/x-python",
   "name": "python",
   "nbconvert_exporter": "python",
   "pygments_lexer": "ipython3",
   "version": "3.12.3"
  }
 },
 "nbformat": 4,
 "nbformat_minor": 5
}
